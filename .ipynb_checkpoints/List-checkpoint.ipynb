{
 "cells": [
  {
   "cell_type": "code",
   "execution_count": 61,
   "id": "be8d945a-fcad-4866-9f9e-830726b43f4f",
   "metadata": {},
   "outputs": [
    {
     "data": {
      "text/plain": [
       "['element']"
      ]
     },
     "execution_count": 61,
     "metadata": {},
     "output_type": "execute_result"
    }
   ],
   "source": [
    "list1=[]\n",
    "list1.append(\"element\")\n",
    "list1"
   ]
  },
  {
   "cell_type": "code",
   "execution_count": 62,
   "id": "71fbf580-be64-4d9c-bfb7-58d8e6f90e7c",
   "metadata": {},
   "outputs": [
    {
     "name": "stdout",
     "output_type": "stream",
     "text": [
      "['element', 'jdv', 'wdj']\n"
     ]
    }
   ],
   "source": [
    "list1.extend(['jdv','wdj'])\n",
    "print(list1)"
   ]
  },
  {
   "cell_type": "code",
   "execution_count": 63,
   "id": "4ec961df-a887-4dbd-99c5-e020c7ec5481",
   "metadata": {},
   "outputs": [
    {
     "data": {
      "text/plain": [
       "'wdj'"
      ]
     },
     "execution_count": 63,
     "metadata": {},
     "output_type": "execute_result"
    }
   ],
   "source": [
    "list1[2]"
   ]
  },
  {
   "cell_type": "code",
   "execution_count": 64,
   "id": "a8a1344c-5912-4fea-b2f8-5afe250d7dd3",
   "metadata": {},
   "outputs": [
    {
     "data": {
      "text/plain": [
       "3"
      ]
     },
     "execution_count": 64,
     "metadata": {},
     "output_type": "execute_result"
    }
   ],
   "source": [
    "len(list1)"
   ]
  },
  {
   "cell_type": "code",
   "execution_count": 65,
   "id": "aa3fa47b-157b-40c8-8afe-07694d3fe0e9",
   "metadata": {},
   "outputs": [
    {
     "name": "stdout",
     "output_type": "stream",
     "text": [
      "['dwjv', 'element', 'jdv', 'wdj']\n"
     ]
    }
   ],
   "source": [
    "list1.insert(0,'dwjv')#at the first place index number and at second the thing which you want to change\n",
    "print(list1)"
   ]
  },
  {
   "cell_type": "code",
   "execution_count": 66,
   "id": "5180148b-4342-4719-8135-658fef3b62a7",
   "metadata": {},
   "outputs": [
    {
     "name": "stdout",
     "output_type": "stream",
     "text": [
      "['dwjv', 'element', 'jdv', ['jahsv', 'dhc'], 'wdj']\n"
     ]
    }
   ],
   "source": [
    "list1.insert(3,['jahsv','dhc'])#nested list\n",
    "print(list1)"
   ]
  },
  {
   "cell_type": "code",
   "execution_count": 67,
   "id": "65d782e3-e23c-46c7-a3d1-dfd5b3c88728",
   "metadata": {},
   "outputs": [
    {
     "data": {
      "text/plain": [
       "'jahsv'"
      ]
     },
     "execution_count": 67,
     "metadata": {},
     "output_type": "execute_result"
    }
   ],
   "source": [
    "list1[3][0]"
   ]
  },
  {
   "cell_type": "code",
   "execution_count": 68,
   "id": "716f70dd-e534-4e1c-a102-94d5b5d4ab3e",
   "metadata": {},
   "outputs": [
    {
     "name": "stdout",
     "output_type": "stream",
     "text": [
      "['dwjv', 'element', 'jdv', ['jahsv', 'dhc'], 'wdj']\n"
     ]
    }
   ],
   "source": [
    "print(list1)"
   ]
  },
  {
   "cell_type": "code",
   "execution_count": 70,
   "id": "351463ed-b3db-447a-9e2b-4fe382df9377",
   "metadata": {},
   "outputs": [
    {
     "name": "stdout",
     "output_type": "stream",
     "text": [
      "['dwjv', 'jdv', ['jahsv', 'dhc'], 'wdj']\n"
     ]
    }
   ],
   "source": [
    "list1.remove('element')\n",
    "print(list1)"
   ]
  },
  {
   "cell_type": "code",
   "execution_count": 71,
   "id": "b9b72c24-f40f-4ce3-8429-ce9718934bd0",
   "metadata": {},
   "outputs": [
    {
     "name": "stdout",
     "output_type": "stream",
     "text": [
      "['dwjv', 'jdv', ['dhc'], 'wdj']\n"
     ]
    }
   ],
   "source": [
    "list1[2].pop(0)\n",
    "print(list1)"
   ]
  },
  {
   "cell_type": "code",
   "execution_count": 72,
   "id": "43dab708-5edf-40ef-b9d8-4657161e8263",
   "metadata": {},
   "outputs": [
    {
     "name": "stdout",
     "output_type": "stream",
     "text": [
      "['dwjv', 'jdv', [], 'wdj']\n"
     ]
    }
   ],
   "source": [
    "list1[2].remove('dhc')\n",
    "print(list1)"
   ]
  },
  {
   "cell_type": "code",
   "execution_count": 73,
   "id": "ce3ab663-d09a-49de-a796-31b8882dc265",
   "metadata": {},
   "outputs": [
    {
     "name": "stdout",
     "output_type": "stream",
     "text": [
      "['dwjv', 'jdv', []]\n"
     ]
    }
   ],
   "source": [
    "list1.pop()\n",
    "print(list1)"
   ]
  },
  {
   "cell_type": "code",
   "execution_count": 76,
   "id": "09d344c3-50f7-409d-b20a-50bd25ee410b",
   "metadata": {},
   "outputs": [
    {
     "name": "stdout",
     "output_type": "stream",
     "text": [
      "['dwjv', 'jdv', [], ['hgd', 'hsv'], ['hgd', 'hsv']]\n"
     ]
    }
   ],
   "source": [
    "list1.append(['hgd','hsv'])\n",
    "print(list1)"
   ]
  },
  {
   "cell_type": "code",
   "execution_count": 77,
   "id": "957e8590-6501-48b0-b618-61072ec480e3",
   "metadata": {},
   "outputs": [
    {
     "data": {
      "text/plain": [
       "['dwjv', 'jdv', [], ['hgd', 'hsv']]"
      ]
     },
     "execution_count": 77,
     "metadata": {},
     "output_type": "execute_result"
    }
   ],
   "source": [
    "list1.pop()\n",
    "list1"
   ]
  },
  {
   "cell_type": "code",
   "execution_count": 82,
   "id": "0be0b4d3-a535-4139-82ed-9d81885e3d0a",
   "metadata": {},
   "outputs": [
    {
     "data": {
      "text/plain": [
       "['Ace', 'BIO', 'cSe', 'sqvq']"
      ]
     },
     "execution_count": 82,
     "metadata": {},
     "output_type": "execute_result"
    }
   ],
   "source": [
    "l=['BIO','cSe','Ace','sqvq']\n",
    "l.sort()\n",
    "l"
   ]
  },
  {
   "cell_type": "code",
   "execution_count": 83,
   "id": "5c473b0f-a74b-4091-bbbd-a10ed12fbd4e",
   "metadata": {},
   "outputs": [
    {
     "data": {
      "text/plain": [
       "['sqvq', 'cSe', 'BIO', 'Ace']"
      ]
     },
     "execution_count": 83,
     "metadata": {},
     "output_type": "execute_result"
    }
   ],
   "source": [
    "l.reverse()\n",
    "l"
   ]
  },
  {
   "cell_type": "code",
   "execution_count": 85,
   "id": "ea2b6ccd-8f94-418b-9dd6-64be2aea3b90",
   "metadata": {},
   "outputs": [
    {
     "data": {
      "text/plain": [
       "['Ace', 'BIO', 'cSe', 'sqvq']"
      ]
     },
     "execution_count": 85,
     "metadata": {},
     "output_type": "execute_result"
    }
   ],
   "source": [
    "l.sort(reverse=False)\n",
    "l"
   ]
  },
  {
   "cell_type": "code",
   "execution_count": 119,
   "id": "58861edf-69bc-4a12-aa6d-bf9c6142b413",
   "metadata": {},
   "outputs": [
    {
     "data": {
      "text/plain": [
       "['1', '10', '15', 'Ace', 'Cse', 'False', 'True', 'abc']"
      ]
     },
     "execution_count": 119,
     "metadata": {},
     "output_type": "execute_result"
    }
   ],
   "source": [
    "l3=[\"Ace\",'1','15','10',\"Cse\",'abc','True','False']\n",
    "l3.sort()\n",
    "l3"
   ]
  },
  {
   "cell_type": "code",
   "execution_count": 97,
   "id": "072c63f0-b3fd-4348-8a95-a7479e912a8f",
   "metadata": {},
   "outputs": [
    {
     "data": {
      "text/plain": [
       "['Ace', 'BIO', 'cSe', 'sqvq']"
      ]
     },
     "execution_count": 97,
     "metadata": {},
     "output_type": "execute_result"
    }
   ],
   "source": [
    "l2=l.copy()\n",
    "l2"
   ]
  },
  {
   "cell_type": "code",
   "execution_count": 104,
   "id": "a02398f3-ad90-43c8-ac56-3856ebbe7020",
   "metadata": {},
   "outputs": [
    {
     "data": {
      "text/plain": [
       "['Ace', 'BIO', 'cSe']"
      ]
     },
     "execution_count": 104,
     "metadata": {},
     "output_type": "execute_result"
    }
   ],
   "source": [
    "l2[:3:1]"
   ]
  },
  {
   "cell_type": "code",
   "execution_count": 113,
   "id": "7d10c4e9-4877-4c5c-ab8e-c849b9fc3b92",
   "metadata": {},
   "outputs": [
    {
     "data": {
      "text/plain": [
       "['Ace', 'BIO']"
      ]
     },
     "execution_count": 113,
     "metadata": {},
     "output_type": "execute_result"
    }
   ],
   "source": [
    "del l2[2]\n",
    "l2"
   ]
  },
  {
   "cell_type": "code",
   "execution_count": 116,
   "id": "09e90bf5-7b4d-4eac-8079-797ecd0d8ec2",
   "metadata": {},
   "outputs": [
    {
     "name": "stdout",
     "output_type": "stream",
     "text": [
      "65 110 52\n"
     ]
    }
   ],
   "source": [
    "#ASCII VALUE\n",
    "a=ord('A')\n",
    "b=ord('n')\n",
    "c=ord('4')\n",
    "print(a,b,c)"
   ]
  },
  {
   "cell_type": "code",
   "execution_count": 118,
   "id": "41c6ad15-0880-4b67-8d2b-3d7449699920",
   "metadata": {},
   "outputs": [
    {
     "data": {
      "text/plain": [
       "'n'"
      ]
     },
     "execution_count": 118,
     "metadata": {},
     "output_type": "execute_result"
    }
   ],
   "source": [
    "chr(110)"
   ]
  },
  {
   "cell_type": "code",
   "execution_count": 141,
   "id": "92d6d2b8-100f-4b42-b846-e8f247e418f6",
   "metadata": {},
   "outputs": [
    {
     "name": "stdout",
     "output_type": "stream",
     "text": [
      "6\n",
      "21\n",
      "1\n"
     ]
    }
   ],
   "source": [
    "l=[1,2,3,4,5,6]\n",
    "print(max(l))\n",
    "print(sum(l))\n",
    "print(min(l))"
   ]
  },
  {
   "cell_type": "code",
   "execution_count": 144,
   "id": "f4c9590b-7506-440b-83a4-07554d5aa90e",
   "metadata": {},
   "outputs": [
    {
     "name": "stdout",
     "output_type": "stream",
     "text": [
      "[5, 67, 9, 'Ahg', 'Cfsh', 'ahgx']\n"
     ]
    }
   ],
   "source": [
    "#if it is str sorting done based on ascii value\n",
    "a=[9,67,5,'ahgx','Ahg','Cfsh']\n",
    "b=sorted(a,key=str)\n",
    "print(b)"
   ]
  },
  {
   "cell_type": "code",
   "execution_count": 146,
   "id": "f3e5eef5-7f73-403e-ad32-8ce7bc7b4fa4",
   "metadata": {},
   "outputs": [
    {
     "name": "stdout",
     "output_type": "stream",
     "text": [
      "['abcd', 'hsagv', 'dhcbfd', 'shsbxjdah']\n"
     ]
    }
   ],
   "source": [
    "#if it is len it's not done with ascii value \n",
    "name=['shsbxjdah','abcd','dhcbfd','hsagv']\n",
    "c=sorted(name,key=len)\n",
    "print(c)"
   ]
  },
  {
   "cell_type": "code",
   "execution_count": 185,
   "id": "4a3d6ff4-03c8-4965-a63f-5b98b580c5fa",
   "metadata": {},
   "outputs": [
    {
     "data": {
      "text/plain": [
       "[[1, 2, 3], [7, 8, 9]]"
      ]
     },
     "execution_count": 185,
     "metadata": {},
     "output_type": "execute_result"
    }
   ],
   "source": [
    "#nested list\n",
    "mat=[[1,2,3],[4,5,6],[7,8,9]]\n",
    "mat.append([10,11,12])\n",
    "mat[3][0:2:1]\n",
    "mat[0::2]"
   ]
  },
  {
   "cell_type": "code",
   "execution_count": 188,
   "id": "533ca825-421c-474d-a4b5-4191b105602b",
   "metadata": {},
   "outputs": [
    {
     "data": {
      "text/plain": [
       "[[1, 2, 3], [4, 5, 6], [7, 8, 9], [10, 13, 14]]"
      ]
     },
     "execution_count": 188,
     "metadata": {},
     "output_type": "execute_result"
    }
   ],
   "source": [
    "#value updation\n",
    "mat[3][1:]=[13,14]\n",
    "mat"
   ]
  },
  {
   "cell_type": "code",
   "execution_count": 191,
   "id": "43e536a8-874d-4bb7-85fc-722c1a1ea00b",
   "metadata": {},
   "outputs": [
    {
     "data": {
      "text/plain": [
       "[[1, 2, 3], [4, 5, 6], [12, 8, 11], [10, 13, 14]]"
      ]
     },
     "execution_count": 191,
     "metadata": {},
     "output_type": "execute_result"
    }
   ],
   "source": [
    "mat[2][0::2]=[12,11]\n",
    "mat"
   ]
  },
  {
   "cell_type": "code",
   "execution_count": 211,
   "id": "c1850296-5ebe-4c38-b5ca-9ab787a64c12",
   "metadata": {},
   "outputs": [
    {
     "name": "stdout",
     "output_type": "stream",
     "text": [
      "a:E\n",
      "b:B\n",
      "['a:E', 'b:B', '266', '265']\n"
     ]
    }
   ],
   "source": [
    "students=[['Alice',85,92,78],['Bob',78,81,88],['Charlie',90,85,91],['Diana',92,89,84]]\n",
    "#res=[a:E,b:B,266,265]\n",
    "a=students[0][0][0].lower()\n",
    "b=students[0][0][4].upper()\n",
    "r=a+\" \"+b\n",
    "s=r.split(\" \")\n",
    "p=\":\".join(s)\n",
    "print(p)\n",
    "c=students[1][0][0].lower()\n",
    "d=students[1][0][2].upper()\n",
    "r=c+\" \"+d\n",
    "f=r.split(\" \")\n",
    "n=\":\".join(f)\n",
    "print(n)\n",
    "res=[p,n]\n",
    "res.extend(['266','265'])\n",
    "print(res)"
   ]
  },
  {
   "cell_type": "code",
   "execution_count": null,
   "id": "6e1adf1c-793f-4484-a81d-99b71b89ac73",
   "metadata": {},
   "outputs": [],
   "source": []
  }
 ],
 "metadata": {
  "kernelspec": {
   "display_name": "Python 3 (ipykernel)",
   "language": "python",
   "name": "python3"
  },
  "language_info": {
   "codemirror_mode": {
    "name": "ipython",
    "version": 3
   },
   "file_extension": ".py",
   "mimetype": "text/x-python",
   "name": "python",
   "nbconvert_exporter": "python",
   "pygments_lexer": "ipython3",
   "version": "3.11.7"
  }
 },
 "nbformat": 4,
 "nbformat_minor": 5
}
