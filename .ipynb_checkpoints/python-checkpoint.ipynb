{
 "cells": [
  {
   "cell_type": "code",
   "execution_count": 17,
   "id": "514a67a2-17e5-41b5-8265-3c992247eb06",
   "metadata": {},
   "outputs": [
    {
     "name": "stdout",
     "output_type": "stream",
     "text": [
      "10\n",
      "39.75\n",
      "datamites\n"
     ]
    },
    {
     "data": {
      "text/plain": [
       "'dskjvcdskhvbsdv'"
      ]
     },
     "execution_count": 17,
     "metadata": {},
     "output_type": "execute_result"
    }
   ],
   "source": [
    "var1=10\n",
    "var2=20\n",
    "name=str(\"datamites\")\n",
    "var3='dskjvcdskhvbsdv'\n",
    "var4=19.75\n",
    "print(var1)\n",
    "print(var2+var4)\n",
    "print(name)\n",
    "var3"
   ]
  },
  {
   "cell_type": "code",
   "execution_count": 20,
   "id": "0a7981d8-0738-42c4-a1ce-586f559b4955",
   "metadata": {},
   "outputs": [
    {
     "name": "stdout",
     "output_type": "stream",
     "text": [
      "314.0\n"
     ]
    }
   ],
   "source": [
    "pi=3.14\n",
    "r=10\n",
    "print(pi*(r**2))"
   ]
  },
  {
   "cell_type": "code",
   "execution_count": 24,
   "id": "f75c5f5c-10fe-4ef2-bc02-2a0eaa0cae66",
   "metadata": {},
   "outputs": [
    {
     "name": "stdout",
     "output_type": "stream",
     "text": [
      "4186.666666666667\n"
     ]
    }
   ],
   "source": [
    "pi=3.14\n",
    "r=10\n",
    "print((4/3)*pi*(r**3))"
   ]
  },
  {
   "cell_type": "code",
   "execution_count": 26,
   "id": "d94b14ae-f329-4e6e-92b9-e10c665a1dbd",
   "metadata": {},
   "outputs": [
    {
     "name": "stdout",
     "output_type": "stream",
     "text": [
      "300\n"
     ]
    }
   ],
   "source": [
    "min=5\n",
    "sec=60*5\n",
    "print(sec)"
   ]
  },
  {
   "cell_type": "code",
   "execution_count": 6,
   "id": "bdfa084c-de9c-4e28-aad4-4eefc3e9eb8f",
   "metadata": {},
   "outputs": [
    {
     "name": "stdout",
     "output_type": "stream",
     "text": [
      "20.0\n"
     ]
    }
   ],
   "source": [
    "a=[20,20,20]\n",
    "sum=a[0]+a[1]+a[2]\n",
    "b=sum/3\n",
    "print(b)"
   ]
  },
  {
   "cell_type": "code",
   "execution_count": 9,
   "id": "4a105a7f-6393-47ce-878d-95e941feb95d",
   "metadata": {},
   "outputs": [
    {
     "name": "stdout",
     "output_type": "stream",
     "text": [
      "20.833333333333332\n"
     ]
    }
   ],
   "source": [
    "d=150\n",
    "M=150*1000\n",
    "t=2*60*60\n",
    "s=M/t\n",
    "print(s)\n"
   ]
  },
  {
   "cell_type": "code",
   "execution_count": 12,
   "id": "570cb3ac-4319-4db2-9542-9481e7f3d9cc",
   "metadata": {},
   "outputs": [
    {
     "name": "stdout",
     "output_type": "stream",
     "text": [
      "450.0\n"
     ]
    }
   ],
   "source": [
    "og=500\n",
    "disc=10\n",
    "amt=10/100*500\n",
    "fin_amt=og-amt\n",
    "print(fin_amt)"
   ]
  },
  {
   "cell_type": "code",
   "execution_count": 29,
   "id": "d11cada2-40dd-4df5-85f0-8d9fefa95042",
   "metadata": {},
   "outputs": [
    {
     "name": "stdout",
     "output_type": "stream",
     "text": [
      "10.6 \n",
      " 9.67\n"
     ]
    }
   ],
   "source": [
    "a=4+5.6+False+True #(auto typecasting)\n",
    "b=4+5.67+False\n",
    "print(a,\"\\n\",b)"
   ]
  },
  {
   "cell_type": "code",
   "execution_count": 37,
   "id": "05955cf5-9642-4fdf-b620-6b2f58cef7cf",
   "metadata": {},
   "outputs": [
    {
     "data": {
      "text/plain": [
       "(55+8j)"
      ]
     },
     "execution_count": 37,
     "metadata": {},
     "output_type": "execute_result"
    }
   ],
   "source": [
    "a=55\n",
    "b=8\n",
    "complex(a,b)"
   ]
  },
  {
   "cell_type": "code",
   "execution_count": 85,
   "id": "c4de5039-ef8f-45e1-948a-125276e895da",
   "metadata": {},
   "outputs": [
    {
     "name": "stdout",
     "output_type": "stream",
     "text": [
      "<class 'float'>\n"
     ]
    }
   ],
   "source": [
    "bool1=55.9\n",
    "bool2=0\n",
    "a=type(bool1)\n",
    "print(a)"
   ]
  },
  {
   "cell_type": "code",
   "execution_count": 87,
   "id": "632282f0-7a36-4590-9c1f-e7e3a58ef2f9",
   "metadata": {},
   "outputs": [
    {
     "data": {
      "text/plain": [
       "True"
      ]
     },
     "execution_count": 87,
     "metadata": {},
     "output_type": "execute_result"
    }
   ],
   "source": [
    "isinstance(bool1, float)"
   ]
  },
  {
   "cell_type": "code",
   "execution_count": 76,
   "id": "b22b9cec-f2ca-4ffa-ac1b-ab9c9e6279c7",
   "metadata": {},
   "outputs": [
    {
     "name": "stdout",
     "output_type": "stream",
     "text": [
      " hello python welcome\n"
     ]
    }
   ],
   "source": [
    "str1=\" hello python\"\n",
    "str2=\"welcome\"\n",
    "str3=str1+\" \"+str2\n",
    "print(str3)"
   ]
  },
  {
   "cell_type": "code",
   "execution_count": 79,
   "id": "4b1c641d-4407-4705-85ce-965c96dafe16",
   "metadata": {},
   "outputs": [
    {
     "name": "stdout",
     "output_type": "stream",
     "text": [
      " hello python welcome hello python welcome hello python welcome\n"
     ]
    },
    {
     "data": {
      "text/plain": [
       "21"
      ]
     },
     "execution_count": 79,
     "metadata": {},
     "output_type": "execute_result"
    }
   ],
   "source": [
    "print(str3*3)\n",
    "len(str3)"
   ]
  },
  {
   "cell_type": "code",
   "execution_count": 84,
   "id": "f2b781ad-a74f-4853-a752-e1d6061221ae",
   "metadata": {},
   "outputs": [
    {
     "name": "stdout",
     "output_type": "stream",
     "text": [
      "E\n",
      "T\n"
     ]
    }
   ],
   "source": [
    "name=\"DATAMITES\"\n",
    "print(name[-2])\n",
    "print(name[2])"
   ]
  },
  {
   "cell_type": "code",
   "execution_count": 127,
   "id": "75493543-36d1-4b9b-ba13-90d276126e21",
   "metadata": {},
   "outputs": [
    {
     "data": {
      "text/plain": [
       "False"
      ]
     },
     "execution_count": 127,
     "metadata": {},
     "output_type": "execute_result"
    }
   ],
   "source": [
    "var1=True\n",
    "bool=False\n",
    "isinstance(bool,float)"
   ]
  },
  {
   "cell_type": "code",
   "execution_count": 149,
   "id": "5f38e919-823b-4161-9008-f3eba57c5478",
   "metadata": {},
   "outputs": [
    {
     "data": {
      "text/plain": [
       "'MITES'"
      ]
     },
     "execution_count": 149,
     "metadata": {},
     "output_type": "execute_result"
    }
   ],
   "source": [
    "name=\"DATAMITES\"\n",
    "name[-5::1]"
   ]
  },
  {
   "cell_type": "code",
   "execution_count": 165,
   "id": "9daa4c22-0687-445b-a2c8-22ff89cdc5cf",
   "metadata": {},
   "outputs": [
    {
     "name": "stdout",
     "output_type": "stream",
     "text": [
      "my name is xys,my age is 22\n",
      "my name is xys,my age is 22\n"
     ]
    }
   ],
   "source": [
    "name=\"xys\"\n",
    "age=22\n",
    "print(f\"my name is {name},my age is {age}\")\n",
    "print(\"my name is {},my age is {}\".format(name,age))"
   ]
  },
  {
   "cell_type": "code",
   "execution_count": 181,
   "id": "3fe8a2d4-8cde-4e16-82f6-c93923bbaec3",
   "metadata": {},
   "outputs": [
    {
     "name": "stdout",
     "output_type": "stream",
     "text": [
      "       x  y  g\n"
     ]
    }
   ],
   "source": [
    "n=\"       x  y  g        \"\n",
    "print(n.rstrip())"
   ]
  },
  {
   "cell_type": "code",
   "execution_count": 222,
   "id": "cfa7b225-c018-4d25-9a71-1d54f1d89468",
   "metadata": {},
   "outputs": [
    {
     "name": "stdout",
     "output_type": "stream",
     "text": [
      "('NLP with python ', 'and', ' R and Java')\n",
      "(' R ', 'and', ' Java')\n"
     ]
    },
    {
     "data": {
      "text/plain": [
       "31"
      ]
     },
     "execution_count": 222,
     "metadata": {},
     "output_type": "execute_result"
    }
   ],
   "source": [
    "str4=\"NLP with python and R and Java\"\n",
    "l=str4.partition(\"and\")\n",
    "a=print(l)\n",
    "l=l[2]\n",
    "l1=l.partition(\"and\")\n",
    "print(l1)\n",
    "str4.count('')"
   ]
  },
  {
   "cell_type": "code",
   "execution_count": 214,
   "id": "474670e7-7ba5-491f-90da-968a851776c2",
   "metadata": {},
   "outputs": [
    {
     "data": {
      "text/plain": [
       "0"
      ]
     },
     "execution_count": 214,
     "metadata": {},
     "output_type": "execute_result"
    }
   ],
   "source": [
    "str4.find('a')"
   ]
  },
  {
   "cell_type": "code",
   "execution_count": 220,
   "id": "62462f2e-2e79-439d-a78e-1d9dc4e4273f",
   "metadata": {},
   "outputs": [
    {
     "name": "stdout",
     "output_type": "stream",
     "text": [
      "shreyas\n",
      "SHREYAS\n"
     ]
    }
   ],
   "source": [
    "name2=\"ShreyaS\"\n",
    "print(name2.lower())\n",
    "print(name2.upper())"
   ]
  },
  {
   "cell_type": "code",
   "execution_count": 232,
   "id": "5ee57481-fe58-4bc9-b476-3daea98f1db4",
   "metadata": {},
   "outputs": [
    {
     "name": "stdout",
     "output_type": "stream",
     "text": [
      "['asb', 'ajgc', 'ahbc']\n"
     ]
    }
   ],
   "source": [
    "n=\"asb7ajgc7ahbc\"\n",
    "s=(n.split(\"7\"))\n",
    "print(s)"
   ]
  },
  {
   "cell_type": "code",
   "execution_count": 233,
   "id": "5b077b99-d48b-4753-b6c3-55175a3215a2",
   "metadata": {},
   "outputs": [
    {
     "data": {
      "text/plain": [
       "'asb_ajgc_ahbc'"
      ]
     },
     "execution_count": 233,
     "metadata": {},
     "output_type": "execute_result"
    }
   ],
   "source": [
    "\"_\".join(s)"
   ]
  },
  {
   "cell_type": "code",
   "execution_count": 242,
   "id": "3f2dfa6e-fe25-42f1-a388-0a522e366e70",
   "metadata": {},
   "outputs": [
    {
     "data": {
      "text/plain": [
       "'host bus'"
      ]
     },
     "execution_count": 242,
     "metadata": {},
     "output_type": "execute_result"
    }
   ],
   "source": [
    "movie=\"ghost buster\"\n",
    "a=movie[1:9:1]\n",
    "a"
   ]
  },
  {
   "cell_type": "code",
   "execution_count": 247,
   "id": "56c8039b-d11b-4c3d-876e-9c6322c894ac",
   "metadata": {},
   "outputs": [
    {
     "name": "stdout",
     "output_type": "stream",
     "text": [
      "['host', 'bus']\n"
     ]
    },
    {
     "data": {
      "text/plain": [
       "'host:bus'"
      ]
     },
     "execution_count": 247,
     "metadata": {},
     "output_type": "execute_result"
    }
   ],
   "source": [
    "d=a.split()\n",
    "print(d)\n",
    "\":\".join(d)"
   ]
  },
  {
   "cell_type": "code",
   "execution_count": 258,
   "id": "0e41aabf-e4b4-4974-8031-14840f737334",
   "metadata": {},
   "outputs": [
    {
     "name": "stdout",
     "output_type": "stream",
     "text": [
      "host\n",
      "BUS\n",
      "host BUS\n"
     ]
    },
    {
     "data": {
      "text/plain": [
       "'host:BUS'"
      ]
     },
     "execution_count": 258,
     "metadata": {},
     "output_type": "execute_result"
    }
   ],
   "source": [
    "movie=\"ghostbuster\"\n",
    "a=m[1:5:1]\n",
    "print(a)\n",
    "b=m[5:8:1].upper()\n",
    "print(b)\n",
    "r=a+\" \"+b\n",
    "print(r)\n",
    "s=r.split(\" \")\n",
    "\":\".join(s)"
   ]
  },
  {
   "cell_type": "code",
   "execution_count": 267,
   "id": "025b4311-9616-4900-b1fa-0e5dbcb360f7",
   "metadata": {},
   "outputs": [
    {
     "name": "stdout",
     "output_type": "stream",
     "text": [
      "war\n"
     ]
    },
    {
     "data": {
      "text/plain": [
       "'war2nip'"
      ]
     },
     "execution_count": 267,
     "metadata": {},
     "output_type": "execute_result"
    }
   ],
   "source": [
    "name='thiagaswaroopini'\n",
    "r=name[7:10:1]\n",
    "print(r)\n",
    "s=name[-2:-5:-1]\n",
    "s\n",
    "a=name.count('o')\n",
    "res4=r+str(a)+s\n",
    "res4"
   ]
  },
  {
   "cell_type": "code",
   "execution_count": null,
   "id": "02ebd1ed-610f-4547-bc19-614cfaa9ce86",
   "metadata": {},
   "outputs": [],
   "source": []
  }
 ],
 "metadata": {
  "kernelspec": {
   "display_name": "Python 3 (ipykernel)",
   "language": "python",
   "name": "python3"
  },
  "language_info": {
   "codemirror_mode": {
    "name": "ipython",
    "version": 3
   },
   "file_extension": ".py",
   "mimetype": "text/x-python",
   "name": "python",
   "nbconvert_exporter": "python",
   "pygments_lexer": "ipython3",
   "version": "3.11.7"
  }
 },
 "nbformat": 4,
 "nbformat_minor": 5
}
