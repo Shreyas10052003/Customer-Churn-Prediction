{
 "cells": [
  {
   "cell_type": "code",
   "execution_count": 1,
   "id": "6ffbc538-ba6f-4a52-a1da-5af1997620a4",
   "metadata": {},
   "outputs": [
    {
     "name": "stdout",
     "output_type": "stream",
     "text": [
      "<class 'set'>\n"
     ]
    }
   ],
   "source": [
    "#unordered,unindexed and elements are unique,no duplication of data are allowed.\n",
    "#we cannot create a empty set with '{}' bracckets\n",
    "#if we want to create then we need to give as \n",
    "myset=set()\n",
    "print(type(myset))"
   ]
  },
  {
   "cell_type": "code",
   "execution_count": 2,
   "id": "8eb47f3e-59f4-48ec-9063-c7721d3821b9",
   "metadata": {},
   "outputs": [
    {
     "data": {
      "text/plain": [
       "set"
      ]
     },
     "execution_count": 2,
     "metadata": {},
     "output_type": "execute_result"
    }
   ],
   "source": [
    "myset1={2,3}\n",
    "type(myset1)"
   ]
  },
  {
   "cell_type": "code",
   "execution_count": 5,
   "id": "5d43f9ec-850b-487d-8b33-8ef068cd2562",
   "metadata": {},
   "outputs": [
    {
     "data": {
      "text/plain": [
       "{1, 2, 3, 4, 5}"
      ]
     },
     "execution_count": 5,
     "metadata": {},
     "output_type": "execute_result"
    }
   ],
   "source": [
    "myset={1,2,3,4,5,5}\n",
    "myset"
   ]
  },
  {
   "cell_type": "code",
   "execution_count": 6,
   "id": "61e6e8ce-04d3-4ab8-ad1d-9b4f7ed80526",
   "metadata": {},
   "outputs": [
    {
     "data": {
      "text/plain": [
       "5"
      ]
     },
     "execution_count": 6,
     "metadata": {},
     "output_type": "execute_result"
    }
   ],
   "source": [
    "len(myset)"
   ]
  },
  {
   "cell_type": "code",
   "execution_count": 12,
   "id": "7b4c1a0a-017d-41d5-b7bb-4f5581ad4150",
   "metadata": {},
   "outputs": [
    {
     "data": {
      "text/plain": [
       "{1, 2, 3, 6}"
      ]
     },
     "execution_count": 12,
     "metadata": {},
     "output_type": "execute_result"
    }
   ],
   "source": [
    "myset={2,3,1}\n",
    "myset.add(6)\n",
    "myset"
   ]
  },
  {
   "cell_type": "code",
   "execution_count": 13,
   "id": "46df2505-f6fe-45c7-bb15-3f1c9561e4e4",
   "metadata": {},
   "outputs": [
    {
     "data": {
      "text/plain": [
       "{1, 2, 3, 6, 'eleven', 'ten', 'twelve'}"
      ]
     },
     "execution_count": 13,
     "metadata": {},
     "output_type": "execute_result"
    }
   ],
   "source": [
    "myset.update(['ten','eleven','twelve'])\n",
    "myset"
   ]
  },
  {
   "cell_type": "code",
   "execution_count": 15,
   "id": "f4c6b253-bbb8-4da4-b017-0be4b90a97fc",
   "metadata": {},
   "outputs": [
    {
     "data": {
      "text/plain": [
       "{1, 3, 6, 'eleven', 'ten', 'twelve'}"
      ]
     },
     "execution_count": 15,
     "metadata": {},
     "output_type": "execute_result"
    }
   ],
   "source": [
    "myset.remove(2)\n",
    "myset"
   ]
  },
  {
   "cell_type": "code",
   "execution_count": 21,
   "id": "473dae7f-a837-4c03-a644-ec4a14ad3eaf",
   "metadata": {},
   "outputs": [
    {
     "data": {
      "text/plain": [
       "{1, 3, 'eleven', 'ten', 'twelve'}"
      ]
     },
     "execution_count": 21,
     "metadata": {},
     "output_type": "execute_result"
    }
   ],
   "source": [
    "myset.discard(6)\n",
    "myset"
   ]
  },
  {
   "cell_type": "code",
   "execution_count": 33,
   "id": "4dceaf81-ba1f-4252-80a9-6e2852dc60c9",
   "metadata": {},
   "outputs": [
    {
     "data": {
      "text/plain": [
       "{'1', '2', '3', 'eleven', 'ten', 'twelve'}"
      ]
     },
     "execution_count": 33,
     "metadata": {},
     "output_type": "execute_result"
    }
   ],
   "source": [
    "myset.update(['1','2','3','eleven','ten','twelve'])\n",
    "myset"
   ]
  },
  {
   "cell_type": "code",
   "execution_count": 34,
   "id": "ece855be-35cf-44b9-a5ba-1530be5042ef",
   "metadata": {},
   "outputs": [
    {
     "data": {
      "text/plain": [
       "'3'"
      ]
     },
     "execution_count": 34,
     "metadata": {},
     "output_type": "execute_result"
    }
   ],
   "source": [
    "myset.pop()"
   ]
  },
  {
   "cell_type": "code",
   "execution_count": 35,
   "id": "61b820d5-aca5-4d91-b2a2-1b4da2e0caab",
   "metadata": {},
   "outputs": [
    {
     "data": {
      "text/plain": [
       "{'1', '2', 'eleven', 'ten', 'twelve'}"
      ]
     },
     "execution_count": 35,
     "metadata": {},
     "output_type": "execute_result"
    }
   ],
   "source": [
    "myset"
   ]
  },
  {
   "cell_type": "code",
   "execution_count": 36,
   "id": "3cc9fc26-bec6-45d0-9aa5-3a2b6f71d329",
   "metadata": {},
   "outputs": [
    {
     "data": {
      "text/plain": [
       "set()"
      ]
     },
     "execution_count": 36,
     "metadata": {},
     "output_type": "execute_result"
    }
   ],
   "source": [
    "myset.clear()\n",
    "myset"
   ]
  },
  {
   "cell_type": "code",
   "execution_count": 41,
   "id": "2453944e-7189-4290-9590-61a52e6a53d3",
   "metadata": {},
   "outputs": [
    {
     "data": {
      "text/plain": [
       "{2, 3}"
      ]
     },
     "execution_count": 41,
     "metadata": {},
     "output_type": "execute_result"
    }
   ],
   "source": [
    "#we can use del method also\n",
    "myset1"
   ]
  },
  {
   "cell_type": "code",
   "execution_count": 44,
   "id": "b1c71462-e557-43b8-a0e3-0ab0d1bd8645",
   "metadata": {},
   "outputs": [
    {
     "ename": "NameError",
     "evalue": "name 'myset1' is not defined",
     "output_type": "error",
     "traceback": [
      "\u001b[1;31m---------------------------------------------------------------------------\u001b[0m",
      "\u001b[1;31mNameError\u001b[0m                                 Traceback (most recent call last)",
      "Cell \u001b[1;32mIn[44], line 1\u001b[0m\n\u001b[1;32m----> 1\u001b[0m \u001b[38;5;28;01mdel\u001b[39;00m myset1\n",
      "\u001b[1;31mNameError\u001b[0m: name 'myset1' is not defined"
     ]
    }
   ],
   "source": [
    "del myset1\n",
    "#it is deleted"
   ]
  },
  {
   "cell_type": "code",
   "execution_count": 47,
   "id": "47c98186-b911-4c99-9a06-fb1dd90e0013",
   "metadata": {},
   "outputs": [
    {
     "data": {
      "text/plain": [
       "{1, 2, 3, 4, 5, 6, 7, 8}"
      ]
     },
     "execution_count": 47,
     "metadata": {},
     "output_type": "execute_result"
    }
   ],
   "source": [
    "A={1,2,3,4,5}\n",
    "B={4,5,6,7,8}\n",
    "C={8,9,10}\n",
    "A.union(B)"
   ]
  },
  {
   "cell_type": "code",
   "execution_count": 48,
   "id": "a9cc0fa0-cd55-40cc-aacd-e7c1514d6b91",
   "metadata": {},
   "outputs": [
    {
     "data": {
      "text/plain": [
       "{1, 2, 3, 4, 5, 6, 7, 8}"
      ]
     },
     "execution_count": 48,
     "metadata": {},
     "output_type": "execute_result"
    }
   ],
   "source": [
    "B.union(A)"
   ]
  },
  {
   "cell_type": "code",
   "execution_count": 51,
   "id": "6f7cdb8f-559d-4b06-9a95-c9e7ba7227ac",
   "metadata": {},
   "outputs": [
    {
     "data": {
      "text/plain": [
       "{1, 2, 3, 4, 5, 6, 7, 8, 9, 10}"
      ]
     },
     "execution_count": 51,
     "metadata": {},
     "output_type": "execute_result"
    }
   ],
   "source": [
    "A.union(B,C)"
   ]
  },
  {
   "cell_type": "code",
   "execution_count": 65,
   "id": "e56d2fee-0462-44a7-9e62-75b87c048d6c",
   "metadata": {},
   "outputs": [],
   "source": [
    "A={1,2,3,4,5}\n",
    "B={4,5,6,7,8}\n",
    "C={8,9,10}\n",
    "list1=[78,90,32,89,32,32,89,78,90,78,90,32]\n",
    "#{78:3,90:3,32:4,89:2}"
   ]
  },
  {
   "cell_type": "code",
   "execution_count": 81,
   "id": "f67b2e1d-4f91-4949-ad82-bc7774450d8b",
   "metadata": {},
   "outputs": [
    {
     "data": {
      "text/plain": [
       "[32, 89, 90, 78]"
      ]
     },
     "execution_count": 81,
     "metadata": {},
     "output_type": "execute_result"
    }
   ],
   "source": [
    "set1=set(list1)\n",
    "list2=list(set1)\n",
    "list2"
   ]
  },
  {
   "cell_type": "code",
   "execution_count": 84,
   "id": "3b5f7fc7-1ef2-4400-9049-3bea431ea20e",
   "metadata": {},
   "outputs": [
    {
     "data": {
      "text/plain": [
       "{32: 4}"
      ]
     },
     "execution_count": 84,
     "metadata": {},
     "output_type": "execute_result"
    }
   ],
   "source": [
    "dict1={}\n",
    "dict1[list2[0]]=list1.count(list2[0])\n",
    "dict1"
   ]
  },
  {
   "cell_type": "code",
   "execution_count": 89,
   "id": "3b22441d-9324-4d34-bdfb-a11b5152682d",
   "metadata": {},
   "outputs": [
    {
     "data": {
      "text/plain": [
       "{32: 4, 89: 2, 90: 3, 78: 3}"
      ]
     },
     "execution_count": 89,
     "metadata": {},
     "output_type": "execute_result"
    }
   ],
   "source": [
    "dict1.update({list2[1]:list1.count(list2[1]),list2[2]:list1.count(list2[2]),list2[3]:list1.count(list2[3])})\n",
    "dict1"
   ]
  },
  {
   "cell_type": "code",
   "execution_count": 90,
   "id": "912c5a0a-1389-4ce2-bcb8-8d0965c5d1e3",
   "metadata": {},
   "outputs": [
    {
     "data": {
      "text/plain": [
       "{4, 5}"
      ]
     },
     "execution_count": 90,
     "metadata": {},
     "output_type": "execute_result"
    }
   ],
   "source": [
    "A.intersection(B)"
   ]
  },
  {
   "cell_type": "code",
   "execution_count": 91,
   "id": "e3d8f58b-de2e-4906-89c9-bb04dc63d69b",
   "metadata": {},
   "outputs": [
    {
     "data": {
      "text/plain": [
       "{6, 7, 8}"
      ]
     },
     "execution_count": 91,
     "metadata": {},
     "output_type": "execute_result"
    }
   ],
   "source": [
    "B.difference(A)"
   ]
  },
  {
   "cell_type": "code",
   "execution_count": 92,
   "id": "160e6644-7d6f-40cd-aa9d-472b8efa6bcc",
   "metadata": {},
   "outputs": [
    {
     "data": {
      "text/plain": [
       "{1, 2, 3}"
      ]
     },
     "execution_count": 92,
     "metadata": {},
     "output_type": "execute_result"
    }
   ],
   "source": [
    "A.difference(B)"
   ]
  },
  {
   "cell_type": "code",
   "execution_count": 97,
   "id": "61833edd-d60b-4096-b3a4-4e9c0f90f628",
   "metadata": {},
   "outputs": [
    {
     "name": "stdout",
     "output_type": "stream",
     "text": [
      "False\n",
      "True\n",
      "True\n",
      "False\n",
      "False\n",
      "True\n"
     ]
    }
   ],
   "source": [
    "#COMPARISON OPERATOR\n",
    "x=20\n",
    "y=30\n",
    "print(x>y)\n",
    "print(x<y)\n",
    "print(x<=y)\n",
    "print(x>=y)\n",
    "print(x==y)\n",
    "print(x!=y)"
   ]
  },
  {
   "cell_type": "code",
   "execution_count": 99,
   "id": "16373ad4-7568-4809-8680-d2aeb7b740fb",
   "metadata": {},
   "outputs": [],
   "source": [
    "#LOGICAL OPERATOR\n",
    "#AND/OR/NOT{3 CASES}\n",
    "#AND USED WHEN ALL CONDITIONS IS SATISFIED\n",
    "#OR USED WHEN ATLEAST ONE CONDITION IS SATISFIED\n",
    "#NOT IT IS THE REVERSE OF THE STATEMENT lyk true will be converted to false and false converted to true(basically it is oppo of AND operator)\n",
    "#MEMBERSHIP OPERATOR\n",
    "#1.in 2.not in (eg. list=[1,2,3,4] 2 in list1)\n",
    "#CONDITIONAL EXECUTION\n",
    "#IF statement eg."
   ]
  },
  {
   "cell_type": "code",
   "execution_count": 107,
   "id": "ae1072dc-0103-49e0-9b85-c426382f8fbe",
   "metadata": {},
   "outputs": [
    {
     "name": "stdout",
     "output_type": "stream",
     "text": [
      "you are an adult\n"
     ]
    }
   ],
   "source": [
    "age=18\n",
    "if age>=18:\n",
    "    print(\"you are an adult\")"
   ]
  },
  {
   "cell_type": "code",
   "execution_count": 108,
   "id": "696b91c8-f642-4b6d-8bc0-ac4e68be0936",
   "metadata": {},
   "outputs": [
    {
     "name": "stdout",
     "output_type": "stream",
     "text": [
      "positive\n"
     ]
    }
   ],
   "source": [
    "num =78\n",
    "if num>0:\n",
    "    print('positive')"
   ]
  },
  {
   "cell_type": "code",
   "execution_count": null,
   "id": "2568102f-611e-4e73-9159-76d8678b6d15",
   "metadata": {},
   "outputs": [],
   "source": []
  }
 ],
 "metadata": {
  "kernelspec": {
   "display_name": "Python 3 (ipykernel)",
   "language": "python",
   "name": "python3"
  },
  "language_info": {
   "codemirror_mode": {
    "name": "ipython",
    "version": 3
   },
   "file_extension": ".py",
   "mimetype": "text/x-python",
   "name": "python",
   "nbconvert_exporter": "python",
   "pygments_lexer": "ipython3",
   "version": "3.11.7"
  }
 },
 "nbformat": 4,
 "nbformat_minor": 5
}
