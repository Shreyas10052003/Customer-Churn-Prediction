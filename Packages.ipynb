{
 "cells": [
  {
   "cell_type": "code",
   "execution_count": 1,
   "id": "53517fdc-bb31-449e-afb5-edf3a632d8e0",
   "metadata": {},
   "outputs": [],
   "source": [
    "#DATETIME MODULE have DATE,TIME,DATETIME,TIMEDELTA "
   ]
  },
  {
   "cell_type": "code",
   "execution_count": 2,
   "id": "118fde31-ea6d-4728-b5b2-a61921e9d565",
   "metadata": {},
   "outputs": [],
   "source": [
    "import datetime\n",
    "from datetime import time"
   ]
  },
  {
   "cell_type": "code",
   "execution_count": 3,
   "id": "e168c1df-a5a0-455a-88a1-12887f237f31",
   "metadata": {},
   "outputs": [],
   "source": [
    "#from datetime import *(for importing all the submodules)"
   ]
  },
  {
   "cell_type": "code",
   "execution_count": 4,
   "id": "fed571e3-2081-44cb-8f54-060a3586b02d",
   "metadata": {},
   "outputs": [],
   "source": [
    "from datetime import*"
   ]
  },
  {
   "cell_type": "code",
   "execution_count": 7,
   "id": "afabeacd-e345-4b2c-99ac-5307b8ac3bc8",
   "metadata": {},
   "outputs": [
    {
     "name": "stdout",
     "output_type": "stream",
     "text": [
      "2002-05-10\n"
     ]
    }
   ],
   "source": [
    "my_date=date(2002,5,10)\n",
    "print(my_date)"
   ]
  },
  {
   "cell_type": "code",
   "execution_count": 8,
   "id": "8dd2d59b-d379-44ba-a223-7ab43d72b8f3",
   "metadata": {},
   "outputs": [
    {
     "data": {
      "text/plain": [
       "datetime.date(2025, 3, 15)"
      ]
     },
     "execution_count": 8,
     "metadata": {},
     "output_type": "execute_result"
    }
   ],
   "source": [
    "date.today()"
   ]
  },
  {
   "cell_type": "code",
   "execution_count": 9,
   "id": "fe0f7e9f-2dc7-46da-b246-d40c173be3a8",
   "metadata": {},
   "outputs": [
    {
     "data": {
      "text/plain": [
       "6"
      ]
     },
     "execution_count": 9,
     "metadata": {},
     "output_type": "execute_result"
    }
   ],
   "source": [
    "today1=date.today()\n",
    "today1.isoweekday() #here 6 represents SATURDAY"
   ]
  },
  {
   "cell_type": "code",
   "execution_count": 13,
   "id": "65e14dd2-60f1-4283-813d-9bf0edcea3e8",
   "metadata": {},
   "outputs": [
    {
     "name": "stdout",
     "output_type": "stream",
     "text": [
      "2025\n",
      "3\n",
      "15\n"
     ]
    }
   ],
   "source": [
    "print(today1.year)\n",
    "print(today1.month)\n",
    "print(today1.day)"
   ]
  },
  {
   "cell_type": "code",
   "execution_count": 14,
   "id": "105bf3c2-97ad-40e3-8da7-66a1cb8315dd",
   "metadata": {},
   "outputs": [],
   "source": [
    "from datetime import datetime as dt"
   ]
  },
  {
   "cell_type": "code",
   "execution_count": 22,
   "id": "505e16cf-df5d-4262-a663-cefd33b5069c",
   "metadata": {},
   "outputs": [
    {
     "name": "stdout",
     "output_type": "stream",
     "text": [
      "2025-03-15 12:07:03.313450+01:00\n"
     ]
    }
   ],
   "source": [
    "import pytz #python time zone\n",
    "tz = pytz.timezone('Europe/Berlin')\n",
    "print(dt.now(tz))"
   ]
  },
  {
   "cell_type": "code",
   "execution_count": 24,
   "id": "04d561d8-002d-4a13-98a1-5d918b75c0d7",
   "metadata": {},
   "outputs": [
    {
     "name": "stdout",
     "output_type": "stream",
     "text": [
      "02:15:34\n"
     ]
    }
   ],
   "source": [
    "my_time = time(2,15,34)\n",
    "print(my_time)"
   ]
  },
  {
   "cell_type": "code",
   "execution_count": 25,
   "id": "2dd105b2-d287-46d7-b270-a024c26c86d7",
   "metadata": {},
   "outputs": [
    {
     "data": {
      "text/plain": [
       "datetime.date(2028, 3, 14)"
      ]
     },
     "execution_count": 25,
     "metadata": {},
     "output_type": "execute_result"
    }
   ],
   "source": [
    "from datetime import date, timedelta\n",
    "current_date=date.today()\n",
    "after_2yrs = current_date+timedelta(days=1095)\n",
    "after_2yrs"
   ]
  },
  {
   "cell_type": "code",
   "execution_count": 42,
   "id": "0962225a-2133-4f28-b547-ba80de022e78",
   "metadata": {},
   "outputs": [
    {
     "name": "stdout",
     "output_type": "stream",
     "text": [
      "35\n"
     ]
    }
   ],
   "source": [
    "from datetime import date, timedelta\n",
    "DOB=date(2003,5,10)\n",
    "B=DOB.year\n",
    "current_date=date.today()\n",
    "cur=current_date+timedelta(days=5000)\n",
    "a=cur.year-B\n",
    "print(a)"
   ]
  },
  {
   "cell_type": "code",
   "execution_count": 44,
   "id": "2bbb5002-ab8a-4b7f-a60b-a7ced06e593a",
   "metadata": {},
   "outputs": [
    {
     "data": {
      "text/plain": [
       "0.1883905646595444"
      ]
     },
     "execution_count": 44,
     "metadata": {},
     "output_type": "execute_result"
    }
   ],
   "source": [
    "#RANDOM MODULE\n",
    "import random\n",
    "random.random()"
   ]
  },
  {
   "cell_type": "code",
   "execution_count": 45,
   "id": "eb2ab8da-3330-47cc-934f-86e20b06f240",
   "metadata": {},
   "outputs": [
    {
     "data": {
      "text/plain": [
       "0.35100610188877224"
      ]
     },
     "execution_count": 45,
     "metadata": {},
     "output_type": "execute_result"
    }
   ],
   "source": [
    "from random import random \n",
    "random()"
   ]
  },
  {
   "cell_type": "code",
   "execution_count": 100,
   "id": "66d100e9-d560-42e9-bb01-76f7d9a44158",
   "metadata": {},
   "outputs": [
    {
     "data": {
      "text/plain": [
       "77"
      ]
     },
     "execution_count": 100,
     "metadata": {},
     "output_type": "execute_result"
    }
   ],
   "source": [
    "from random import *\n",
    "randint(2,90)"
   ]
  },
  {
   "cell_type": "code",
   "execution_count": 120,
   "id": "7796a1dd-60f0-46f8-b5aa-4d2aebc4915e",
   "metadata": {},
   "outputs": [
    {
     "data": {
      "text/plain": [
       "'Superman'"
      ]
     },
     "execution_count": 120,
     "metadata": {},
     "output_type": "execute_result"
    }
   ],
   "source": [
    "lis1=['Avengers','Joker','Batman','Superman']\n",
    "choice(lis1)"
   ]
  },
  {
   "cell_type": "code",
   "execution_count": null,
   "id": "9d962595-4b93-4e70-add8-5f90762b4b8c",
   "metadata": {},
   "outputs": [],
   "source": []
  }
 ],
 "metadata": {
  "kernelspec": {
   "display_name": "Python 3 (ipykernel)",
   "language": "python",
   "name": "python3"
  },
  "language_info": {
   "codemirror_mode": {
    "name": "ipython",
    "version": 3
   },
   "file_extension": ".py",
   "mimetype": "text/x-python",
   "name": "python",
   "nbconvert_exporter": "python",
   "pygments_lexer": "ipython3",
   "version": "3.11.7"
  }
 },
 "nbformat": 4,
 "nbformat_minor": 5
}
