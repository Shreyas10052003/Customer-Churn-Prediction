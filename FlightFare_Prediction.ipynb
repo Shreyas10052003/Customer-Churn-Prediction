{
 "cells": [
  {
   "cell_type": "code",
   "execution_count": 131,
   "id": "899813af-3707-42e0-ac0a-0d82e5634d01",
   "metadata": {},
   "outputs": [],
   "source": [
    "import pandas as pd \n",
    "import numpy as np\n",
    "import matplotlib.pyplot as plt\n",
    "import seaborn as sns \n",
    "import warnings \n",
    "warnings.filterwarnings('ignore')"
   ]
  },
  {
   "cell_type": "code",
   "execution_count": 464,
   "id": "9b8a7323-4d8c-40ed-b2ac-785ba61a1aa4",
   "metadata": {},
   "outputs": [
    {
     "data": {
      "text/html": [
       "<div>\n",
       "<style scoped>\n",
       "    .dataframe tbody tr th:only-of-type {\n",
       "        vertical-align: middle;\n",
       "    }\n",
       "\n",
       "    .dataframe tbody tr th {\n",
       "        vertical-align: top;\n",
       "    }\n",
       "\n",
       "    .dataframe thead th {\n",
       "        text-align: right;\n",
       "    }\n",
       "</style>\n",
       "<table border=\"1\" class=\"dataframe\">\n",
       "  <thead>\n",
       "    <tr style=\"text-align: right;\">\n",
       "      <th></th>\n",
       "      <th>Airline</th>\n",
       "      <th>Date_of_Journey</th>\n",
       "      <th>Source</th>\n",
       "      <th>Destination</th>\n",
       "      <th>Route</th>\n",
       "      <th>Dep_Time</th>\n",
       "      <th>Arrival_Time</th>\n",
       "      <th>Duration</th>\n",
       "      <th>Total_Stops</th>\n",
       "      <th>Additional_Info</th>\n",
       "      <th>Price</th>\n",
       "    </tr>\n",
       "  </thead>\n",
       "  <tbody>\n",
       "    <tr>\n",
       "      <th>0</th>\n",
       "      <td>IndiGo</td>\n",
       "      <td>24/03/2019</td>\n",
       "      <td>Banglore</td>\n",
       "      <td>New Delhi</td>\n",
       "      <td>BLR → DEL</td>\n",
       "      <td>22:20</td>\n",
       "      <td>01:10 22 Mar</td>\n",
       "      <td>2h 50m</td>\n",
       "      <td>non-stop</td>\n",
       "      <td>No info</td>\n",
       "      <td>3897</td>\n",
       "    </tr>\n",
       "    <tr>\n",
       "      <th>1</th>\n",
       "      <td>Air India</td>\n",
       "      <td>1/05/2019</td>\n",
       "      <td>Kolkata</td>\n",
       "      <td>Banglore</td>\n",
       "      <td>CCU → IXR → BBI → BLR</td>\n",
       "      <td>05:50</td>\n",
       "      <td>13:15</td>\n",
       "      <td>7h 25m</td>\n",
       "      <td>2 stops</td>\n",
       "      <td>No info</td>\n",
       "      <td>7662</td>\n",
       "    </tr>\n",
       "    <tr>\n",
       "      <th>2</th>\n",
       "      <td>Jet Airways</td>\n",
       "      <td>9/06/2019</td>\n",
       "      <td>Delhi</td>\n",
       "      <td>Cochin</td>\n",
       "      <td>DEL → LKO → BOM → COK</td>\n",
       "      <td>09:25</td>\n",
       "      <td>04:25 10 Jun</td>\n",
       "      <td>19h</td>\n",
       "      <td>2 stops</td>\n",
       "      <td>No info</td>\n",
       "      <td>13882</td>\n",
       "    </tr>\n",
       "    <tr>\n",
       "      <th>3</th>\n",
       "      <td>IndiGo</td>\n",
       "      <td>12/05/2019</td>\n",
       "      <td>Kolkata</td>\n",
       "      <td>Banglore</td>\n",
       "      <td>CCU → NAG → BLR</td>\n",
       "      <td>18:05</td>\n",
       "      <td>23:30</td>\n",
       "      <td>5h 25m</td>\n",
       "      <td>1 stop</td>\n",
       "      <td>No info</td>\n",
       "      <td>6218</td>\n",
       "    </tr>\n",
       "    <tr>\n",
       "      <th>4</th>\n",
       "      <td>IndiGo</td>\n",
       "      <td>01/03/2019</td>\n",
       "      <td>Banglore</td>\n",
       "      <td>New Delhi</td>\n",
       "      <td>BLR → NAG → DEL</td>\n",
       "      <td>16:50</td>\n",
       "      <td>21:35</td>\n",
       "      <td>4h 45m</td>\n",
       "      <td>1 stop</td>\n",
       "      <td>No info</td>\n",
       "      <td>13302</td>\n",
       "    </tr>\n",
       "    <tr>\n",
       "      <th>...</th>\n",
       "      <td>...</td>\n",
       "      <td>...</td>\n",
       "      <td>...</td>\n",
       "      <td>...</td>\n",
       "      <td>...</td>\n",
       "      <td>...</td>\n",
       "      <td>...</td>\n",
       "      <td>...</td>\n",
       "      <td>...</td>\n",
       "      <td>...</td>\n",
       "      <td>...</td>\n",
       "    </tr>\n",
       "    <tr>\n",
       "      <th>10678</th>\n",
       "      <td>Air Asia</td>\n",
       "      <td>9/04/2019</td>\n",
       "      <td>Kolkata</td>\n",
       "      <td>Banglore</td>\n",
       "      <td>CCU → BLR</td>\n",
       "      <td>19:55</td>\n",
       "      <td>22:25</td>\n",
       "      <td>2h 30m</td>\n",
       "      <td>non-stop</td>\n",
       "      <td>No info</td>\n",
       "      <td>4107</td>\n",
       "    </tr>\n",
       "    <tr>\n",
       "      <th>10679</th>\n",
       "      <td>Air India</td>\n",
       "      <td>27/04/2019</td>\n",
       "      <td>Kolkata</td>\n",
       "      <td>Banglore</td>\n",
       "      <td>CCU → BLR</td>\n",
       "      <td>20:45</td>\n",
       "      <td>23:20</td>\n",
       "      <td>2h 35m</td>\n",
       "      <td>non-stop</td>\n",
       "      <td>No info</td>\n",
       "      <td>4145</td>\n",
       "    </tr>\n",
       "    <tr>\n",
       "      <th>10680</th>\n",
       "      <td>Jet Airways</td>\n",
       "      <td>27/04/2019</td>\n",
       "      <td>Banglore</td>\n",
       "      <td>Delhi</td>\n",
       "      <td>BLR → DEL</td>\n",
       "      <td>08:20</td>\n",
       "      <td>11:20</td>\n",
       "      <td>3h</td>\n",
       "      <td>non-stop</td>\n",
       "      <td>No info</td>\n",
       "      <td>7229</td>\n",
       "    </tr>\n",
       "    <tr>\n",
       "      <th>10681</th>\n",
       "      <td>Vistara</td>\n",
       "      <td>01/03/2019</td>\n",
       "      <td>Banglore</td>\n",
       "      <td>New Delhi</td>\n",
       "      <td>BLR → DEL</td>\n",
       "      <td>11:30</td>\n",
       "      <td>14:10</td>\n",
       "      <td>2h 40m</td>\n",
       "      <td>non-stop</td>\n",
       "      <td>No info</td>\n",
       "      <td>12648</td>\n",
       "    </tr>\n",
       "    <tr>\n",
       "      <th>10682</th>\n",
       "      <td>Air India</td>\n",
       "      <td>9/05/2019</td>\n",
       "      <td>Delhi</td>\n",
       "      <td>Cochin</td>\n",
       "      <td>DEL → GOI → BOM → COK</td>\n",
       "      <td>10:55</td>\n",
       "      <td>19:15</td>\n",
       "      <td>8h 20m</td>\n",
       "      <td>2 stops</td>\n",
       "      <td>No info</td>\n",
       "      <td>11753</td>\n",
       "    </tr>\n",
       "  </tbody>\n",
       "</table>\n",
       "<p>10683 rows × 11 columns</p>\n",
       "</div>"
      ],
      "text/plain": [
       "           Airline Date_of_Journey    Source Destination  \\\n",
       "0           IndiGo      24/03/2019  Banglore   New Delhi   \n",
       "1        Air India       1/05/2019   Kolkata    Banglore   \n",
       "2      Jet Airways       9/06/2019     Delhi      Cochin   \n",
       "3           IndiGo      12/05/2019   Kolkata    Banglore   \n",
       "4           IndiGo      01/03/2019  Banglore   New Delhi   \n",
       "...            ...             ...       ...         ...   \n",
       "10678     Air Asia       9/04/2019   Kolkata    Banglore   \n",
       "10679    Air India      27/04/2019   Kolkata    Banglore   \n",
       "10680  Jet Airways      27/04/2019  Banglore       Delhi   \n",
       "10681      Vistara      01/03/2019  Banglore   New Delhi   \n",
       "10682    Air India       9/05/2019     Delhi      Cochin   \n",
       "\n",
       "                       Route Dep_Time  Arrival_Time Duration Total_Stops  \\\n",
       "0                  BLR → DEL    22:20  01:10 22 Mar   2h 50m    non-stop   \n",
       "1      CCU → IXR → BBI → BLR    05:50         13:15   7h 25m     2 stops   \n",
       "2      DEL → LKO → BOM → COK    09:25  04:25 10 Jun      19h     2 stops   \n",
       "3            CCU → NAG → BLR    18:05         23:30   5h 25m      1 stop   \n",
       "4            BLR → NAG → DEL    16:50         21:35   4h 45m      1 stop   \n",
       "...                      ...      ...           ...      ...         ...   \n",
       "10678              CCU → BLR    19:55         22:25   2h 30m    non-stop   \n",
       "10679              CCU → BLR    20:45         23:20   2h 35m    non-stop   \n",
       "10680              BLR → DEL    08:20         11:20       3h    non-stop   \n",
       "10681              BLR → DEL    11:30         14:10   2h 40m    non-stop   \n",
       "10682  DEL → GOI → BOM → COK    10:55         19:15   8h 20m     2 stops   \n",
       "\n",
       "      Additional_Info  Price  \n",
       "0             No info   3897  \n",
       "1             No info   7662  \n",
       "2             No info  13882  \n",
       "3             No info   6218  \n",
       "4             No info  13302  \n",
       "...               ...    ...  \n",
       "10678         No info   4107  \n",
       "10679         No info   4145  \n",
       "10680         No info   7229  \n",
       "10681         No info  12648  \n",
       "10682         No info  11753  \n",
       "\n",
       "[10683 rows x 11 columns]"
      ]
     },
     "execution_count": 464,
     "metadata": {},
     "output_type": "execute_result"
    }
   ],
   "source": [
    "data = pd.read_excel(\"Flight_Fare.xlsx\")\n",
    "original_data = data.copy()  # Backup for future safety\n",
    "\n",
    "X = data.drop('Price', axis=1)\n",
    "y = data['Price']\n",
    "X_train = original_data.drop('Price', axis=1).copy()\n",
    "y_train = original_data['Price'].copy()\n",
    "data"
   ]
  },
  {
   "cell_type": "code",
   "execution_count": 465,
   "id": "95b35754-d9c5-47dd-91de-a67cb02cc458",
   "metadata": {},
   "outputs": [
    {
     "data": {
      "text/html": [
       "<div>\n",
       "<style scoped>\n",
       "    .dataframe tbody tr th:only-of-type {\n",
       "        vertical-align: middle;\n",
       "    }\n",
       "\n",
       "    .dataframe tbody tr th {\n",
       "        vertical-align: top;\n",
       "    }\n",
       "\n",
       "    .dataframe thead th {\n",
       "        text-align: right;\n",
       "    }\n",
       "</style>\n",
       "<table border=\"1\" class=\"dataframe\">\n",
       "  <thead>\n",
       "    <tr style=\"text-align: right;\">\n",
       "      <th></th>\n",
       "      <th>Price</th>\n",
       "    </tr>\n",
       "  </thead>\n",
       "  <tbody>\n",
       "    <tr>\n",
       "      <th>count</th>\n",
       "      <td>10683.000000</td>\n",
       "    </tr>\n",
       "    <tr>\n",
       "      <th>mean</th>\n",
       "      <td>9087.064121</td>\n",
       "    </tr>\n",
       "    <tr>\n",
       "      <th>std</th>\n",
       "      <td>4611.359167</td>\n",
       "    </tr>\n",
       "    <tr>\n",
       "      <th>min</th>\n",
       "      <td>1759.000000</td>\n",
       "    </tr>\n",
       "    <tr>\n",
       "      <th>25%</th>\n",
       "      <td>5277.000000</td>\n",
       "    </tr>\n",
       "    <tr>\n",
       "      <th>50%</th>\n",
       "      <td>8372.000000</td>\n",
       "    </tr>\n",
       "    <tr>\n",
       "      <th>75%</th>\n",
       "      <td>12373.000000</td>\n",
       "    </tr>\n",
       "    <tr>\n",
       "      <th>max</th>\n",
       "      <td>79512.000000</td>\n",
       "    </tr>\n",
       "  </tbody>\n",
       "</table>\n",
       "</div>"
      ],
      "text/plain": [
       "              Price\n",
       "count  10683.000000\n",
       "mean    9087.064121\n",
       "std     4611.359167\n",
       "min     1759.000000\n",
       "25%     5277.000000\n",
       "50%     8372.000000\n",
       "75%    12373.000000\n",
       "max    79512.000000"
      ]
     },
     "execution_count": 465,
     "metadata": {},
     "output_type": "execute_result"
    }
   ],
   "source": [
    "data.describe()"
   ]
  },
  {
   "cell_type": "code",
   "execution_count": 466,
   "id": "1e117bcc-1cb8-4431-a39e-d87aca94ccd4",
   "metadata": {},
   "outputs": [
    {
     "data": {
      "text/plain": [
       "Airline            0\n",
       "Date_of_Journey    0\n",
       "Source             0\n",
       "Destination        0\n",
       "Route              1\n",
       "Dep_Time           0\n",
       "Arrival_Time       0\n",
       "Duration           0\n",
       "Total_Stops        1\n",
       "Additional_Info    0\n",
       "Price              0\n",
       "dtype: int64"
      ]
     },
     "execution_count": 466,
     "metadata": {},
     "output_type": "execute_result"
    }
   ],
   "source": [
    "data.isnull().sum()"
   ]
  },
  {
   "cell_type": "code",
   "execution_count": 467,
   "id": "c2442a10-465f-4aba-a44b-9bdeb81dbf44",
   "metadata": {},
   "outputs": [],
   "source": [
    "data.dropna(subset=['Route'], inplace=True)  # drop the 1 missing route row\n",
    "data['Total_Stops'].fillna('1 stop', inplace=True)  # fill missing stops logically, if it makes sense"
   ]
  },
  {
   "cell_type": "code",
   "execution_count": 468,
   "id": "9b0aa1ef-c588-4310-88fd-f8703af9be1c",
   "metadata": {},
   "outputs": [
    {
     "name": "stdout",
     "output_type": "stream",
     "text": [
      "Airline\n",
      "Jet Airways                          3849\n",
      "IndiGo                               2053\n",
      "Air India                            1751\n",
      "Multiple carriers                    1196\n",
      "SpiceJet                              818\n",
      "Vistara                               479\n",
      "Air Asia                              319\n",
      "GoAir                                 194\n",
      "Multiple carriers Premium economy      13\n",
      "Jet Airways Business                    6\n",
      "Vistara Premium economy                 3\n",
      "Trujet                                  1\n",
      "Name: count, dtype: int64\n"
     ]
    },
    {
     "data": {
      "image/png": "[encoded data removed]",
      "text/plain": [
       "<Figure size 640x480 with 1 Axes>"
      ]
     },
     "metadata": {},
     "output_type": "display_data"
    }
   ],
   "source": [
    "print(data['Airline'].value_counts())\n",
    "sns.countplot(y='Airline', data=data)\n",
    "plt.title(\"Airline Distribution\")\n",
    "plt.show()"
   ]
  },
  {
   "cell_type": "code",
   "execution_count": 469,
   "id": "b7d602a2-ca69-4150-a457-53bae032087f",
   "metadata": {},
   "outputs": [
    {
     "name": "stdout",
     "output_type": "stream",
     "text": [
      "Airline\n",
      "Jet Airways          3849\n",
      "IndiGo               2053\n",
      "Air India            1751\n",
      "Multiple carriers    1196\n",
      "SpiceJet              818\n",
      "Vistara               479\n",
      "Air Asia              319\n",
      "GoAir                 194\n",
      "Other                  23\n",
      "Name: count, dtype: int64\n"
     ]
    }
   ],
   "source": [
    "# Define threshold\n",
    "rare_airlines = data['Airline'].value_counts()[data['Airline'].value_counts() < 50].index\n",
    "# Replace them with \"Other\"\n",
    "data['Airline'] = data['Airline'].replace(rare_airlines, 'Other')\n",
    "print(data['Airline'].value_counts())"
   ]
  },
  {
   "cell_type": "code",
   "execution_count": 470,
   "id": "2a2d5e75-3330-4c01-8edf-b6127102fe2a",
   "metadata": {},
   "outputs": [
    {
     "name": "stdout",
     "output_type": "stream",
     "text": [
      "<class 'pandas.core.frame.DataFrame'>\n",
      "Index: 10682 entries, 0 to 10682\n",
      "Data columns (total 11 columns):\n",
      " #   Column           Non-Null Count  Dtype \n",
      "---  ------           --------------  ----- \n",
      " 0   Airline          10682 non-null  object\n",
      " 1   Date_of_Journey  10682 non-null  object\n",
      " 2   Source           10682 non-null  object\n",
      " 3   Destination      10682 non-null  object\n",
      " 4   Route            10682 non-null  object\n",
      " 5   Dep_Time         10682 non-null  object\n",
      " 6   Arrival_Time     10682 non-null  object\n",
      " 7   Duration         10682 non-null  object\n",
      " 8   Total_Stops      10682 non-null  object\n",
      " 9   Additional_Info  10682 non-null  object\n",
      " 10  Price            10682 non-null  int64 \n",
      "dtypes: int64(1), object(10)\n",
      "memory usage: 1001.4+ KB\n"
     ]
    }
   ],
   "source": [
    "data.info()"
   ]
  },
  {
   "cell_type": "code",
   "execution_count": 471,
   "id": "7a66c339-b103-4b15-a548-edc327218875",
   "metadata": {},
   "outputs": [
    {
     "data": {
      "text/plain": [
       "(10682, 11)"
      ]
     },
     "execution_count": 471,
     "metadata": {},
     "output_type": "execute_result"
    }
   ],
   "source": [
    "data.shape"
   ]
  },
  {
   "cell_type": "code",
   "execution_count": 472,
   "id": "65268ed1-92bf-4e2e-90f9-d7b4fcad70f7",
   "metadata": {},
   "outputs": [],
   "source": [
    "# Convert Date_of_Journey to datetime type\n",
    "data['Date_of_Journey'] = pd.to_datetime(data['Date_of_Journey'], format='%d/%m/%Y')\n",
    "data['Journey_day'] = data['Date_of_Journey'].dt.day\n",
    "data['Journey_month'] = data['Date_of_Journey'].dt.month\n",
    "\n",
    "# Extract hours and minutes from Dep_Time and Arrival_Time\n",
    "data['Dep_Time'] = pd.to_datetime(data['Dep_Time'])\n",
    "data['Dep_hour'] = data['Dep_Time'].dt.hour\n",
    "data['Dep_minute'] = data['Dep_Time'].dt.minute\n",
    "\n",
    "data['Arrival_Time'] = pd.to_datetime(data['Arrival_Time'], errors='coerce')  # if format issues\n",
    "data['Arrival_hour'] = data['Arrival_Time'].dt.hour\n",
    "data['Arrival_minute'] = data['Arrival_Time'].dt.minute\n",
    "\n",
    "# Process Duration column (like '2h 50m')\n",
    "def fix_duration(x):\n",
    "    if 'h' not in x:\n",
    "        x = '0h ' + x\n",
    "    if 'm' not in x:\n",
    "        x = x + ' 0m'\n",
    "    return x\n",
    "\n",
    "data['Duration'] = data['Duration'].apply(fix_duration)\n",
    "data['Duration_hours'] = data['Duration'].str.extract('(\\d+)h').astype(int)\n",
    "data['Duration_mins'] = data['Duration'].str.extract('(\\d+)m').astype(int)"
   ]
  },
  {
   "cell_type": "code",
   "execution_count": 473,
   "id": "0870443f-9ea9-42e7-9409-0d55c97e7980",
   "metadata": {},
   "outputs": [],
   "source": [
    "# Split data\n",
    "X = data.drop(\"Price\", axis=1)\n",
    "y = data[\"Price\"]\n",
    "\n",
    "numeric_features = X.select_dtypes(include=['int64', 'float64']).columns\n",
    "categorical_features = X.select_dtypes(include=['object']).columns"
   ]
  },
  {
   "cell_type": "code",
   "execution_count": 498,
   "id": "2e3f4797-9443-4abe-a1d2-84454f4204f5",
   "metadata": {},
   "outputs": [
    {
     "data": {
      "text/html": [
       "<style>#sk-container-id-57 {color: black;background-color: white;}#sk-container-id-57 pre{padding: 0;}#sk-container-id-57 div.sk-toggleable {background-color: white;}#sk-container-id-57 label.sk-toggleable__label {cursor: pointer;display: block;width: 100%;margin-bottom: 0;padding: 0.3em;box-sizing: border-box;text-align: center;}#sk-container-id-57 label.sk-toggleable__label-arrow:before {content: \"▸\";float: left;margin-right: 0.25em;color: #696969;}#sk-container-id-57 label.sk-toggleable__label-arrow:hover:before {color: black;}#sk-container-id-57 div.sk-estimator:hover label.sk-toggleable__label-arrow:before {color: black;}#sk-container-id-57 div.sk-toggleable__content {max-height: 0;max-width: 0;overflow: hidden;text-align: left;background-color: #f0f8ff;}#sk-container-id-57 div.sk-toggleable__content pre {margin: 0.2em;color: black;border-radius: 0.25em;background-color: #f0f8ff;}#sk-container-id-57 input.sk-toggleable__control:checked~div.sk-toggleable__content {max-height: 200px;max-width: 100%;overflow: auto;}#sk-container-id-57 input.sk-toggleable__control:checked~label.sk-toggleable__label-arrow:before {content: \"▾\";}#sk-container-id-57 div.sk-estimator input.sk-toggleable__control:checked~label.sk-toggleable__label {background-color: #d4ebff;}#sk-container-id-57 div.sk-label input.sk-toggleable__control:checked~label.sk-toggleable__label {background-color: #d4ebff;}#sk-container-id-57 input.sk-hidden--visually {border: 0;clip: rect(1px 1px 1px 1px);clip: rect(1px, 1px, 1px, 1px);height: 1px;margin: -1px;overflow: hidden;padding: 0;position: absolute;width: 1px;}#sk-container-id-57 div.sk-estimator {font-family: monospace;background-color: #f0f8ff;border: 1px dotted black;border-radius: 0.25em;box-sizing: border-box;margin-bottom: 0.5em;}#sk-container-id-57 div.sk-estimator:hover {background-color: #d4ebff;}#sk-container-id-57 div.sk-parallel-item::after {content: \"\";width: 100%;border-bottom: 1px solid gray;flex-grow: 1;}#sk-container-id-57 div.sk-label:hover label.sk-toggleable__label {background-color: #d4ebff;}#sk-container-id-57 div.sk-serial::before {content: \"\";position: absolute;border-left: 1px solid gray;box-sizing: border-box;top: 0;bottom: 0;left: 50%;z-index: 0;}#sk-container-id-57 div.sk-serial {display: flex;flex-direction: column;align-items: center;background-color: white;padding-right: 0.2em;padding-left: 0.2em;position: relative;}#sk-container-id-57 div.sk-item {position: relative;z-index: 1;}#sk-container-id-57 div.sk-parallel {display: flex;align-items: stretch;justify-content: center;background-color: white;position: relative;}#sk-container-id-57 div.sk-item::before, #sk-container-id-57 div.sk-parallel-item::before {content: \"\";position: absolute;border-left: 1px solid gray;box-sizing: border-box;top: 0;bottom: 0;left: 50%;z-index: -1;}#sk-container-id-57 div.sk-parallel-item {display: flex;flex-direction: column;z-index: 1;position: relative;background-color: white;}#sk-container-id-57 div.sk-parallel-item:first-child::after {align-self: flex-end;width: 50%;}#sk-container-id-57 div.sk-parallel-item:last-child::after {align-self: flex-start;width: 50%;}#sk-container-id-57 div.sk-parallel-item:only-child::after {width: 0;}#sk-container-id-57 div.sk-dashed-wrapped {border: 1px dashed gray;margin: 0 0.4em 0.5em 0.4em;box-sizing: border-box;padding-bottom: 0.4em;background-color: white;}#sk-container-id-57 div.sk-label label {font-family: monospace;font-weight: bold;display: inline-block;line-height: 1.2em;}#sk-container-id-57 div.sk-label-container {text-align: center;}#sk-container-id-57 div.sk-container {/* jupyter's `normalize.less` sets `[hidden] { display: none; }` but bootstrap.min.css set `[hidden] { display: none !important; }` so we also need the `!important` here to be able to override the default hidden behavior on the sphinx rendered scikit-learn.org. See: https://github.com/scikit-learn/scikit-learn/issues/21755 */display: inline-block !important;position: relative;}#sk-container-id-57 div.sk-text-repr-fallback {display: none;}</style><div id=\"sk-container-id-57\" class=\"sk-top-container\"><div class=\"sk-text-repr-fallback\"><pre>Pipeline(steps=[(&#x27;preprocessor&#x27;,\n",
       "                 ColumnTransformer(transformers=[(&#x27;num&#x27;, StandardScaler(),\n",
       "                                                  [&#x27;Journey_day&#x27;,\n",
       "                                                   &#x27;Journey_month&#x27;, &#x27;Dep_hour&#x27;,\n",
       "                                                   &#x27;Dep_minute&#x27;, &#x27;Arrival_hour&#x27;,\n",
       "                                                   &#x27;Arrival_minute&#x27;,\n",
       "                                                   &#x27;Duration_hours&#x27;,\n",
       "                                                   &#x27;Duration_mins&#x27;]),\n",
       "                                                 (&#x27;cat&#x27;,\n",
       "                                                  OneHotEncoder(handle_unknown=&#x27;ignore&#x27;),\n",
       "                                                  [&#x27;Airline&#x27;, &#x27;Source&#x27;,\n",
       "                                                   &#x27;Destination&#x27;, &#x27;Total_Stops&#x27;,\n",
       "                                                   &#x27;Additional_Info&#x27;])])),\n",
       "                (&#x27;regressor&#x27;, LinearRegression())])</pre><b>In a Jupyter environment, please rerun this cell to show the HTML representation or trust the notebook. <br />On GitHub, the HTML representation is unable to render, please try loading this page with nbviewer.org.</b></div><div class=\"sk-container\" hidden><div class=\"sk-item sk-dashed-wrapped\"><div class=\"sk-label-container\"><div class=\"sk-label sk-toggleable\"><input class=\"sk-toggleable__control sk-hidden--visually\" id=\"sk-estimator-id-75\" type=\"checkbox\" ><label for=\"sk-estimator-id-75\" class=\"sk-toggleable__label sk-toggleable__label-arrow\">Pipeline</label><div class=\"sk-toggleable__content\"><pre>Pipeline(steps=[(&#x27;preprocessor&#x27;,\n",
       "                 ColumnTransformer(transformers=[(&#x27;num&#x27;, StandardScaler(),\n",
       "                                                  [&#x27;Journey_day&#x27;,\n",
       "                                                   &#x27;Journey_month&#x27;, &#x27;Dep_hour&#x27;,\n",
       "                                                   &#x27;Dep_minute&#x27;, &#x27;Arrival_hour&#x27;,\n",
       "                                                   &#x27;Arrival_minute&#x27;,\n",
       "                                                   &#x27;Duration_hours&#x27;,\n",
       "                                                   &#x27;Duration_mins&#x27;]),\n",
       "                                                 (&#x27;cat&#x27;,\n",
       "                                                  OneHotEncoder(handle_unknown=&#x27;ignore&#x27;),\n",
       "                                                  [&#x27;Airline&#x27;, &#x27;Source&#x27;,\n",
       "                                                   &#x27;Destination&#x27;, &#x27;Total_Stops&#x27;,\n",
       "                                                   &#x27;Additional_Info&#x27;])])),\n",
       "                (&#x27;regressor&#x27;, LinearRegression())])</pre></div></div></div><div class=\"sk-serial\"><div class=\"sk-item sk-dashed-wrapped\"><div class=\"sk-label-container\"><div class=\"sk-label sk-toggleable\"><input class=\"sk-toggleable__control sk-hidden--visually\" id=\"sk-estimator-id-76\" type=\"checkbox\" ><label for=\"sk-estimator-id-76\" class=\"sk-toggleable__label sk-toggleable__label-arrow\">preprocessor: ColumnTransformer</label><div class=\"sk-toggleable__content\"><pre>ColumnTransformer(transformers=[(&#x27;num&#x27;, StandardScaler(),\n",
       "                                 [&#x27;Journey_day&#x27;, &#x27;Journey_month&#x27;, &#x27;Dep_hour&#x27;,\n",
       "                                  &#x27;Dep_minute&#x27;, &#x27;Arrival_hour&#x27;,\n",
       "                                  &#x27;Arrival_minute&#x27;, &#x27;Duration_hours&#x27;,\n",
       "                                  &#x27;Duration_mins&#x27;]),\n",
       "                                (&#x27;cat&#x27;, OneHotEncoder(handle_unknown=&#x27;ignore&#x27;),\n",
       "                                 [&#x27;Airline&#x27;, &#x27;Source&#x27;, &#x27;Destination&#x27;,\n",
       "                                  &#x27;Total_Stops&#x27;, &#x27;Additional_Info&#x27;])])</pre></div></div></div><div class=\"sk-parallel\"><div class=\"sk-parallel-item\"><div class=\"sk-item\"><div class=\"sk-label-container\"><div class=\"sk-label sk-toggleable\"><input class=\"sk-toggleable__control sk-hidden--visually\" id=\"sk-estimator-id-77\" type=\"checkbox\" ><label for=\"sk-estimator-id-77\" class=\"sk-toggleable__label sk-toggleable__label-arrow\">num</label><div class=\"sk-toggleable__content\"><pre>[&#x27;Journey_day&#x27;, &#x27;Journey_month&#x27;, &#x27;Dep_hour&#x27;, &#x27;Dep_minute&#x27;, &#x27;Arrival_hour&#x27;, &#x27;Arrival_minute&#x27;, &#x27;Duration_hours&#x27;, &#x27;Duration_mins&#x27;]</pre></div></div></div><div class=\"sk-serial\"><div class=\"sk-item\"><div class=\"sk-estimator sk-toggleable\"><input class=\"sk-toggleable__control sk-hidden--visually\" id=\"sk-estimator-id-78\" type=\"checkbox\" ><label for=\"sk-estimator-id-78\" class=\"sk-toggleable__label sk-toggleable__label-arrow\">StandardScaler</label><div class=\"sk-toggleable__content\"><pre>StandardScaler()</pre></div></div></div></div></div></div><div class=\"sk-parallel-item\"><div class=\"sk-item\"><div class=\"sk-label-container\"><div class=\"sk-label sk-toggleable\"><input class=\"sk-toggleable__control sk-hidden--visually\" id=\"sk-estimator-id-79\" type=\"checkbox\" ><label for=\"sk-estimator-id-79\" class=\"sk-toggleable__label sk-toggleable__label-arrow\">cat</label><div class=\"sk-toggleable__content\"><pre>[&#x27;Airline&#x27;, &#x27;Source&#x27;, &#x27;Destination&#x27;, &#x27;Total_Stops&#x27;, &#x27;Additional_Info&#x27;]</pre></div></div></div><div class=\"sk-serial\"><div class=\"sk-item\"><div class=\"sk-estimator sk-toggleable\"><input class=\"sk-toggleable__control sk-hidden--visually\" id=\"sk-estimator-id-80\" type=\"checkbox\" ><label for=\"sk-estimator-id-80\" class=\"sk-toggleable__label sk-toggleable__label-arrow\">OneHotEncoder</label><div class=\"sk-toggleable__content\"><pre>OneHotEncoder(handle_unknown=&#x27;ignore&#x27;)</pre></div></div></div></div></div></div></div></div><div class=\"sk-item\"><div class=\"sk-estimator sk-toggleable\"><input class=\"sk-toggleable__control sk-hidden--visually\" id=\"sk-estimator-id-81\" type=\"checkbox\" ><label for=\"sk-estimator-id-81\" class=\"sk-toggleable__label sk-toggleable__label-arrow\">LinearRegression</label><div class=\"sk-toggleable__content\"><pre>LinearRegression()</pre></div></div></div></div></div></div></div>"
      ],
      "text/plain": [
       "Pipeline(steps=[('preprocessor',\n",
       "                 ColumnTransformer(transformers=[('num', StandardScaler(),\n",
       "                                                  ['Journey_day',\n",
       "                                                   'Journey_month', 'Dep_hour',\n",
       "                                                   'Dep_minute', 'Arrival_hour',\n",
       "                                                   'Arrival_minute',\n",
       "                                                   'Duration_hours',\n",
       "                                                   'Duration_mins']),\n",
       "                                                 ('cat',\n",
       "                                                  OneHotEncoder(handle_unknown='ignore'),\n",
       "                                                  ['Airline', 'Source',\n",
       "                                                   'Destination', 'Total_Stops',\n",
       "                                                   'Additional_Info'])])),\n",
       "                ('regressor', LinearRegression())])"
      ]
     },
     "execution_count": 498,
     "metadata": {},
     "output_type": "execute_result"
    }
   ],
   "source": [
    "from sklearn.compose import ColumnTransformer\n",
    "from sklearn.pipeline import Pipeline\n",
    "#Preprocessor\n",
    "preprocessor = ColumnTransformer(\n",
    "    transformers=[\n",
    "        ('num', StandardScaler(), numeric_features),\n",
    "        ('cat', OneHotEncoder(handle_unknown='ignore'), categorical_features)\n",
    "    ])\n",
    "\n",
    "#Create pipeline\n",
    "pipeline = Pipeline(steps=[\n",
    "    ('preprocessor', preprocessor),\n",
    "    ('regressor', LinearRegression())\n",
    "])\n",
    "\n",
    "#Train/test split\n",
    "X_train, X_test, y_train, y_test = train_test_split(X, y, test_size=0.2, random_state=42)\n",
    "pipeline.fit(X_train, y_train)"
   ]
  },
  {
   "cell_type": "code",
   "execution_count": 499,
   "id": "002904ff-c3f4-45b9-a310-633b8473ec2c",
   "metadata": {},
   "outputs": [],
   "source": [
    "preds = pipeline.predict(X_test)"
   ]
  },
  {
   "cell_type": "code",
   "execution_count": 500,
   "id": "b5d0f01c-6ed5-4e3d-8b0c-52a83749598e",
   "metadata": {},
   "outputs": [
    {
     "name": "stdout",
     "output_type": "stream",
     "text": [
      "Linear Regression (with scaling and encoding)\n",
      "MAE: 1778.4198742795952\n",
      "RMSE: 2704.422500748426\n",
      "R² Score: 0.6607976088830343\n"
     ]
    }
   ],
   "source": [
    "from sklearn.metrics import mean_absolute_error, mean_squared_error, r2_score\n",
    "mae_lr = mean_absolute_error(y_test, preds)\n",
    "rmse_lr = np.sqrt(mean_squared_error(y_test, preds))\n",
    "r2_lr = r2_score(y_test, preds)\n",
    "\n",
    "print(\"Linear Regression (with scaling and encoding)\")\n",
    "print(\"MAE:\", mae_lr)\n",
    "print(\"RMSE:\", rmse_lr)\n",
    "print(\"R² Score:\", r2_lr)"
   ]
  },
  {
   "cell_type": "code",
   "execution_count": 501,
   "id": "8d2776b1-78c6-4691-a0af-dfe8676be4e8",
   "metadata": {},
   "outputs": [],
   "source": [
    "#DECISION TREE REGRESSOR\n",
    "from sklearn.tree import DecisionTreeRegressor\n",
    "\n",
    "# Reuse the same preprocessor from before (scaling for numeric, one-hot for categorical)\n",
    "# Just swap the regressor in the pipeline\n",
    "\n",
    "pipeline_dt = Pipeline(steps=[\n",
    "    ('preprocessor', preprocessor),\n",
    "    ('regressor', DecisionTreeRegressor(random_state=42))\n",
    "])"
   ]
  },
  {
   "cell_type": "code",
   "execution_count": 502,
   "id": "01398564-ef18-43c3-b3e3-c619625e1470",
   "metadata": {},
   "outputs": [],
   "source": [
    "# Train-test split (reuse if already done)\n",
    "# X_train, X_test, y_train, y_test\n",
    "\n",
    "pipeline_dt.fit(X_train, y_train)\n",
    "preds_dt = pipeline_dt.predict(X_test)"
   ]
  },
  {
   "cell_type": "code",
   "execution_count": 503,
   "id": "6db0aebe-3caf-4272-abd4-b5102ee5b0ce",
   "metadata": {},
   "outputs": [
    {
     "name": "stdout",
     "output_type": "stream",
     "text": [
      "Decision Tree Results\n",
      "MAE: 671.8846513804399\n",
      "RMSE: 1805.5981633842555\n",
      "R² Score: 0.8487999159911602\n"
     ]
    }
   ],
   "source": [
    "from sklearn.metrics import mean_absolute_error, mean_squared_error, r2_score\n",
    "#Evaluation\n",
    "mae_d= mean_absolute_error(y_test, preds_dt)\n",
    "rmse_d = np.sqrt(mean_squared_error(y_test, preds_dt))\n",
    "r2_d = r2_score(y_test, preds_dt)\n",
    "\n",
    "print(\"Decision Tree Results\")\n",
    "print(\"MAE:\", mae_d)\n",
    "print(\"RMSE:\", rmse_d)\n",
    "print(\"R² Score:\", r2_d)"
   ]
  },
  {
   "cell_type": "code",
   "execution_count": 504,
   "id": "b00e7f3e-700e-45a9-8c7e-e5275a79da02",
   "metadata": {},
   "outputs": [
    {
     "name": "stdout",
     "output_type": "stream",
     "text": [
      "Fitting 5 folds for each of 50 candidates, totalling 250 fits\n",
      "Best parameters found: {'regressor__max_depth': 13, 'regressor__max_features': None, 'regressor__min_samples_leaf': 4, 'regressor__min_samples_split': 9}\n"
     ]
    }
   ],
   "source": [
    "#Hyperparameter grid\n",
    "from sklearn.model_selection import RandomizedSearchCV\n",
    "from scipy.stats import randint\n",
    "\n",
    "# Define parameter distribution to sample from\n",
    "param_dist = {\n",
    "    'regressor__max_depth': randint(3, 20),\n",
    "    'regressor__min_samples_split': randint(2, 20),\n",
    "    'regressor__min_samples_leaf': randint(1, 20),\n",
    "    'regressor__max_features': ['auto', 'sqrt', 'log2', None]\n",
    "}\n",
    "\n",
    "# Create RandomizedSearchCV\n",
    "random_search = RandomizedSearchCV(\n",
    "    pipeline_dt, param_distributions=param_dist, \n",
    "    n_iter=50, cv=5, verbose=2, random_state=42, n_jobs=-1\n",
    ")\n",
    "\n",
    "# Fit it\n",
    "random_search.fit(X_train, y_train)\n",
    "\n",
    "# Best parameters\n",
    "print(\"Best parameters found:\", random_search.best_params_)"
   ]
  },
  {
   "cell_type": "code",
   "execution_count": 505,
   "id": "d0894b23-edab-4218-94f4-40a4729a4d8b",
   "metadata": {},
   "outputs": [
    {
     "name": "stdout",
     "output_type": "stream",
     "text": [
      "Decision Tree Results\n",
      "MAE: 807.8851194261576\n",
      "RMSE: 1912.8867203285326\n",
      "R² Score: 0.8302974656128259\n"
     ]
    }
   ],
   "source": [
    "# Evaluate best estimator on test set\n",
    "best_model = random_search.best_estimator_\n",
    "preds_best = best_model.predict(X_test)\n",
    "\n",
    "mae_dt = mean_absolute_error(y_test, preds_best)\n",
    "rmse_dt = np.sqrt(mean_squared_error(y_test, preds_best))\n",
    "r2_dt = r2_score(y_test, preds_best)\n",
    "\n",
    "print(\"Decision Tree Results\")\n",
    "print(\"MAE:\", mae_dt)\n",
    "print(\"RMSE:\", rmse_dt)\n",
    "print(\"R² Score:\", r2_dt)"
   ]
  },
  {
   "cell_type": "code",
   "execution_count": 482,
   "id": "e7932df7-0297-4d40-9513-46f8c9beb33b",
   "metadata": {},
   "outputs": [],
   "source": [
    "#RANDOM FOREST REGRESSOR \n",
    "from sklearn.ensemble import RandomForestRegressor\n",
    "pipeline_rf_baseline = Pipeline([\n",
    "    ('scaler', StandardScaler()),\n",
    "    ('regressor', RandomForestRegressor(random_state=42))\n",
    "])"
   ]
  },
  {
   "cell_type": "code",
   "execution_count": 483,
   "id": "94afd4d5-e963-4c22-a586-af0122d691c2",
   "metadata": {},
   "outputs": [],
   "source": [
    "numeric_features = ['Journey_day', 'Journey_month', 'Dep_hour', 'Dep_minute', 'Arrival_hour', 'Arrival_minute', 'Duration_hours', 'Duration_mins']\n",
    "categorical_features = ['Airline', 'Source', 'Destination', 'Total_Stops', 'Additional_Info']"
   ]
  },
  {
   "cell_type": "code",
   "execution_count": 484,
   "id": "f22a6cc4-bba2-40d3-ae12-a5731125c5a8",
   "metadata": {},
   "outputs": [],
   "source": [
    "preprocessor = ColumnTransformer([\n",
    "    ('num', StandardScaler(), numeric_features),\n",
    "    ('cat', OneHotEncoder(handle_unknown='ignore'), categorical_features)\n",
    "])"
   ]
  },
  {
   "cell_type": "code",
   "execution_count": 485,
   "id": "70c7b683-8505-41a7-a0ca-6100964af0cb",
   "metadata": {},
   "outputs": [],
   "source": [
    "pipeline_rf = Pipeline([\n",
    "    ('preprocessor', preprocessor),\n",
    "    ('regressor', RandomForestRegressor(random_state=42))\n",
    "])"
   ]
  },
  {
   "cell_type": "code",
   "execution_count": 486,
   "id": "63b7d9ad-2a3f-4be4-940b-163ef616c4fa",
   "metadata": {},
   "outputs": [],
   "source": [
    "pipeline_rf.fit(X_train, y_train)\n",
    "preds = pipeline_rf.predict(X_test)"
   ]
  },
  {
   "cell_type": "code",
   "execution_count": 487,
   "id": "8008f35a-6626-454a-9cc7-096e516e45ee",
   "metadata": {},
   "outputs": [
    {
     "name": "stdout",
     "output_type": "stream",
     "text": [
      "Mean Absolute Error (MAE): 647.8931\n",
      "Root Mean Squared Error (RMSE): 1640.3069\n",
      "R^2 Score: 0.8752\n"
     ]
    }
   ],
   "source": [
    "from sklearn.metrics import mean_absolute_error, mean_squared_error, r2_score\n",
    "# Evaluate\n",
    "mae = mean_absolute_error(y_test, preds)\n",
    "rmse = np.sqrt(mean_squared_error(y_test, preds))\n",
    "r2 = r2_score(y_test, preds)\n",
    "\n",
    "print(f\"Mean Absolute Error (MAE): {mae:.4f}\")\n",
    "print(f\"Root Mean Squared Error (RMSE): {rmse:.4f}\")\n",
    "print(f\"R^2 Score: {r2:.4f}\")"
   ]
  },
  {
   "cell_type": "code",
   "execution_count": 418,
   "id": "6ac54c63-0a5e-4564-bfb2-43ca349147ba",
   "metadata": {},
   "outputs": [
    {
     "data": {
      "image/png": "[encoded data removed]",
      "text/plain": [
       "<Figure size 640x480 with 1 Axes>"
      ]
     },
     "metadata": {},
     "output_type": "display_data"
    }
   ],
   "source": [
    "feature_importances = pd.Series(importances, index=all_features)\n",
    "feature_importances.nlargest(10).plot(kind='barh')\n",
    "plt.title(\"Top 10 Feature Importances\")\n",
    "plt.show()"
   ]
  },
  {
   "cell_type": "code",
   "execution_count": 419,
   "id": "27067a75-cbbc-44dc-816e-273a88181dfb",
   "metadata": {},
   "outputs": [
    {
     "name": "stdout",
     "output_type": "stream",
     "text": [
      "Total_Stops\n",
      "1    4510\n",
      "0    2794\n",
      "2    1203\n",
      "3      39\n",
      "Name: count, dtype: int64\n"
     ]
    },
    {
     "data": {
      "image/png": "[encoded data removed]",
      "text/plain": [
       "<Figure size 640x480 with 1 Axes>"
      ]
     },
     "metadata": {},
     "output_type": "display_data"
    }
   ],
   "source": [
    "print(X_train['Total_Stops'].value_counts())\n",
    "sns.countplot(x='Total_Stops', data=X_train)\n",
    "plt.show()"
   ]
  },
  {
   "cell_type": "code",
   "execution_count": 488,
   "id": "bede7c07-1a27-47eb-ad2c-9224687aec7b",
   "metadata": {},
   "outputs": [
    {
     "name": "stdout",
     "output_type": "stream",
     "text": [
      "Fitting 3 folds for each of 20 candidates, totalling 60 fits\n",
      "Best params: {'regressor__n_estimators': 300, 'regressor__min_samples_split': 2, 'regressor__min_samples_leaf': 2, 'regressor__max_features': 'auto', 'regressor__max_depth': 30, 'regressor__bootstrap': True}\n"
     ]
    }
   ],
   "source": [
    "from sklearn.model_selection import RandomizedSearchCV\n",
    "param_dist = {\n",
    "    'regressor__n_estimators': [100, 200, 300],\n",
    "    'regressor__max_depth': [None, 10, 20, 30],\n",
    "    'regressor__min_samples_split': [2, 5, 10],\n",
    "    'regressor__min_samples_leaf': [1, 2, 4],\n",
    "    'regressor__max_features': ['auto', 'sqrt'],\n",
    "    'regressor__bootstrap': [True, False]\n",
    "}\n",
    "random_search = RandomizedSearchCV(pipeline_rf, param_distributions=param_dist, n_iter=20, cv=3, verbose=2, random_state=42, n_jobs=-1)\n",
    "random_search.fit(X_train, y_train)\n",
    "print(\"Best params:\", random_search.best_params_)"
   ]
  },
  {
   "cell_type": "code",
   "execution_count": 489,
   "id": "0a721124-243f-4489-af9e-253cfb39fac5",
   "metadata": {},
   "outputs": [
    {
     "name": "stdout",
     "output_type": "stream",
     "text": [
      "MAE: 667.7270477789252\n",
      "RMSE: 1635.0247589722205\n",
      "R² Score: 0.8760180419593588\n"
     ]
    }
   ],
   "source": [
    "best_model = random_search.best_estimator_\n",
    "\n",
    "# Predict on validation set\n",
    "preds = best_model.predict(X_test)\n",
    "\n",
    "# Calculate metrics\n",
    "mae = mean_absolute_error(y_test, preds)\n",
    "rmse = np.sqrt(mean_squared_error(y_test, preds))\n",
    "r2 = r2_score(y_test, preds)\n",
    "\n",
    "print(f\"MAE: {mae}\")\n",
    "print(f\"RMSE: {rmse}\")\n",
    "print(f\"R² Score: {r2}\")"
   ]
  },
  {
   "cell_type": "code",
   "execution_count": 490,
   "id": "2a201823-2eb4-4b1a-84b0-26cfbb88fa15",
   "metadata": {},
   "outputs": [],
   "source": [
    "from xgboost import XGBRegressor\n",
    "# Features\n",
    "numeric_features = ['Journey_day', 'Journey_month', 'Dep_hour', 'Dep_minute',\n",
    "                    'Arrival_hour', 'Arrival_minute', 'Duration_hours', 'Duration_mins']\n",
    "categorical_features = ['Airline', 'Source', 'Destination', 'Total_Stops', 'Additional_Info']"
   ]
  },
  {
   "cell_type": "code",
   "execution_count": 491,
   "id": "a42a920a-485c-428e-9357-3f3c74690b99",
   "metadata": {},
   "outputs": [],
   "source": [
    "# Create column transformer (same as you did before)\n",
    "preprocessor = ColumnTransformer([\n",
    "    ('num', StandardScaler(), numeric_features),\n",
    "    ('cat', OneHotEncoder(handle_unknown='ignore'), categorical_features)\n",
    "])"
   ]
  },
  {
   "cell_type": "code",
   "execution_count": 492,
   "id": "150e9732-86f8-4264-8bfe-090825f7f631",
   "metadata": {},
   "outputs": [],
   "source": [
    "# Create pipeline with XGBoost\n",
    "pipeline_xgb = Pipeline([\n",
    "    ('preprocessor', preprocessor),\n",
    "    ('regressor', XGBRegressor(random_state=42, n_jobs=-1))\n",
    "])"
   ]
  },
  {
   "cell_type": "code",
   "execution_count": 493,
   "id": "7a0e27e2-113c-498d-9408-fa8eaf07e805",
   "metadata": {},
   "outputs": [],
   "source": [
    "# Fit\n",
    "pipeline_xgb.fit(X_train, y_train)\n",
    "# Predict\n",
    "preds_xgb = pipeline_xgb.predict(X_test)"
   ]
  },
  {
   "cell_type": "code",
   "execution_count": 494,
   "id": "f3e1ae24-b0fd-4888-89c6-52be21b4f583",
   "metadata": {},
   "outputs": [
    {
     "name": "stdout",
     "output_type": "stream",
     "text": [
      "XGBoost Regressor Evaluation:\n",
      "MAE: 742.76\n",
      "RMSE: 1630.59\n",
      "R²: 0.88\n"
     ]
    }
   ],
   "source": [
    "# Evaluate baseline model\n",
    "mae = mean_absolute_error(y_test, preds_xgb)\n",
    "rmse = np.sqrt(mean_squared_error(y_test, preds_xgb))\n",
    "r2 = r2_score(y_test, preds_xgb)\n",
    "\n",
    "print(\"XGBoost Regressor Evaluation:\")\n",
    "print(f\"MAE: {mae:.2f}\")\n",
    "print(f\"RMSE: {rmse:.2f}\")\n",
    "print(f\"R²: {r2:.2f}\")"
   ]
  },
  {
   "cell_type": "code",
   "execution_count": 495,
   "id": "fc01b4ea-6886-4fd0-8250-3373d22e45ca",
   "metadata": {},
   "outputs": [
    {
     "name": "stdout",
     "output_type": "stream",
     "text": [
      "Fitting 5 folds for each of 30 candidates, totalling 150 fits\n",
      "Best parameters: {'regressor__n_estimators': 300, 'regressor__min_samples_split': 2, 'regressor__min_samples_leaf': 2, 'regressor__max_features': 'auto', 'regressor__max_depth': 30, 'regressor__bootstrap': True}\n"
     ]
    }
   ],
   "source": [
    "from sklearn.model_selection import RandomizedSearchCV\n",
    "\n",
    "# Define the parameter grid\n",
    "param_dist = {\n",
    "    'regressor__n_estimators': [100, 200, 300],\n",
    "    'regressor__max_depth': [3, 5, 7, 10],\n",
    "    'regressor__learning_rate': [0.01, 0.05, 0.1, 0.2],\n",
    "    'regressor__subsample': [0.6, 0.8, 1.0],\n",
    "    'regressor__colsample_bytree': [0.6, 0.8, 1.0]\n",
    "}\n",
    "\n",
    "random_search_xgb = RandomizedSearchCV(\n",
    "    pipeline_xgb,\n",
    "    param_distributions=param_dist,\n",
    "    n_iter=30,\n",
    "    cv=5,\n",
    "    scoring='neg_root_mean_squared_error',\n",
    "    verbose=2,\n",
    "    n_jobs=-1,\n",
    "    random_state=42\n",
    ")\n",
    "\n",
    "random_search_xgb.fit(X_train, y_train)\n",
    "print(\"Best parameters:\", random_search.best_params_)"
   ]
  },
  {
   "cell_type": "code",
   "execution_count": 496,
   "id": "ae3ae999-e4e2-40e6-a944-cc18a4491f44",
   "metadata": {},
   "outputs": [
    {
     "name": "stdout",
     "output_type": "stream",
     "text": [
      "\n",
      "Tuned XGBoost Regressor Evaluation:\n",
      "Best Params: {'regressor__subsample': 0.8, 'regressor__n_estimators': 300, 'regressor__max_depth': 10, 'regressor__learning_rate': 0.05, 'regressor__colsample_bytree': 0.6}\n",
      "MAE: 646.80\n",
      "RMSE: 1409.13\n",
      "R²: 0.91\n"
     ]
    }
   ],
   "source": [
    "best_model_xgb = random_search_xgb.best_estimator_\n",
    "best_preds_xgb = best_model_xgb.predict(X_test)\n",
    "\n",
    "# Evaluate best model\n",
    "mae_best = mean_absolute_error(y_test, best_preds_xgb)\n",
    "rmse_best = np.sqrt(mean_squared_error(y_test, best_preds_xgb))\n",
    "r2_best = r2_score(y_test, best_preds_xgb)\n",
    "\n",
    "print(\"\\nTuned XGBoost Regressor Evaluation:\")\n",
    "print(f\"Best Params: {random_search_xgb.best_params_}\")\n",
    "print(f\"MAE: {mae_best:.2f}\")\n",
    "print(f\"RMSE: {rmse_best:.2f}\")\n",
    "print(f\"R²: {r2_best:.2f}\")"
   ]
  },
  {
   "cell_type": "code",
   "execution_count": 506,
   "id": "2370571c-2859-461c-8748-64dabde8c554",
   "metadata": {},
   "outputs": [
    {
     "name": "stdout",
     "output_type": "stream",
     "text": [
      "               Model          MAE         RMSE  R2 Score\n",
      "0  Linear Regression  1778.419874  2704.422501  0.660798\n",
      "1      Decision Tree   807.885119  1912.886720  0.830297\n",
      "2      Random Forest   742.763743  1630.588056  0.876690\n",
      "3            XGBoost   646.798696  1409.132931  0.907910\n"
     ]
    }
   ],
   "source": [
    "results = pd.DataFrame({\n",
    "    'Model': ['Linear Regression', 'Decision Tree', 'Random Forest', 'XGBoost'],\n",
    "    'MAE': [mae_lr, mae_dt, mae, mae_best],\n",
    "    'RMSE': [rmse_lr, rmse_dt, rmse, rmse_best],\n",
    "    'R2 Score': [r2_lr, r2_dt, r2, r2_best]\n",
    "})\n",
    "print(results)\n"
   ]
  },
  {
   "cell_type": "code",
   "execution_count": 511,
   "id": "c95e17cd-2797-4150-a90b-9bbf7cf8a94b",
   "metadata": {},
   "outputs": [
    {
     "data": {
      "text/plain": [
       "['xgb_flight_fare_pipeline.pkl']"
      ]
     },
     "execution_count": 511,
     "metadata": {},
     "output_type": "execute_result"
    }
   ],
   "source": [
    "import joblib\n",
    "# Save the entire pipeline to a file\n",
    "joblib.dump(pipeline_xgb, 'xgb_flight_fare_pipeline.pkl')"
   ]
  },
  {
   "cell_type": "code",
   "execution_count": 512,
   "id": "46b52671-5ae5-4665-948d-2c229c061e9d",
   "metadata": {},
   "outputs": [],
   "source": [
    "# To load it again later\n",
    "loaded_model = joblib.load('xgb_flight_fare_pipeline.pkl')"
   ]
  },
  {
   "cell_type": "code",
   "execution_count": null,
   "id": "e623124e-b71b-4d9f-ad78-026e2e97a3bb",
   "metadata": {},
   "outputs": [],
   "source": []
  }
 ],
 "metadata": {
  "kernelspec": {
   "display_name": "Python 3 (ipykernel)",
   "language": "python",
   "name": "python3"
  },
  "language_info": {
   "codemirror_mode": {
    "name": "ipython",
    "version": 3
   },
   "file_extension": ".py",
   "mimetype": "text/x-python",
   "name": "python",
   "nbconvert_exporter": "python",
   "pygments_lexer": "ipython3",
   "version": "3.11.7"
  }
 },
 "nbformat": 4,
 "nbformat_minor": 5
}
