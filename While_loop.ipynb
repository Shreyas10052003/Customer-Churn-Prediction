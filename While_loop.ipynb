{
 "cells": [
  {
   "cell_type": "code",
   "execution_count": 1,
   "id": "2adec9a1-407c-4d9c-9478-9e8223772192",
   "metadata": {},
   "outputs": [
    {
     "name": "stdout",
     "output_type": "stream",
     "text": [
      "5\n",
      "4\n",
      "3\n",
      "2\n",
      "1\n"
     ]
    }
   ],
   "source": [
    "i=5\n",
    "while i>0:\n",
    "    print(i)\n",
    "    i-=1"
   ]
  },
  {
   "cell_type": "code",
   "execution_count": 1,
   "id": "040c47be-960a-4962-b826-00b3d6fff665",
   "metadata": {},
   "outputs": [
    {
     "name": "stdout",
     "output_type": "stream",
     "text": [
      "50\n",
      "51\n",
      "52\n",
      "53\n",
      "54\n",
      "55\n",
      "56\n",
      "57\n",
      "58\n",
      "59\n",
      "60\n"
     ]
    }
   ],
   "source": [
    "i=50\n",
    "while i<61:\n",
    "    print(i)\n",
    "    i=i+1"
   ]
  },
  {
   "cell_type": "code",
   "execution_count": 5,
   "id": "c3217e10-d69e-4bb8-8bf2-f182383ecd5d",
   "metadata": {},
   "outputs": [
    {
     "name": "stdin",
     "output_type": "stream",
     "text": [
      "enter a number 12345\n"
     ]
    },
    {
     "name": "stdout",
     "output_type": "stream",
     "text": [
      "15\n"
     ]
    }
   ],
   "source": [
    "n=int(input(\"enter a number\"))\n",
    "sum=0\n",
    "while n>0:\n",
    "    rem=n%10\n",
    "    n=n//10\n",
    "    sum=sum+rem\n",
    "print(sum)"
   ]
  },
  {
   "cell_type": "code",
   "execution_count": 3,
   "id": "5cc07d58-5ca5-4b38-b8c3-835bfa3482ff",
   "metadata": {},
   "outputs": [
    {
     "name": "stdout",
     "output_type": "stream",
     "text": [
      "madam madam\n",
      "pallindrome\n",
      "top pot\n",
      "not a pallindrome\n",
      "pop pop\n",
      "pallindrome\n",
      "lol lol\n",
      "pallindrome\n"
     ]
    }
   ],
   "source": [
    "list=['madam','top','pop','lol']\n",
    "i=0\n",
    "while i<len(list):#we can do with for loop also    for i in range(list)\n",
    "    string1=list[i]\n",
    "    string2=list[i][::-1]\n",
    "    print(string1,string2)\n",
    "    if string1==string2:\n",
    "        print(\"pallindrome\")\n",
    "    else:\n",
    "        print(\"not a pallindrome\")\n",
    "    i=i+1"
   ]
  },
  {
   "cell_type": "code",
   "execution_count": 2,
   "id": "b98f0d59-ab5b-4c76-98a0-326fe8577b0d",
   "metadata": {},
   "outputs": [
    {
     "name": "stdin",
     "output_type": "stream",
     "text": [
      "enter a number: 393\n"
     ]
    },
    {
     "name": "stdout",
     "output_type": "stream",
     "text": [
      "393 is a pallindrome\n"
     ]
    }
   ],
   "source": [
    "#393 = 300+90+3=393 reverse is 393,795=700+90+5=795 reverse 597\n",
    "n=int(input(\"enter a number:\"))\n",
    "og=n\n",
    "sum=0\n",
    "while n>0:\n",
    "    rem=n%10\n",
    "    sum=(sum*10)+rem\n",
    "    n=n//10\n",
    "if og==sum:\n",
    "    print(f\"{og} is a pallindrome\")\n",
    "else:\n",
    "    print(f\"{og} is not a pallindrome\")"
   ]
  },
  {
   "cell_type": "code",
   "execution_count": null,
   "id": "ed5f2ef0-36da-4ec0-a743-ec183ade2fee",
   "metadata": {},
   "outputs": [],
   "source": []
  },
  {
   "cell_type": "code",
   "execution_count": null,
   "id": "9ef71ac0-a7d6-489f-b60b-6dde13b70ebd",
   "metadata": {},
   "outputs": [],
   "source": []
  }
 ],
 "metadata": {
  "kernelspec": {
   "display_name": "Python 3 (ipykernel)",
   "language": "python",
   "name": "python3"
  },
  "language_info": {
   "codemirror_mode": {
    "name": "ipython",
    "version": 3
   },
   "file_extension": ".py",
   "mimetype": "text/x-python",
   "name": "python",
   "nbconvert_exporter": "python",
   "pygments_lexer": "ipython3",
   "version": "3.11.7"
  }
 },
 "nbformat": 4,
 "nbformat_minor": 5
}
