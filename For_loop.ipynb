{
 "cells": [
  {
   "cell_type": "code",
   "execution_count": 2,
   "id": "ee1f0600-bf11-4215-8a0c-3a06da21388c",
   "metadata": {},
   "outputs": [
    {
     "name": "stdout",
     "output_type": "stream",
     "text": [
      "range(0, 5)\n"
     ]
    },
    {
     "data": {
      "text/plain": [
       "[0, 1, 2, 3, 4]"
      ]
     },
     "execution_count": 2,
     "metadata": {},
     "output_type": "execute_result"
    }
   ],
   "source": [
    "#range is a built-in function in python that creates a sequence of numbers.\n",
    "print(range(5))\n",
    "list(range(5))"
   ]
  },
  {
   "cell_type": "code",
   "execution_count": 5,
   "id": "592c7e90-7f3f-47b9-9790-7ce954b8bda2",
   "metadata": {},
   "outputs": [
    {
     "data": {
      "text/plain": [
       "[1, 2, 3, 4, 5, 6, 7, 8, 9]"
      ]
     },
     "execution_count": 5,
     "metadata": {},
     "output_type": "execute_result"
    }
   ],
   "source": [
    "range(5,1)\n",
    "list(range(1,10))"
   ]
  },
  {
   "cell_type": "code",
   "execution_count": 10,
   "id": "77db08f8-7133-43e5-a642-8a9dce10e05d",
   "metadata": {},
   "outputs": [
    {
     "data": {
      "text/plain": [
       "[10, 9, 8, 7, 6, 5, 4, 3, 2, 1]"
      ]
     },
     "execution_count": 10,
     "metadata": {},
     "output_type": "execute_result"
    }
   ],
   "source": [
    "list(range(10,0,-1))"
   ]
  },
  {
   "cell_type": "code",
   "execution_count": 9,
   "id": "0848c291-dde5-4a46-ae25-6ce29e48a01a",
   "metadata": {},
   "outputs": [
    {
     "data": {
      "text/plain": [
       "[1, 3, 5, 7, 9, 11]"
      ]
     },
     "execution_count": 9,
     "metadata": {},
     "output_type": "execute_result"
    }
   ],
   "source": [
    "list(range(1,13,2))#start,stop,step"
   ]
  },
  {
   "cell_type": "code",
   "execution_count": 14,
   "id": "4457a832-702e-4e8b-b8bf-57f4e4446561",
   "metadata": {},
   "outputs": [
    {
     "data": {
      "text/plain": [
       "[60, 58, 56, 54, 52, 50]"
      ]
     },
     "execution_count": 14,
     "metadata": {},
     "output_type": "execute_result"
    }
   ],
   "source": [
    "list(range(60,49,-2))"
   ]
  },
  {
   "cell_type": "code",
   "execution_count": 15,
   "id": "29ce6d02-d6cf-4384-a100-586a5c93ece4",
   "metadata": {},
   "outputs": [
    {
     "name": "stdout",
     "output_type": "stream",
     "text": [
      "1\n",
      "2\n",
      "3\n",
      "4\n",
      "5\n",
      "6\n",
      "7\n"
     ]
    }
   ],
   "source": [
    "for i in range(1,8):\n",
    "    print(i)"
   ]
  },
  {
   "cell_type": "code",
   "execution_count": 19,
   "id": "5bc0f3ae-670d-46bc-ba27-815907d68fbc",
   "metadata": {},
   "outputs": [
    {
     "name": "stdout",
     "output_type": "stream",
     "text": [
      "print even numbers 10\n",
      "print even numbers 12\n",
      "print even numbers 14\n",
      "print even numbers 16\n",
      "print even numbers 18\n",
      "print even numbers 20\n",
      "print even numbers 22\n",
      "print even numbers 24\n",
      "print even numbers 26\n",
      "print even numbers 28\n",
      "print even numbers 30\n"
     ]
    }
   ],
   "source": [
    "for i in range(10,31,2):\n",
    "    print(f\"print even numbers {i}\")"
   ]
  },
  {
   "cell_type": "code",
   "execution_count": 20,
   "id": "c93cdf18-6322-4b1c-a296-2e1beee7e418",
   "metadata": {},
   "outputs": [
    {
     "name": "stdout",
     "output_type": "stream",
     "text": [
      "ab\n",
      "23\n",
      "ca\n",
      "20\n"
     ]
    }
   ],
   "source": [
    "list=['ab','23','ca','20']\n",
    "for i in list:\n",
    "    print(i)"
   ]
  },
  {
   "cell_type": "code",
   "execution_count": 21,
   "id": "a1876f7d-7338-423b-82e0-1643165ddfdb",
   "metadata": {},
   "outputs": [
    {
     "name": "stdout",
     "output_type": "stream",
     "text": [
      "d\n",
      "s\n",
      "h\n"
     ]
    }
   ],
   "source": [
    "name=\"dsh\"\n",
    "for i in name:\n",
    "    print(i)"
   ]
  },
  {
   "cell_type": "code",
   "execution_count": 24,
   "id": "e29df024-6c5c-47e9-8e48-11d0cdf5546b",
   "metadata": {},
   "outputs": [
    {
     "name": "stdout",
     "output_type": "stream",
     "text": [
      "dict_values([78, 60, 58])\n"
     ]
    }
   ],
   "source": [
    "grade={\"abs\":78,\"von\":60,\"comrade\":58}\n",
    "print(grade.values())\n"
   ]
  },
  {
   "cell_type": "code",
   "execution_count": 29,
   "id": "8c4173cf-82c7-4949-ae99-3fb794f3cf29",
   "metadata": {},
   "outputs": [
    {
     "data": {
      "text/plain": [
       "['d', '2', 'a', 't', '9']"
      ]
     },
     "execution_count": 29,
     "metadata": {},
     "output_type": "execute_result"
    }
   ],
   "source": [
    "list1=[\"data\",'24','abd','thu','98']\n",
    "list2=[]\n",
    "for i in list1:\n",
    "    list2.append(i[0])\n",
    "list2"
   ]
  },
  {
   "cell_type": "code",
   "execution_count": 34,
   "id": "de2ed66f-12f3-4e6a-8d8a-3948f11d1259",
   "metadata": {},
   "outputs": [
    {
     "name": "stdout",
     "output_type": "stream",
     "text": [
      "[50, 52, 54, 56, 58, 60, 62, 64, 66, 68, 70]\n",
      "[51, 53, 55, 57, 59, 61, 63, 65, 67, 69]\n"
     ]
    }
   ],
   "source": [
    "even=[]\n",
    "odd=[]\n",
    "for i in range(50,71):\n",
    "    if i%2==0:\n",
    "        even.append(i)\n",
    "    else:\n",
    "        odd.append(i)\n",
    "print(even)\n",
    "print(odd)"
   ]
  },
  {
   "cell_type": "code",
   "execution_count": 35,
   "id": "9cf1c014-4330-4c1a-9b8b-c8098df5a490",
   "metadata": {},
   "outputs": [
    {
     "name": "stdout",
     "output_type": "stream",
     "text": [
      "apple\n",
      "avacado\n",
      "amla\n",
      "apricot\n"
     ]
    }
   ],
   "source": [
    "w=[\"apple\",\"banana\",\"avacado\",\"berry\",\"cherry\",\"amla\",\"grape\",\"apricot\"]\n",
    "for i in w:\n",
    "    if i.startswith('a'):\n",
    "        print(i)"
   ]
  },
  {
   "cell_type": "code",
   "execution_count": 39,
   "id": "cf7aea1e-ab77-46e1-91ed-81d23f4f62bd",
   "metadata": {},
   "outputs": [
    {
     "name": "stdout",
     "output_type": "stream",
     "text": [
      "6 5\n"
     ]
    }
   ],
   "source": [
    "even=0\n",
    "odd=0\n",
    "for i in range(10,21):\n",
    "    if i%2==0:\n",
    "        even+=1\n",
    "    else:\n",
    "        odd+=1\n",
    "print(even,odd)"
   ]
  },
  {
   "cell_type": "code",
   "execution_count": 44,
   "id": "6fbacb4f-ae69-49c1-a14a-68295be62616",
   "metadata": {},
   "outputs": [
    {
     "name": "stdout",
     "output_type": "stream",
     "text": [
      "5 5\n"
     ]
    }
   ],
   "source": [
    "n=[10,-21,32,-43,-54,65,98,-28,-27,37]\n",
    "pos=0\n",
    "neg=0\n",
    "for i in n:\n",
    "    if i>0:\n",
    "        pos+=1\n",
    "    else:\n",
    "       neg+=1\n",
    "print(pos,neg)"
   ]
  },
  {
   "cell_type": "code",
   "execution_count": 67,
   "id": "8a567d06-b92e-434f-ab6e-9fb0c2251bdd",
   "metadata": {},
   "outputs": [
    {
     "data": {
      "text/plain": [
       "'grapefruit'"
      ]
     },
     "execution_count": 67,
     "metadata": {},
     "output_type": "execute_result"
    }
   ],
   "source": [
    "fruit=['apple','berry','banana','avocado','apricot','grapefruit']\n",
    "a=[]\n",
    "for i in fruit:\n",
    "    a.append(len(i))\n",
    "fruit[a.index(max(a))]\n",
    "    "
   ]
  },
  {
   "cell_type": "code",
   "execution_count": 71,
   "id": "35d96f6b-93e3-4e7b-ab70-d3f4a5c7d192",
   "metadata": {},
   "outputs": [
    {
     "name": "stdout",
     "output_type": "stream",
     "text": [
      "grapefruit\n"
     ]
    }
   ],
   "source": [
    "fruit=['apple','berry','banana','avocado','apricot','grapefruit']\n",
    "j=fruit[0]\n",
    "for i in fruit:\n",
    "    if i>j:\n",
    "        j=i\n",
    "print(j)"
   ]
  },
  {
   "cell_type": "code",
   "execution_count": 136,
   "id": "8e9e5700-2bf8-4aa9-8dec-df63b1fc1f22",
   "metadata": {},
   "outputs": [
    {
     "name": "stdin",
     "output_type": "stream",
     "text": [
      "enter a number 397\n"
     ]
    },
    {
     "name": "stdout",
     "output_type": "stream",
     "text": [
      "19\n"
     ]
    }
   ],
   "source": [
    "num=int(input(\"enter a number\"))\n",
    "sum=0\n",
    "for i in range(num):\n",
    "    rem=num%10\n",
    "    num=num//10\n",
    "    sum=rem+sum\n",
    "print(sum)"
   ]
  },
  {
   "cell_type": "code",
   "execution_count": 90,
   "id": "ce2deb11-2fea-4dc9-b2fa-79bb6cabbaf8",
   "metadata": {},
   "outputs": [
    {
     "name": "stdout",
     "output_type": "stream",
     "text": [
      "a\n",
      "p\n",
      "p\n",
      "l\n",
      "e\n"
     ]
    }
   ],
   "source": [
    "fruit=['apple']\n",
    "for i in fruit:\n",
    "    for a in i:\n",
    "        print(a)"
   ]
  },
  {
   "cell_type": "code",
   "execution_count": 13,
   "id": "913ad81f-853d-4856-849b-385b81bfdb57",
   "metadata": {},
   "outputs": [
    {
     "name": "stdout",
     "output_type": "stream",
     "text": [
      "* * * \n",
      "* * * \n",
      "* * * \n",
      "* * * \n"
     ]
    }
   ],
   "source": [
    "#imp\n",
    "for i in range(4):\n",
    "    for j in range(3):\n",
    "        print('*',end=\" \")\n",
    "    print()"
   ]
  },
  {
   "cell_type": "code",
   "execution_count": 6,
   "id": "a2a3cc64-6dbb-4492-990c-8bc119cfe916",
   "metadata": {},
   "outputs": [
    {
     "name": "stdout",
     "output_type": "stream",
     "text": [
      "* * * * * \n",
      "* * * * \n",
      "* * * \n",
      "* * \n",
      "* \n",
      "\n"
     ]
    }
   ],
   "source": [
    "for i in range(6):\n",
    "    for j in range(6):\n",
    "        if i<j:\n",
    "            print('*',end=\" \")\n",
    "    print()\n",
    "        \n",
    "        "
   ]
  },
  {
   "cell_type": "code",
   "execution_count": 12,
   "id": "3085cbea-9600-4efd-8f18-f4b993452ddf",
   "metadata": {},
   "outputs": [
    {
     "name": "stdout",
     "output_type": "stream",
     "text": [
      "* \n",
      "* * \n",
      "* * * \n"
     ]
    }
   ],
   "source": [
    "for i in range(3):\n",
    "    for j in range(i+1):\n",
    "        print('*',end=\" \")\n",
    "    print()\n",
    "        "
   ]
  },
  {
   "cell_type": "code",
   "execution_count": 134,
   "id": "9c6a5510-9136-4364-877f-f718a910d100",
   "metadata": {},
   "outputs": [
    {
     "name": "stdout",
     "output_type": "stream",
     "text": [
      "1 \n",
      "2 2 \n",
      "3 3 3 \n",
      "4 4 4 4 \n",
      "5 5 5 5 5 \n"
     ]
    }
   ],
   "source": [
    "num=1\n",
    "for i in range(5):\n",
    "    for j in range(i+1):\n",
    "            print(num,end=\" \")\n",
    "    num=num+1\n",
    "    print()    \n",
    "        "
   ]
  },
  {
   "cell_type": "code",
   "execution_count": null,
   "id": "c9a5f16b-818c-454f-a8ce-1f0b308403cf",
   "metadata": {},
   "outputs": [],
   "source": []
  }
 ],
 "metadata": {
  "kernelspec": {
   "display_name": "Python 3 (ipykernel)",
   "language": "python",
   "name": "python3"
  },
  "language_info": {
   "codemirror_mode": {
    "name": "ipython",
    "version": 3
   },
   "file_extension": ".py",
   "mimetype": "text/x-python",
   "name": "python",
   "nbconvert_exporter": "python",
   "pygments_lexer": "ipython3",
   "version": "3.11.7"
  }
 },
 "nbformat": 4,
 "nbformat_minor": 5
}
