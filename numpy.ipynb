{
 "cells": [
  {
   "cell_type": "code",
   "execution_count": 5,
   "id": "cc32f8cd-f237-437f-abdf-981310019e37",
   "metadata": {},
   "outputs": [
    {
     "data": {
      "text/plain": [
       "0.6178462096638282"
      ]
     },
     "execution_count": 5,
     "metadata": {},
     "output_type": "execute_result"
    }
   ],
   "source": [
    "import numpy as np\n",
    "np.random.rand()"
   ]
  },
  {
   "cell_type": "code",
   "execution_count": 6,
   "id": "d8ee9b69-4065-4f00-aba9-e8f2cbcaf576",
   "metadata": {},
   "outputs": [
    {
     "data": {
      "text/plain": [
       "array([0.35966473, 0.00919566, 0.66052442, 0.30163996, 0.79587565,\n",
       "       0.8494795 , 0.11968118, 0.8262297 , 0.11681486, 0.59046489])"
      ]
     },
     "execution_count": 6,
     "metadata": {},
     "output_type": "execute_result"
    }
   ],
   "source": [
    "np.random.rand(10)"
   ]
  },
  {
   "cell_type": "code",
   "execution_count": 8,
   "id": "03852c53-764b-48ec-9566-5de80847f547",
   "metadata": {},
   "outputs": [
    {
     "data": {
      "text/plain": [
       "array([[[0.24567442, 0.76410509, 0.74701089, 0.00358179, 0.33218159]],\n",
       "\n",
       "       [[0.57888198, 0.7985553 , 0.55559956, 0.54626542, 0.91206286]]])"
      ]
     },
     "execution_count": 8,
     "metadata": {},
     "output_type": "execute_result"
    }
   ],
   "source": [
    "np.random.rand(5,2).reshape(2,1,5)"
   ]
  },
  {
   "cell_type": "code",
   "execution_count": 9,
   "id": "5e540b95-f862-4d7c-8192-0f7020b83413",
   "metadata": {},
   "outputs": [
    {
     "data": {
      "text/plain": [
       "0.43506600447509425"
      ]
     },
     "execution_count": 9,
     "metadata": {},
     "output_type": "execute_result"
    }
   ],
   "source": [
    "np.random.randn()"
   ]
  },
  {
   "cell_type": "code",
   "execution_count": 11,
   "id": "e842284c-feb4-4ac3-b8b5-1607a56afae1",
   "metadata": {},
   "outputs": [
    {
     "data": {
      "text/plain": [
       "array([[-0.03395783,  1.28872752,  0.33792273],\n",
       "       [-0.77574061, -0.29725653, -0.81448721],\n",
       "       [ 0.04518616,  0.29096888,  0.85532587]])"
      ]
     },
     "execution_count": 11,
     "metadata": {},
     "output_type": "execute_result"
    }
   ],
   "source": [
    "np.random.randn(3, 3)"
   ]
  },
  {
   "cell_type": "code",
   "execution_count": 13,
   "id": "1c7184e7-fd45-4f9f-b547-53559e9bb6bb",
   "metadata": {},
   "outputs": [
    {
     "data": {
      "text/plain": [
       "68"
      ]
     },
     "execution_count": 13,
     "metadata": {},
     "output_type": "execute_result"
    }
   ],
   "source": [
    "np.random.randint(1,100)"
   ]
  },
  {
   "cell_type": "code",
   "execution_count": 21,
   "id": "ac44991a-415c-400b-a151-2dd6bdb4eedc",
   "metadata": {},
   "outputs": [
    {
     "data": {
      "text/plain": [
       "array([83,  1, 37, 31, 87])"
      ]
     },
     "execution_count": 21,
     "metadata": {},
     "output_type": "execute_result"
    }
   ],
   "source": [
    "np.random.randint(1,100,5)"
   ]
  },
  {
   "cell_type": "code",
   "execution_count": 30,
   "id": "57b4bdd5-5098-43ad-a6e2-87903346873e",
   "metadata": {},
   "outputs": [
    {
     "name": "stdout",
     "output_type": "stream",
     "text": [
      "46 93 146\n"
     ]
    }
   ],
   "source": [
    "r,g,b=np.random.randint(0,255,3)\n",
    "print(r,g,b)"
   ]
  },
  {
   "cell_type": "code",
   "execution_count": 34,
   "id": "31727edd-c71d-48dc-938e-c648d4092919",
   "metadata": {},
   "outputs": [
    {
     "name": "stdout",
     "output_type": "stream",
     "text": [
      "[[ 90  90  90 100 100 100 100 100  90 100]\n",
      " [100 100 100 100  90  90 100 100 100  90]\n",
      " [110 100 100  90  90 100 100 100 100  90]]\n"
     ]
    }
   ],
   "source": [
    "res3=np.random.choice([90,100,110],p=[0.3,0.6,0.1],size=(3,10))\n",
    "print(res3)"
   ]
  },
  {
   "cell_type": "code",
   "execution_count": 36,
   "id": "eeeabe9d-3732-4954-baf3-dcbf8ba0a0b2",
   "metadata": {},
   "outputs": [
    {
     "data": {
      "text/plain": [
       "array([   1,    2, 1010,    4,  108,   18,   71,  610])"
      ]
     },
     "execution_count": 36,
     "metadata": {},
     "output_type": "execute_result"
    }
   ],
   "source": [
    "#FILTERING METHOD\n",
    "arr=np.array([1,2,1010,4,108,18,71,610])\n",
    "arr"
   ]
  },
  {
   "cell_type": "code",
   "execution_count": 37,
   "id": "96cd74b1-9cb6-424d-8636-0f0d4d2527ef",
   "metadata": {},
   "outputs": [
    {
     "data": {
      "text/plain": [
       "array([ True,  True, False,  True, False,  True,  True, False])"
      ]
     },
     "execution_count": 37,
     "metadata": {},
     "output_type": "execute_result"
    }
   ],
   "source": [
    "arr<100"
   ]
  },
  {
   "cell_type": "code",
   "execution_count": 38,
   "id": "2ddf030c-aeee-41e6-97ea-d47734983a19",
   "metadata": {},
   "outputs": [
    {
     "data": {
      "text/plain": [
       "(array([0, 1, 3, 5, 6], dtype=int64),)"
      ]
     },
     "execution_count": 38,
     "metadata": {},
     "output_type": "execute_result"
    }
   ],
   "source": [
    "np.where(arr<100)"
   ]
  },
  {
   "cell_type": "code",
   "execution_count": 39,
   "id": "6805c747-8d25-45c1-b339-c810c86e5ca5",
   "metadata": {},
   "outputs": [
    {
     "data": {
      "text/plain": [
       "array([ 1,  2,  4, 18, 71])"
      ]
     },
     "execution_count": 39,
     "metadata": {},
     "output_type": "execute_result"
    }
   ],
   "source": [
    "arr[np.where(arr<100)]"
   ]
  },
  {
   "cell_type": "code",
   "execution_count": 41,
   "id": "670c52c6-f3e8-47b5-81c7-0e215aed25e6",
   "metadata": {},
   "outputs": [
    {
     "data": {
      "text/plain": [
       "array([1010,  108,  610])"
      ]
     },
     "execution_count": 41,
     "metadata": {},
     "output_type": "execute_result"
    }
   ],
   "source": [
    "#or directly you can use\n",
    "arr[arr>100]"
   ]
  },
  {
   "cell_type": "code",
   "execution_count": 42,
   "id": "2bdeb72e-722f-4e9f-8081-5694f15e7a7e",
   "metadata": {},
   "outputs": [
    {
     "data": {
      "text/plain": [
       "array([   2, 1010,    4,  108,   18,  610])"
      ]
     },
     "execution_count": 42,
     "metadata": {},
     "output_type": "execute_result"
    }
   ],
   "source": [
    "arr[arr%2==0]"
   ]
  },
  {
   "cell_type": "code",
   "execution_count": 48,
   "id": "0dd1eb30-035a-4972-b95e-7e839443c22c",
   "metadata": {},
   "outputs": [
    {
     "data": {
      "text/plain": [
       "array([71])"
      ]
     },
     "execution_count": 48,
     "metadata": {},
     "output_type": "execute_result"
    }
   ],
   "source": [
    "arr[(arr%2!=0) & (arr>50)]"
   ]
  },
  {
   "cell_type": "code",
   "execution_count": null,
   "id": "72573215-79be-4721-a132-f001ef57dfbe",
   "metadata": {},
   "outputs": [],
   "source": [
    "#FANCY INDEXING SELF-STUDY CONCEPT (LMS PORTAL)"
   ]
  }
 ],
 "metadata": {
  "kernelspec": {
   "display_name": "Python 3 (ipykernel)",
   "language": "python",
   "name": "python3"
  },
  "language_info": {
   "codemirror_mode": {
    "name": "ipython",
    "version": 3
   },
   "file_extension": ".py",
   "mimetype": "text/x-python",
   "name": "python",
   "nbconvert_exporter": "python",
   "pygments_lexer": "ipython3",
   "version": "3.11.7"
  }
 },
 "nbformat": 4,
 "nbformat_minor": 5
}
