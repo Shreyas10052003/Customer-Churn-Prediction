{
 "cells": [
  {
   "cell_type": "code",
   "execution_count": 1,
   "id": "6a933645-7088-4430-b10f-821395ec7c39",
   "metadata": {},
   "outputs": [
    {
     "ename": "AttributeError",
     "evalue": "'tuple' object has no attribute 'append'",
     "output_type": "error",
     "traceback": [
      "\u001b[1;31m---------------------------------------------------------------------------\u001b[0m",
      "\u001b[1;31mAttributeError\u001b[0m                            Traceback (most recent call last)",
      "Cell \u001b[1;32mIn[1], line 2\u001b[0m\n\u001b[0;32m      1\u001b[0m t\u001b[38;5;241m=\u001b[39m()\n\u001b[1;32m----> 2\u001b[0m t\u001b[38;5;241m.\u001b[39mappend(\u001b[38;5;124m\"\u001b[39m\u001b[38;5;124msjhcb\u001b[39m\u001b[38;5;124m\"\u001b[39m)\n\u001b[0;32m      3\u001b[0m t\u001b[38;5;241m.\u001b[39mextend([\u001b[38;5;124m\"\u001b[39m\u001b[38;5;124mdj\u001b[39m\u001b[38;5;124m\"\u001b[39m,\u001b[38;5;124m\"\u001b[39m\u001b[38;5;124mnb\u001b[39m\u001b[38;5;124m\"\u001b[39m])\n",
      "\u001b[1;31mAttributeError\u001b[0m: 'tuple' object has no attribute 'append'"
     ]
    }
   ],
   "source": [
    "#append and extend not supported\n",
    "t=()\n",
    "t.append(\"sjhcb\")\n",
    "t.extend([\"dj\",\"nb\"])"
   ]
  },
  {
   "cell_type": "code",
   "execution_count": 6,
   "id": "3cecb1d3-122f-44ef-998d-10d3311036a0",
   "metadata": {},
   "outputs": [
    {
     "name": "stdout",
     "output_type": "stream",
     "text": [
      "140724589274584\n",
      "1906483825632\n",
      "('red',)\n"
     ]
    }
   ],
   "source": [
    "t=()\n",
    "print(id(t))\n",
    "value=(\"red\",)#single element can only given by using comma at end\n",
    "t=t+value\n",
    "print(id(t))\n",
    "print(t)"
   ]
  },
  {
   "cell_type": "code",
   "execution_count": 16,
   "id": "d9b2ee24-02b9-47a6-a5cf-40c107ebabfb",
   "metadata": {},
   "outputs": [
    {
     "name": "stdout",
     "output_type": "stream",
     "text": [
      "('green', 'blue', 'red')\n"
     ]
    }
   ],
   "source": [
    "t1=()\n",
    "color=(\"green\",\"blue\",\"red\")\n",
    "t1+=color\n",
    "print(t1)"
   ]
  },
  {
   "cell_type": "code",
   "execution_count": 18,
   "id": "9bcb34e6-db8a-474d-bd42-992cd5fcc206",
   "metadata": {},
   "outputs": [
    {
     "data": {
      "text/plain": [
       "'red'"
      ]
     },
     "execution_count": 18,
     "metadata": {},
     "output_type": "execute_result"
    }
   ],
   "source": [
    "t1[2]"
   ]
  },
  {
   "cell_type": "code",
   "execution_count": 22,
   "id": "c08632ee-e641-4e3d-9340-eacbd6526278",
   "metadata": {},
   "outputs": [
    {
     "data": {
      "text/plain": [
       "('green', 'red')"
      ]
     },
     "execution_count": 22,
     "metadata": {},
     "output_type": "execute_result"
    }
   ],
   "source": [
    "t1[0::2]"
   ]
  },
  {
   "cell_type": "code",
   "execution_count": 23,
   "id": "e60bcbdc-0d18-4f54-9651-9314a5af09a7",
   "metadata": {},
   "outputs": [
    {
     "data": {
      "text/plain": [
       "['green', 'blue', 'purple', 'red']"
      ]
     },
     "execution_count": 23,
     "metadata": {},
     "output_type": "execute_result"
    }
   ],
   "source": [
    "t1=list(t1)\n",
    "t1.insert(2,\"purple\")\n",
    "t1"
   ]
  },
  {
   "cell_type": "code",
   "execution_count": 28,
   "id": "95563e34-0b7f-4df3-b57b-47b5e9be672e",
   "metadata": {},
   "outputs": [
    {
     "data": {
      "text/plain": [
       "['green', 'blue', 'purple', 'red']"
      ]
     },
     "execution_count": 28,
     "metadata": {},
     "output_type": "execute_result"
    }
   ],
   "source": [
    "t1=list(t1)\n",
    "t1.insert(0,\"green\")\n",
    "t1"
   ]
  },
  {
   "cell_type": "code",
   "execution_count": 30,
   "id": "004674a8-00f1-4976-980b-618c6ae82ece",
   "metadata": {},
   "outputs": [
    {
     "data": {
      "text/plain": [
       "('green', 'blue', 'purple', 'red')"
      ]
     },
     "execution_count": 30,
     "metadata": {},
     "output_type": "execute_result"
    }
   ],
   "source": [
    "t1=tuple(t1)\n",
    "t1"
   ]
  },
  {
   "cell_type": "code",
   "execution_count": 31,
   "id": "c0797538-6d0d-4a5c-acf6-80c240f52829",
   "metadata": {},
   "outputs": [
    {
     "data": {
      "text/plain": [
       "4"
      ]
     },
     "execution_count": 31,
     "metadata": {},
     "output_type": "execute_result"
    }
   ],
   "source": [
    "len(t1)"
   ]
  },
  {
   "cell_type": "code",
   "execution_count": 32,
   "id": "50e658d6-5294-443b-814e-5cf7d273668a",
   "metadata": {},
   "outputs": [
    {
     "data": {
      "text/plain": [
       "('green', 'blue', 'green', 'blue', 'green', 'blue')"
      ]
     },
     "execution_count": 32,
     "metadata": {},
     "output_type": "execute_result"
    }
   ],
   "source": [
    "t1[:2]*3"
   ]
  },
  {
   "cell_type": "code",
   "execution_count": 38,
   "id": "f47b2d37-0508-4e3f-a62b-c089262af196",
   "metadata": {},
   "outputs": [
    {
     "data": {
      "text/plain": [
       "2"
      ]
     },
     "execution_count": 38,
     "metadata": {},
     "output_type": "execute_result"
    }
   ],
   "source": [
    "t1.index(\"purple\")"
   ]
  },
  {
   "cell_type": "code",
   "execution_count": 41,
   "id": "70c2192b-3bb0-44b3-9627-df16c3567898",
   "metadata": {},
   "outputs": [
    {
     "data": {
      "text/plain": [
       "2"
      ]
     },
     "execution_count": 41,
     "metadata": {},
     "output_type": "execute_result"
    }
   ],
   "source": [
    "t1[2].index(\"r\")"
   ]
  },
  {
   "cell_type": "code",
   "execution_count": 45,
   "id": "0a1ffb83-0d31-4edf-bd97-2684b75f7722",
   "metadata": {},
   "outputs": [
    {
     "data": {
      "text/plain": [
       "1"
      ]
     },
     "execution_count": 45,
     "metadata": {},
     "output_type": "execute_result"
    }
   ],
   "source": [
    "t1.count(\"red\")"
   ]
  },
  {
   "cell_type": "code",
   "execution_count": 52,
   "id": "d094451d-4406-43f9-81c3-15069ef865d2",
   "metadata": {},
   "outputs": [
    {
     "data": {
      "text/plain": [
       "4"
      ]
     },
     "execution_count": 52,
     "metadata": {},
     "output_type": "execute_result"
    }
   ],
   "source": [
    "t1[3].count(\"\")"
   ]
  },
  {
   "cell_type": "code",
   "execution_count": 61,
   "id": "655ff7ef-aa2a-457a-8866-f644097ec209",
   "metadata": {},
   "outputs": [
    {
     "name": "stdout",
     "output_type": "stream",
     "text": [
      "1906497230656\n",
      "1906496187312\n",
      "(('Data', 25), [50, 100], (150, 90), (45, 'mites'))\n"
     ]
    }
   ],
   "source": [
    "tup=(('Data',25),[50,100],(150,90))#nested tuple \n",
    "t2=((45,\"mites\"),)\n",
    "print(id(tup))\n",
    "tup+=t2\n",
    "print(id(tup))\n",
    "print(tup)"
   ]
  },
  {
   "cell_type": "code",
   "execution_count": 62,
   "id": "135e8961-de37-41ec-919d-9014c34dc69c",
   "metadata": {},
   "outputs": [
    {
     "name": "stdout",
     "output_type": "stream",
     "text": [
      "(('Data', 25), [50, 100], (150, 90), (45, 'mites'), [15, 'dff'], 'shd')\n"
     ]
    }
   ],
   "source": [
    "t3=([15,'dff'],'shd')\n",
    "tup+=t3\n",
    "print(tup)"
   ]
  },
  {
   "cell_type": "code",
   "execution_count": 66,
   "id": "362724a0-808b-409f-b263-70057c29fb0a",
   "metadata": {},
   "outputs": [
    {
     "data": {
      "text/plain": [
       "45"
      ]
     },
     "execution_count": 66,
     "metadata": {},
     "output_type": "execute_result"
    }
   ],
   "source": [
    "tup[3][0]"
   ]
  },
  {
   "cell_type": "code",
   "execution_count": null,
   "id": "2af75be0-25de-45c9-9b3f-e76e1b644dfc",
   "metadata": {},
   "outputs": [],
   "source": []
  }
 ],
 "metadata": {
  "kernelspec": {
   "display_name": "Python 3 (ipykernel)",
   "language": "python",
   "name": "python3"
  },
  "language_info": {
   "codemirror_mode": {
    "name": "ipython",
    "version": 3
   },
   "file_extension": ".py",
   "mimetype": "text/x-python",
   "name": "python",
   "nbconvert_exporter": "python",
   "pygments_lexer": "ipython3",
   "version": "3.11.7"
  }
 },
 "nbformat": 4,
 "nbformat_minor": 5
}
