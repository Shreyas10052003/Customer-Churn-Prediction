{
 "cells": [
  {
   "cell_type": "code",
   "execution_count": 1,
   "id": "3492f57a-32a7-41ca-b067-37f45fbd31cc",
   "metadata": {},
   "outputs": [
    {
     "name": "stdout",
     "output_type": "stream",
     "text": [
      "positive\n"
     ]
    }
   ],
   "source": [
    "num=78\n",
    "if num>0:\n",
    "    print('positive')"
   ]
  },
  {
   "cell_type": "code",
   "execution_count": 10,
   "id": "c80f5a6f-da02-4e0c-89b5-fcd3fe605f18",
   "metadata": {},
   "outputs": [
    {
     "name": "stdin",
     "output_type": "stream",
     "text": [
      "enter a number 79\n"
     ]
    },
    {
     "name": "stdout",
     "output_type": "stream",
     "text": [
      "odd\n"
     ]
    }
   ],
   "source": [
    "num=int(input('enter a number'))\n",
    "if num>0:\n",
    "    if num%2==0:\n",
    "        print('even')\n",
    "    else:\n",
    "        print('odd')\n",
    "else:\n",
    "    print(\"nothing\")"
   ]
  },
  {
   "cell_type": "code",
   "execution_count": 12,
   "id": "c12ec8d6-de01-4a15-a3b3-371aa44b2e4d",
   "metadata": {},
   "outputs": [
    {
     "name": "stdin",
     "output_type": "stream",
     "text": [
      "enter a number: 4\n"
     ]
    },
    {
     "name": "stdout",
     "output_type": "stream",
     "text": [
      "positive even number\n"
     ]
    }
   ],
   "source": [
    "num=int(input('enter a number:'))\n",
    "if (num>0) & (num%2==0):\n",
    "    print(\"positive even number\")"
   ]
  },
  {
   "cell_type": "code",
   "execution_count": 14,
   "id": "0e71314e-a9ee-4f7b-9880-b4a83414a6ec",
   "metadata": {},
   "outputs": [
    {
     "name": "stdin",
     "output_type": "stream",
     "text": [
      "enter a number 49\n"
     ]
    },
    {
     "name": "stdout",
     "output_type": "stream",
     "text": [
      "Eligible to vote\n"
     ]
    }
   ],
   "source": [
    "n=int(input('enter a number'))\n",
    "if (n>0) & (n>=18):\n",
    "    print(\"Eligible to vote\")\n",
    "else:\n",
    "    print(\"you have not reached 18 yet\")"
   ]
  },
  {
   "cell_type": "code",
   "execution_count": 20,
   "id": "e7cdfe89-134a-4616-9f0d-89db877f83cc",
   "metadata": {},
   "outputs": [
    {
     "name": "stdin",
     "output_type": "stream",
     "text": [
      "enter a number -9\n"
     ]
    },
    {
     "name": "stdout",
     "output_type": "stream",
     "text": [
      "negative\n"
     ]
    }
   ],
   "source": [
    "n=int(input(\"enter a number\"))\n",
    "if n>0:\n",
    "      print(\"positive\")\n",
    "elif n==0:\n",
    "    print(\"neutral\")\n",
    "else:\n",
    "    print(\"negative\")\n",
    "    "
   ]
  },
  {
   "cell_type": "code",
   "execution_count": 27,
   "id": "f3f15194-5320-45e0-9ea8-ba679bda3b99",
   "metadata": {},
   "outputs": [
    {
     "name": "stdin",
     "output_type": "stream",
     "text": [
      "enter a number -58\n"
     ]
    },
    {
     "name": "stdout",
     "output_type": "stream",
     "text": [
      "negative even\n"
     ]
    }
   ],
   "source": [
    "n=int(input('enter a number'))\n",
    "if (n>=0) & (n%2==0):\n",
    "            print(\"positive even\")\n",
    "elif n%2!=0:\n",
    "      print(\"positive odd\")\n",
    "elif (n<0) & (n%2==0):\n",
    "      print(\"negative even\")\n",
    "else:\n",
    "    print(\"negative odd\")"
   ]
  },
  {
   "cell_type": "code",
   "execution_count": 35,
   "id": "7586cef6-f2ad-41a1-8cde-f4ee466da04e",
   "metadata": {},
   "outputs": [
    {
     "name": "stdin",
     "output_type": "stream",
     "text": [
      "enter a number 25\n"
     ]
    },
    {
     "name": "stdout",
     "output_type": "stream",
     "text": [
      "buzz\n"
     ]
    }
   ],
   "source": [
    "n=int(input(\"enter a number\"))\n",
    "if (n>0) & (n%3==0) & (n%5==0):\n",
    "    print(\"fizzbuzz\")\n",
    "elif (n%3==0):\n",
    "    print(\"fizz\")\n",
    "else:\n",
    "    print(\"buzz\")"
   ]
  },
  {
   "cell_type": "code",
   "execution_count": 49,
   "id": "5a954b43-37a5-48fc-b99b-16bf6876a8f3",
   "metadata": {},
   "outputs": [
    {
     "name": "stdin",
     "output_type": "stream",
     "text": [
      "enter a number: 2000\n"
     ]
    },
    {
     "name": "stdout",
     "output_type": "stream",
     "text": [
      "it is a leap year\n"
     ]
    }
   ],
   "source": [
    "n=int(input(\"enter a number:\"))\n",
    "if (n%4==0) & (n%100!=0) or (n%400==0):\n",
    "    print(\"it is a leap year\")\n",
    "else:\n",
    "    print(\"not a leap year\")"
   ]
  },
  {
   "cell_type": "code",
   "execution_count": 64,
   "id": "1e27b688-4c3d-4b98-bace-a8a8ed6671ab",
   "metadata": {},
   "outputs": [
    {
     "name": "stdin",
     "output_type": "stream",
     "text": [
      "enter something: malayalam\n"
     ]
    },
    {
     "name": "stdout",
     "output_type": "stream",
     "text": [
      "malayalam\n",
      "pallindrome\n"
     ]
    }
   ],
   "source": [
    "n=input(\"enter something:\")\n",
    "b=n[::-1]\n",
    "print(b)\n",
    "if (n==b):\n",
    "    print(\"pallindrome\")\n",
    "else:\n",
    "    print(\"not a pallindrome\")"
   ]
  },
  {
   "cell_type": "code",
   "execution_count": 73,
   "id": "4579c78b-57d7-4ab0-a0a5-5cc3cf6fa399",
   "metadata": {},
   "outputs": [
    {
     "name": "stdin",
     "output_type": "stream",
     "text": [
      "enter a number 45\n"
     ]
    },
    {
     "name": "stdout",
     "output_type": "stream",
     "text": [
      "odd number\n"
     ]
    }
   ],
   "source": [
    "#nested if\n",
    "num=int(input(\"enter a number\"))\n",
    "if num>=0:\n",
    "    if num%2==0:\n",
    "        print(\"even number\")\n",
    "    else:\n",
    "        print(\"odd number\")\n",
    "else:\n",
    "    print(\"negative number\")"
   ]
  },
  {
   "cell_type": "code",
   "execution_count": 98,
   "id": "b9a5d73f-5a88-446d-bbb4-e3a0e31a8a0e",
   "metadata": {},
   "outputs": [
    {
     "name": "stdin",
     "output_type": "stream",
     "text": [
      "enter a number : -20\n"
     ]
    },
    {
     "name": "stdout",
     "output_type": "stream",
     "text": [
      "cold\n"
     ]
    }
   ],
   "source": [
    "n=int(input(\"enter a number :\"))\n",
    "if (n>0):\n",
    "    if(n<=30):\n",
    "        print(\"hot\")\n",
    "    else:\n",
    "        print(\"extremely hot\")\n",
    "else:\n",
    "     if n<=-30:\n",
    "        print(\"extremely cold\")\n",
    "     else:\n",
    "         print(\"cold\")"
   ]
  },
  {
   "cell_type": "code",
   "execution_count": 106,
   "id": "c7dfb9c9-34b5-4f80-b232-3c2e1c7d34d8",
   "metadata": {},
   "outputs": [
    {
     "name": "stdin",
     "output_type": "stream",
     "text": [
      "enter a message: dabkdata\n"
     ]
    },
    {
     "name": "stdout",
     "output_type": "stream",
     "text": [
      "the word data is present\n"
     ]
    }
   ],
   "source": [
    "n=(input(\"enter a message:\"))\n",
    "if \"data\" in n:\n",
    "    print(\"the word data is present\")\n",
    "else:\n",
    "    print(\"not present\")"
   ]
  },
  {
   "cell_type": "code",
   "execution_count": 110,
   "id": "a13361bf-2aa1-45f1-a420-f0e310d86d12",
   "metadata": {},
   "outputs": [
    {
     "name": "stdout",
     "output_type": "stream",
     "text": [
      "yes\n"
     ]
    }
   ],
   "source": [
    "numbers=(1,2,3,4,5)\n",
    "if 4 in numbers:\n",
    "    print(\"yes\")\n",
    "else:\n",
    "    print(\"no\")"
   ]
  },
  {
   "cell_type": "code",
   "execution_count": 115,
   "id": "c7522c1b-225b-4589-8481-3571f2fc5006",
   "metadata": {},
   "outputs": [
    {
     "name": "stdout",
     "output_type": "stream",
     "text": [
      "the key 'age' is in dict\n"
     ]
    }
   ],
   "source": [
    "p={\n",
    "    'name':'fshn',\n",
    "    'age':30,\n",
    "    'city':'chennai'\n",
    "}\n",
    "if 30 in p.values():\n",
    "    print(\"the key 'age' is in dict\")\n",
    "else:\n",
    "    print(\"not in dict\")\n"
   ]
  },
  {
   "cell_type": "code",
   "execution_count": 116,
   "id": "ba1fd1ba-079a-4f1a-ae37-e51c2c4081a3",
   "metadata": {},
   "outputs": [
    {
     "data": {
      "text/plain": [
       "dict_values(['fshn', 30, 'chennai'])"
      ]
     },
     "execution_count": 116,
     "metadata": {},
     "output_type": "execute_result"
    }
   ],
   "source": [
    "p.values()"
   ]
  },
  {
   "cell_type": "code",
   "execution_count": null,
   "id": "4400f369-c22a-4e30-880f-ab60f892755a",
   "metadata": {},
   "outputs": [],
   "source": []
  }
 ],
 "metadata": {
  "kernelspec": {
   "display_name": "Python 3 (ipykernel)",
   "language": "python",
   "name": "python3"
  },
  "language_info": {
   "codemirror_mode": {
    "name": "ipython",
    "version": 3
   },
   "file_extension": ".py",
   "mimetype": "text/x-python",
   "name": "python",
   "nbconvert_exporter": "python",
   "pygments_lexer": "ipython3",
   "version": "3.11.7"
  }
 },
 "nbformat": 4,
 "nbformat_minor": 5
}
