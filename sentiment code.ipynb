{
 "cells": [
  {
   "cell_type": "code",
   "execution_count": 1,
   "id": "c02b67c5-127a-4c64-9e12-3b955669c5f1",
   "metadata": {},
   "outputs": [
    {
     "name": "stdout",
     "output_type": "stream",
     "text": [
      "Defaulting to user installation because normal site-packages is not writeable\n",
      "Requirement already satisfied: textblob in c:\\users\\om computers\\appdata\\roaming\\python\\python312\\site-packages (0.19.0)\n",
      "Requirement already satisfied: nltk>=3.9 in c:\\programdata\\anaconda3\\lib\\site-packages (from textblob) (3.9.1)\n",
      "Requirement already satisfied: click in c:\\programdata\\anaconda3\\lib\\site-packages (from nltk>=3.9->textblob) (8.1.7)\n",
      "Requirement already satisfied: joblib in c:\\programdata\\anaconda3\\lib\\site-packages (from nltk>=3.9->textblob) (1.4.2)\n",
      "Requirement already satisfied: regex>=2021.8.3 in c:\\programdata\\anaconda3\\lib\\site-packages (from nltk>=3.9->textblob) (2024.9.11)\n",
      "Requirement already satisfied: tqdm in c:\\programdata\\anaconda3\\lib\\site-packages (from nltk>=3.9->textblob) (4.66.5)\n",
      "Requirement already satisfied: colorama in c:\\programdata\\anaconda3\\lib\\site-packages (from click->nltk>=3.9->textblob) (0.4.6)\n"
     ]
    }
   ],
   "source": [
    "#install textblob into jupyter notebook\n",
    "!pip install textblob"
   ]
  },
  {
   "cell_type": "code",
   "execution_count": 2,
   "id": "bad6aa5d-d13d-4ea8-83b3-3684e810f784",
   "metadata": {},
   "outputs": [
    {
     "name": "stdout",
     "output_type": "stream",
     "text": [
      "Defaulting to user installation because normal site-packages is not writeable\n",
      "Requirement already satisfied: textblob in c:\\users\\om computers\\appdata\\roaming\\python\\python312\\site-packages (0.19.0)\n",
      "Requirement already satisfied: nltk>=3.9 in c:\\programdata\\anaconda3\\lib\\site-packages (from textblob) (3.9.1)\n",
      "Requirement already satisfied: click in c:\\programdata\\anaconda3\\lib\\site-packages (from nltk>=3.9->textblob) (8.1.7)\n",
      "Requirement already satisfied: joblib in c:\\programdata\\anaconda3\\lib\\site-packages (from nltk>=3.9->textblob) (1.4.2)\n",
      "Requirement already satisfied: regex>=2021.8.3 in c:\\programdata\\anaconda3\\lib\\site-packages (from nltk>=3.9->textblob) (2024.9.11)\n",
      "Requirement already satisfied: tqdm in c:\\programdata\\anaconda3\\lib\\site-packages (from nltk>=3.9->textblob) (4.66.5)\n",
      "Requirement already satisfied: colorama in c:\\programdata\\anaconda3\\lib\\site-packages (from click->nltk>=3.9->textblob) (0.4.6)\n",
      "Note: you may need to restart the kernel to use updated packages.\n"
     ]
    }
   ],
   "source": [
    "pip install textblob"
   ]
  },
  {
   "cell_type": "code",
   "execution_count": 3,
   "id": "88a0b45d-245d-4139-b07b-50775f0e96f6",
   "metadata": {},
   "outputs": [
    {
     "name": "stderr",
     "output_type": "stream",
     "text": [
      "IOPub data rate exceeded.\n",
      "The Jupyter server will temporarily stop sending output\n",
      "to the client in order to avoid crashing it.\n",
      "To change this limit, set the config variable\n",
      "`--ServerApp.iopub_data_rate_limit`.\n",
      "\n",
      "Current values:\n",
      "ServerApp.iopub_data_rate_limit=1000000.0 (bytes/sec)\n",
      "ServerApp.rate_limit_window=3.0 (secs)\n",
      "\n"
     ]
    }
   ],
   "source": [
    "from movie_reviews import reviews\n",
    "import random\n",
    "from textblob import TextBlob # provides text mining, text analysis and text processing modules\n",
    "from IPython.display import clear_output # Clear the output in Jupyter Notebook"
   ]
  },
  {
   "cell_type": "code",
   "execution_count": 6,
   "id": "dcd505a9-6de8-48ff-9940-7f5155ee9cc3",
   "metadata": {},
   "outputs": [],
   "source": [
    "def get_sentiment(rev):\n",
    "    \"\"\"Function which return the sentiment of the passed review as positive, negative or Neutral\"\"\"\n",
    "    analysis = TextBlob(rev)\n",
    "    if analysis.sentiment.polarity > 0:\n",
    "        return 'positive'\n",
    "    elif analysis.sentiment.polarity <0:\n",
    "        return 'negative'\n",
    "    else:\n",
    "        return 'neutral'"
   ]
  },
  {
   "cell_type": "code",
   "execution_count": 7,
   "id": "47e791dc-ef28-4e1a-a390-63a43b757dbe",
   "metadata": {},
   "outputs": [],
   "source": [
    "def get_reviews(num_of_review,movie_name):\n",
    "    \"\"\"Processing of the review and returns a list, that consist of multiple dictionary with their respective text & sentiment\"\"\"\n",
    "    # Selection of Random reviews\n",
    "    selected_reviews = [random.choice(reviews[movie_name]) for _ in range(num_of_review)]\n",
    "    print(\"First two reviews of the movie: \\n\")\n",
    "    print(selected_reviews[0],\"\\n\")\n",
    "    print(selected_reviews[1],\"\\n\")\n",
    "    final_processed_review = []\n",
    "    for inner_list in selected_reviews:\n",
    "        # Empty dictionary to store required params of a review\n",
    "        parsed_review = {}\n",
    "        # saving text of the reviews\n",
    "        parsed_review['text'] = inner_list[0]\n",
    "        # saving sentiment of the reviews by passing the review to get_sentiment function\n",
    "        parsed_review['sentiment'] = get_sentiment(inner_list[0])\n",
    "        final_processed_review.append(parsed_review)\n",
    "    return final_processed_review"
   ]
  },
  {
   "cell_type": "code",
   "execution_count": 8,
   "id": "3254d62b-81a8-4bb4-a207-782ece5396a6",
   "metadata": {},
   "outputs": [],
   "source": [
    "def analyze():\n",
    "    print(list(reviews.keys()))\n",
    "    movie_name = input(\"Select a movie you want to analyze: \")\n",
    "    if movie_name in list(reviews.keys()):\n",
    "        num_of_review = int(input(\"Enter the number of reviews you want to analyze: \"))\n",
    "        clear_output()  # Clear the output in Jupyter Notebook\n",
    "        review = get_reviews(num_of_review,movie_name)\n",
    "        # Picking positive reviews\n",
    "        positive_reviews=[]\n",
    "        for item in review:\n",
    "            if item[\"sentiment\"] == \"positive\":\n",
    "                positive_reviews.append(item)\n",
    "        # Percentage of positive reviews\n",
    "        print(\"Positive reviews percentage: {} %\".format(100*len(positive_reviews)/(num_of_review)))\n",
    "        # Picking negative reviews\n",
    "        negative_reviews = [rev1 for rev1 in review if rev1[\"sentiment\"] == \"negative\"]\n",
    "        # Percentage of negative reviews\n",
    "        print(\"Negative reviews percentage: {} %\".format(100*len(negative_reviews)/(num_of_review)))\n",
    "        # Percentage of neutral reviews\n",
    "        print(\"Neutral reviews percentage: {} %\".format(100*((num_of_review) - len(negative_reviews) - len(positive_reviews))/(num_of_review)))\n",
    "    else:\n",
    "        return \"Movie not found in the list\""
   ]
  },
  {
   "cell_type": "code",
   "execution_count": 9,
   "id": "8fa41af9-aedc-44e5-b407-d7bbf2145e3f",
   "metadata": {},
   "outputs": [
    {
     "name": "stdout",
     "output_type": "stream",
     "text": [
      "First two reviews of the movie: \n",
      "\n",
      "['Truly a breathtaking end to a saga that is so dear to all of usWith an ending that shakes my world\\nYou will not be disappointed with this conclusionThis is truly one of the best marvel has ever made'] \n",
      "\n",
      "['...A cinematic/comic masterpiece...\\nA multitude of emotions meet and leave and meet you over and over. A tidal wave of humanity and feelings delivered in 3000 loving spades... My imagined quote from director Kevin Smith would be,\"Infinitely pleased I\\'ve stayed alive to see this event\".'] \n",
      "\n",
      "Positive reviews percentage: 100.0 %\n",
      "Negative reviews percentage: 0.0 %\n",
      "Neutral reviews percentage: 0.0 %\n"
     ]
    }
   ],
   "source": [
    "analyze()"
   ]
  },
  {
   "cell_type": "code",
   "execution_count": null,
   "id": "d9cb8c82-0046-4145-a611-c6a09092ada2",
   "metadata": {},
   "outputs": [],
   "source": []
  }
 ],
 "metadata": {
  "kernelspec": {
   "display_name": "Python 3 (ipykernel)",
   "language": "python",
   "name": "python3"
  },
  "language_info": {
   "codemirror_mode": {
    "name": "ipython",
    "version": 3
   },
   "file_extension": ".py",
   "mimetype": "text/x-python",
   "name": "python",
   "nbconvert_exporter": "python",
   "pygments_lexer": "ipython3",
   "version": "3.12.7"
  }
 },
 "nbformat": 4,
 "nbformat_minor": 5
}
