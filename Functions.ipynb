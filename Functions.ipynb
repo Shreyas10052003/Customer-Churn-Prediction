{
 "cells": [
  {
   "cell_type": "code",
   "execution_count": 1,
   "id": "4a059dd9-e9dd-472d-ad19-591030d67abf",
   "metadata": {},
   "outputs": [],
   "source": [
    "#reusable block of code and can be used anywhere,func() has to be defined before calling\n",
    "#built-in fun():-\n",
    "#max(),min(),sum()\n",
    "#user-defined func():-\n",
    "#no args and no return\n",
    "#args and no return\n",
    "#args and return\n",
    "#no args and return\n",
    "#anonymous func:-\n",
    "#functions with no name\n",
    "#eg.Lambda,Mapping,Filter,Zip,Enumerate"
   ]
  },
  {
   "cell_type": "code",
   "execution_count": 2,
   "id": "e871d7fa-7464-49b0-a308-867b9f016dda",
   "metadata": {},
   "outputs": [],
   "source": [
    "#def fun_name(args):\n",
    "#this is the syntax of function definition\n",
    "#def - keyword to start fn.\n",
    "#fun_name - function name\n",
    "#args - parameters to be used\n",
    "#AFTER CREATING THE FUNCTION YOU MUST CALL THE FUNCTION\n",
    "#fun_name(args)"
   ]
  },
  {
   "cell_type": "code",
   "execution_count": 3,
   "id": "7c5612cf-3064-4247-bca7-ad3915f0b4ba",
   "metadata": {},
   "outputs": [
    {
     "data": {
      "text/plain": [
       "11"
      ]
     },
     "execution_count": 3,
     "metadata": {},
     "output_type": "execute_result"
    }
   ],
   "source": [
    "def add(a,b):   #function definition\n",
    "    return a+b\n",
    "add(5,6)        #function call "
   ]
  },
  {
   "cell_type": "code",
   "execution_count": 5,
   "id": "cf7f5680-ff08-4c5c-a850-c5b2f51bf93c",
   "metadata": {},
   "outputs": [
    {
     "name": "stdout",
     "output_type": "stream",
     "text": [
      "hi\n",
      "hi\n",
      "hi\n"
     ]
    }
   ],
   "source": [
    "# 1.no argument and no return statement\n",
    "def greet():\n",
    "    print(\"hi\")\n",
    "greet()\n",
    "greet()\n",
    "greet()"
   ]
  },
  {
   "cell_type": "code",
   "execution_count": 12,
   "id": "ceeda09f-7a96-486e-9785-9fb230f2565c",
   "metadata": {},
   "outputs": [
    {
     "name": "stdin",
     "output_type": "stream",
     "text": [
      "enter radius: 10\n"
     ]
    },
    {
     "name": "stdout",
     "output_type": "stream",
     "text": [
      "314.2857142857143\n"
     ]
    }
   ],
   "source": [
    "def area_circle():\n",
    "    r=int(input(\"enter radius:\"))\n",
    "    area=22/7*(r**2)\n",
    "    print(area)\n",
    "area_circle()"
   ]
  },
  {
   "cell_type": "code",
   "execution_count": 40,
   "id": "b070be47-9c3f-4793-ba7b-3db1bec1583f",
   "metadata": {},
   "outputs": [
    {
     "name": "stdin",
     "output_type": "stream",
     "text": [
      "enter base 10\n",
      "enter height 10\n"
     ]
    },
    {
     "name": "stdout",
     "output_type": "stream",
     "text": [
      "50.0\n"
     ]
    }
   ],
   "source": [
    "def area_triangle():\n",
    "    b=int(input(\"enter base\"))\n",
    "    h=int(input(\"enter height\"))\n",
    "    area= 1/2*b*h\n",
    "    print(area)\n",
    "area_triangle()"
   ]
  },
  {
   "cell_type": "code",
   "execution_count": 30,
   "id": "a1b37226-f90c-420c-a871-a4ceae4d9d1a",
   "metadata": {},
   "outputs": [
    {
     "name": "stdin",
     "output_type": "stream",
     "text": [
      "enter radius 10\n"
     ]
    },
    {
     "name": "stdout",
     "output_type": "stream",
     "text": [
      "314.0\n",
      "area greater than 100\n"
     ]
    }
   ],
   "source": [
    "def a_c():\n",
    "    r=int(input(\"enter radius\"))\n",
    "    area=3.14*(r**2)\n",
    "    print(area)\n",
    "    if area>100:\n",
    "        print(\"area greater than 100\")\n",
    "    else:\n",
    "        print(\"area is less than 100\")\n",
    "a_c()"
   ]
  },
  {
   "cell_type": "code",
   "execution_count": 32,
   "id": "0b290bf0-ff9b-418b-9556-538cfd612a6f",
   "metadata": {},
   "outputs": [
    {
     "name": "stdin",
     "output_type": "stream",
     "text": [
      "enter radius 10\n"
     ]
    },
    {
     "name": "stdout",
     "output_type": "stream",
     "text": [
      "area greater than 100\n"
     ]
    }
   ],
   "source": [
    "#2.no arg and with return statement\n",
    "def a_c():\n",
    "    r=int(input(\"enter radius\"))\n",
    "    area=3.14*(r**2)\n",
    "    return area\n",
    "res=a_c()\n",
    "if res>100:\n",
    "    print(\"area greater than 100\")\n",
    "else:\n",
    "    print(\"area is less than 100\")\n"
   ]
  },
  {
   "cell_type": "code",
   "execution_count": 47,
   "id": "e8c65ba3-1b9e-415f-be98-c3da024924f1",
   "metadata": {},
   "outputs": [
    {
     "name": "stdin",
     "output_type": "stream",
     "text": [
      "enter lenght , base , height :  10,11,10\n"
     ]
    },
    {
     "data": {
      "text/plain": [
       "'isosceles'"
      ]
     },
     "execution_count": 47,
     "metadata": {},
     "output_type": "execute_result"
    }
   ],
   "source": [
    "def triangle():\n",
    "    l,b,h=input('enter lenght , base , height : ').split(',')\n",
    "    l=int(l)\n",
    "    b=int(b)\n",
    "    h=int(h)\n",
    "    if l==b==h:\n",
    "        return(\"equvilateral\")\n",
    "    elif (l==b) or (b==h) or (l==h):\n",
    "        return(\"isosceles\")\n",
    "    else:\n",
    "        return \"scalene\"\n",
    "triangle()"
   ]
  },
  {
   "cell_type": "code",
   "execution_count": 48,
   "id": "faed041e-1a31-438a-925e-ff3da1a36fab",
   "metadata": {},
   "outputs": [
    {
     "name": "stdout",
     "output_type": "stream",
     "text": [
      "50\n"
     ]
    }
   ],
   "source": [
    "#3.with arguments and no return statements\n",
    "def area_rec(l,b):\n",
    "    area=l*b\n",
    "    print(area)\n",
    "area_rec(10,5)"
   ]
  },
  {
   "cell_type": "code",
   "execution_count": 49,
   "id": "ded80dd4-fd32-4d0d-8314-e55cd3668958",
   "metadata": {},
   "outputs": [
    {
     "name": "stdin",
     "output_type": "stream",
     "text": [
      "enter a number : 13,5\n"
     ]
    },
    {
     "name": "stdout",
     "output_type": "stream",
     "text": [
      "65\n"
     ]
    }
   ],
   "source": [
    "#with arg no return statement\n",
    "def area_rec(l,b):\n",
    "    area=l*b\n",
    "    print(area)\n",
    "l,b=input(\"enter a number :\").split(\",\")\n",
    "area_rec(int(l),int(b))"
   ]
  },
  {
   "cell_type": "code",
   "execution_count": 51,
   "id": "209b2e75-51c6-4b96-b387-b909596a6dda",
   "metadata": {},
   "outputs": [
    {
     "name": "stdin",
     "output_type": "stream",
     "text": [
      "enter a number : 13,5\n"
     ]
    },
    {
     "name": "stdout",
     "output_type": "stream",
     "text": [
      "65\n"
     ]
    }
   ],
   "source": [
    "#no arg with return statement \n",
    "def area_rec():\n",
    "    l,b=input(\"enter a number :\").split(\",\")\n",
    "    area=int(l)*int(b)\n",
    "    print(area)\n",
    "area_rec()"
   ]
  },
  {
   "cell_type": "code",
   "execution_count": 53,
   "id": "91598806-4d97-4f50-89bf-489e8776f277",
   "metadata": {},
   "outputs": [
    {
     "name": "stdout",
     "output_type": "stream",
     "text": [
      "normal\n"
     ]
    }
   ],
   "source": [
    "def bmi(weight,h_cm):\n",
    "    h_m=h_cm/100\n",
    "    bmi=weight/(h_m**2)\n",
    "    if bmi<18.5:\n",
    "        print(\"underweight\")\n",
    "    elif bmi>=18.5 and bmi<=24.9:\n",
    "        print(\"normal\")\n",
    "    else:\n",
    "        print(\"overweight\")\n",
    "bmi(54,170)"
   ]
  },
  {
   "cell_type": "code",
   "execution_count": 64,
   "id": "af10ea91-3280-45ed-b9eb-559386eeeca5",
   "metadata": {},
   "outputs": [
    {
     "name": "stdin",
     "output_type": "stream",
     "text": [
      "enter the name,weight and height : bac,50,170\n"
     ]
    },
    {
     "name": "stdout",
     "output_type": "stream",
     "text": [
      "name:bac,bmi:17.301038062283737, comes under underweight category\n"
     ]
    },
    {
     "name": "stdin",
     "output_type": "stream",
     "text": [
      "enter the name,weight and height : nyc,88,178\n"
     ]
    },
    {
     "name": "stdout",
     "output_type": "stream",
     "text": [
      "name:nyc,bmi:27.77427092538821, comes under overweight category\n"
     ]
    }
   ],
   "source": [
    "#4. with arguments and with return statements \n",
    "def bmi(weight,h_cm):\n",
    "    h_m=h_cm/100\n",
    "    bmi=weight/(h_m**2)\n",
    "    if bmi<18.5:\n",
    "        res=\"underweight\"\n",
    "    elif bmi>=18.5 and bmi<=24.9:\n",
    "        res=\"normal\"\n",
    "    else:\n",
    "        res=\"overweight\"\n",
    "    return bmi,res\n",
    "for i in range(2):\n",
    "    name,w,h=input(\"enter the name,weight and height :\").split(\",\")\n",
    "    bmi1,res1=bmi(int(w),int(h))\n",
    "    print(f'name:{name},bmi:{bmi1}, comes under {res1} category')"
   ]
  },
  {
   "cell_type": "code",
   "execution_count": 68,
   "id": "74c239e4-8621-440a-9148-b85faf24e50d",
   "metadata": {},
   "outputs": [
    {
     "name": "stdout",
     "output_type": "stream",
     "text": [
      "('apple', 'banana', 'cherry', 'dragonfruit')\n",
      "['a', 'b', 'c', 'd']\n"
     ]
    }
   ],
   "source": [
    "#inorder to extract multiple arguments we use arguments\n",
    "def extract_firstchar(*args): #if you want to enter multiple arguments then you have to use pointer('*') eg(*args)\n",
    "    list1=[]\n",
    "    print(args)\n",
    "    for i in args:\n",
    "        list1.append(i[0])\n",
    "    return list1\n",
    "res=extract_firstchar('apple','banana','cherry','dragonfruit')\n",
    "print(res)"
   ]
  },
  {
   "cell_type": "code",
   "execution_count": 69,
   "id": "e854e525-32f8-4b5a-9c81-9b633c21c6f3",
   "metadata": {},
   "outputs": [],
   "source": [
    "#anonymous function:-\n",
    "#LAMBDA FUNCTION \n",
    "#in python are anonymous function that can be defined without a name\n",
    "# using the keyword lambda\n",
    "#lambda arguments : expression"
   ]
  },
  {
   "cell_type": "code",
   "execution_count": 70,
   "id": "1cb76797-30a2-424d-ba41-f0afd40448f4",
   "metadata": {},
   "outputs": [],
   "source": [
    "#key-point:\n",
    "#no need to give with a def keyword:\n",
    "#can take multiple arguments but only one expression\n",
    "#expression is evaluated and automatically returned without using return"
   ]
  },
  {
   "cell_type": "code",
   "execution_count": 71,
   "id": "e89c762e-b4d4-4b99-9e03-827514df8300",
   "metadata": {},
   "outputs": [
    {
     "data": {
      "text/plain": [
       "36"
      ]
     },
     "execution_count": 71,
     "metadata": {},
     "output_type": "execute_result"
    }
   ],
   "source": [
    "res=lambda b:(b**2)\n",
    "res(6)"
   ]
  },
  {
   "cell_type": "code",
   "execution_count": 73,
   "id": "5c6d5b8a-ea19-4eeb-bcc8-ffbcc0734bb8",
   "metadata": {},
   "outputs": [
    {
     "data": {
      "text/plain": [
       "74"
      ]
     },
     "execution_count": 73,
     "metadata": {},
     "output_type": "execute_result"
    }
   ],
   "source": [
    "r=lambda a,b,c:a+b+c\n",
    "r(10,25,39)"
   ]
  },
  {
   "cell_type": "code",
   "execution_count": 77,
   "id": "2d8ff1b0-82e5-4b6f-b9e6-0a34b5b10bc5",
   "metadata": {},
   "outputs": [
    {
     "data": {
      "text/plain": [
       "7"
      ]
     },
     "execution_count": 77,
     "metadata": {},
     "output_type": "execute_result"
    }
   ],
   "source": [
    "res=lambda a,b:a%b\n",
    "res(77,10)"
   ]
  },
  {
   "cell_type": "code",
   "execution_count": 81,
   "id": "b2abcece-b0c4-4483-a8eb-60856839557f",
   "metadata": {},
   "outputs": [
    {
     "data": {
      "text/plain": [
       "'mit'"
      ]
     },
     "execution_count": 81,
     "metadata": {},
     "output_type": "execute_result"
    }
   ],
   "source": [
    "r=lambda str:str[4:7]\n",
    "r('datamites')"
   ]
  },
  {
   "cell_type": "code",
   "execution_count": 83,
   "id": "99e12113-aacf-44df-a7d2-491d25b43661",
   "metadata": {},
   "outputs": [
    {
     "name": "stdout",
     "output_type": "stream",
     "text": [
      "11\n",
      "5\n"
     ]
    }
   ],
   "source": [
    "#with default arguments\n",
    "res4=lambda a=2,b=3:a+b\n",
    "print(res4(6,5))\n",
    "print(res4())"
   ]
  },
  {
   "cell_type": "code",
   "execution_count": 85,
   "id": "8c203adf-1c20-4e01-82d1-da3dcb6d4389",
   "metadata": {},
   "outputs": [
    {
     "data": {
      "text/plain": [
       "[1, 4, 9, 16, 25]"
      ]
     },
     "execution_count": 85,
     "metadata": {},
     "output_type": "execute_result"
    }
   ],
   "source": [
    "#list comphrehension\n",
    "l=[]\n",
    "for i in range(1,6):\n",
    "    l.append(i**2)\n",
    "l"
   ]
  },
  {
   "cell_type": "code",
   "execution_count": 86,
   "id": "ca318dcd-7e9b-4071-87ab-d177852d8c6e",
   "metadata": {},
   "outputs": [
    {
     "data": {
      "text/plain": [
       "[1, 4, 9, 16, 25]"
      ]
     },
     "execution_count": 86,
     "metadata": {},
     "output_type": "execute_result"
    }
   ],
   "source": [
    "l=[i**2 for i in range(1,6)]\n",
    "l"
   ]
  },
  {
   "cell_type": "code",
   "execution_count": 89,
   "id": "c66c6e46-da50-4bb3-82c1-52d294a820c8",
   "metadata": {},
   "outputs": [
    {
     "data": {
      "text/plain": [
       "[50, 52, 54, 56, 58, 60]"
      ]
     },
     "execution_count": 89,
     "metadata": {},
     "output_type": "execute_result"
    }
   ],
   "source": [
    "l=[]\n",
    "for i in range(50,61):\n",
    "    if i%2==0:\n",
    "        l.append(i)\n",
    "l"
   ]
  },
  {
   "cell_type": "code",
   "execution_count": 90,
   "id": "fe5def81-4989-4acf-ac7f-e6422f01ee52",
   "metadata": {},
   "outputs": [
    {
     "data": {
      "text/plain": [
       "[50, 52, 54, 56, 58, 60]"
      ]
     },
     "execution_count": 90,
     "metadata": {},
     "output_type": "execute_result"
    }
   ],
   "source": [
    "l=[i for i in range(50,61) if i%2==0]\n",
    "l"
   ]
  },
  {
   "cell_type": "code",
   "execution_count": 94,
   "id": "5a1c61bc-4e6c-4a09-b89c-7c4f3a66afe2",
   "metadata": {},
   "outputs": [
    {
     "data": {
      "text/plain": [
       "['atad', 'setim']"
      ]
     },
     "execution_count": 94,
     "metadata": {},
     "output_type": "execute_result"
    }
   ],
   "source": [
    "l=[\"data\",\"mites\"]\n",
    "rev=[i[::-1] for i in l]\n",
    "rev"
   ]
  },
  {
   "cell_type": "code",
   "execution_count": 96,
   "id": "3e06c2ad-51a1-42f4-8ea9-7de2f9d31ac8",
   "metadata": {},
   "outputs": [
    {
     "data": {
      "text/plain": [
       "['-', 'a', '-', 'a', '-', 'i', '-', 'e', '-']"
      ]
     },
     "execution_count": 96,
     "metadata": {},
     "output_type": "execute_result"
    }
   ],
   "source": [
    "str1=\"datamites\"\n",
    "list1=['a','e','i','o','u']\n",
    "list2=[]\n",
    "for i in str1:\n",
    "    if i in list1:\n",
    "        list2.append(i)\n",
    "    else:\n",
    "        list2.append('-')\n",
    "list2"
   ]
  },
  {
   "cell_type": "code",
   "execution_count": 97,
   "id": "83c2e7ab-d3e5-43ed-b3c0-242012d8910a",
   "metadata": {},
   "outputs": [
    {
     "name": "stdout",
     "output_type": "stream",
     "text": [
      "['-', 'a', '-', 'a', '-', 'i', '-', 'e', '-']\n"
     ]
    }
   ],
   "source": [
    "str1=\"datamites\"\n",
    "list1=['a','e','i','o','u']\n",
    "list2=[i if i in list1 else'-' for i in str1]\n",
    "print(list2)"
   ]
  },
  {
   "cell_type": "code",
   "execution_count": 98,
   "id": "e978d579-d317-4a44-b75f-7b699baf035f",
   "metadata": {},
   "outputs": [],
   "source": [
    "#order if only for and if then 1st place for-if\n",
    "#if and else are also there then if-else-for (for will come at the last)"
   ]
  },
  {
   "cell_type": "code",
   "execution_count": 99,
   "id": "5cde5508-2c9b-43af-b0ce-da1d31793cdb",
   "metadata": {},
   "outputs": [
    {
     "data": {
      "text/plain": [
       "[1, 8, 27, 64, 125, 216, 343, 512, 729, 1000]"
      ]
     },
     "execution_count": 99,
     "metadata": {},
     "output_type": "execute_result"
    }
   ],
   "source": [
    "res=lambda x:x**3\n",
    "res1=[res(i) for i in range(1,11)]\n",
    "res1"
   ]
  },
  {
   "cell_type": "code",
   "execution_count": 100,
   "id": "80ba65f2-18b6-4489-8f19-2f6b689dec62",
   "metadata": {},
   "outputs": [
    {
     "data": {
      "text/plain": [
       "['atad', 'setim', 'ragan anna']"
      ]
     },
     "execution_count": 100,
     "metadata": {},
     "output_type": "execute_result"
    }
   ],
   "source": [
    "list1=[\"data\",\"mites\",\"anna nagar\"]\n",
    "res= lambda x:x[::-1]\n",
    "rev=[res(i) for i in list1]\n",
    "rev"
   ]
  },
  {
   "cell_type": "code",
   "execution_count": 101,
   "id": "cf6335ec-92cc-42bd-90a2-c985265ed20f",
   "metadata": {},
   "outputs": [],
   "source": [
    "#Zip Function\n",
    "#combine two or more iterables into a zip"
   ]
  },
  {
   "cell_type": "code",
   "execution_count": 102,
   "id": "feb8472c-17ed-4a9c-ba32-0401976b9b9b",
   "metadata": {},
   "outputs": [
    {
     "name": "stdout",
     "output_type": "stream",
     "text": [
      "[(2, 'a'), (3, 'b'), (4, 'c')]\n",
      "{2: 'a', 3: 'b', 4: 'c'}\n"
     ]
    }
   ],
   "source": [
    "list1 =[2,3,4]\n",
    "list2=['a','b','c']\n",
    "zipped=list(zip(list1,list2))\n",
    "zipped1=dict(zip(list1,list2))\n",
    "print(zipped)\n",
    "print(zipped1)"
   ]
  },
  {
   "cell_type": "code",
   "execution_count": 103,
   "id": "6e894418-37d0-44c3-a693-0d8c7d8b6703",
   "metadata": {},
   "outputs": [
    {
     "name": "stdout",
     "output_type": "stream",
     "text": [
      "[('h', 25, 'fail'), ('b', 30, 'fail'), ('c', 40, 'pass')]\n",
      "{}\n"
     ]
    }
   ],
   "source": [
    "a=['h','b','c']\n",
    "b=(25,30,40)\n",
    "c=['fail','fail','pass']\n",
    "zipped=zip(a,b,c)\n",
    "print(list(zipped))\n",
    "print(dict(zipped))#when 3 iterables are provided list conversion will not work"
   ]
  },
  {
   "cell_type": "code",
   "execution_count": 105,
   "id": "12fb4e29-0262-42a5-90e1-3b79b1aab395",
   "metadata": {},
   "outputs": [
    {
     "data": {
      "text/plain": [
       "{'h': (25, 'fail'), 'b': (30, 'fail'), 'c': (40, 'pass')}"
      ]
     },
     "execution_count": 105,
     "metadata": {},
     "output_type": "execute_result"
    }
   ],
   "source": [
    "res1=list(zip(b,c))\n",
    "dict(zip(a,res1))#created dictionary with multiple values"
   ]
  },
  {
   "cell_type": "code",
   "execution_count": 108,
   "id": "261d5dcd-e909-4b8d-948f-1a77065e0d1a",
   "metadata": {},
   "outputs": [
    {
     "name": "stdout",
     "output_type": "stream",
     "text": [
      "<filter object at 0x000001594EFBFC40>\n"
     ]
    },
    {
     "data": {
      "text/plain": [
       "[0, 2, 8]"
      ]
     },
     "execution_count": 108,
     "metadata": {},
     "output_type": "execute_result"
    }
   ],
   "source": [
    "#FILTER METHOD:\n",
    "seq=[0,1,2,3,5,8,13]\n",
    "res=filter(lambda x:x%2==0,seq)#return boolean value in the backend\n",
    "print(res)\n",
    "list(res) #extract the element where boolean value is True "
   ]
  },
  {
   "cell_type": "code",
   "execution_count": 109,
   "id": "cc2f1d18-b91e-4bbd-8b3e-e3223e425a98",
   "metadata": {},
   "outputs": [
    {
     "name": "stdout",
     "output_type": "stream",
     "text": [
      "<filter object at 0x000001594EF5D780>\n"
     ]
    },
    {
     "data": {
      "text/plain": [
       "[1, 3, 5, 13]"
      ]
     },
     "execution_count": 109,
     "metadata": {},
     "output_type": "execute_result"
    }
   ],
   "source": [
    "#FILTER METHOD:\n",
    "seq=[0,1,2,3,5,8,13]\n",
    "res=filter(lambda x:x%2!=0,seq)#return boolean value in the backend\n",
    "print(res)\n",
    "list(res) #extract the element where boolean value is True "
   ]
  },
  {
   "cell_type": "code",
   "execution_count": 114,
   "id": "b78709f1-826b-450b-a12d-1265b4ae5c78",
   "metadata": {},
   "outputs": [
    {
     "data": {
      "text/plain": [
       "['apple', 'avocado', 'apricot']"
      ]
     },
     "execution_count": 114,
     "metadata": {},
     "output_type": "execute_result"
    }
   ],
   "source": [
    "words =['apple','banana','cherry','avocado','apricot']\n",
    "res=filter(lambda x:x.startswith('a'),words)\n",
    "list(res)"
   ]
  },
  {
   "cell_type": "code",
   "execution_count": 115,
   "id": "2ebc02dc-2389-41b8-ab8a-5bff436ac5e2",
   "metadata": {},
   "outputs": [
    {
     "data": {
      "text/plain": [
       "['banana']"
      ]
     },
     "execution_count": 115,
     "metadata": {},
     "output_type": "execute_result"
    }
   ],
   "source": [
    "words =['apple','banana','cherry','avocado','apricot']\n",
    "res=filter(lambda x:x.count('a')>2,words)\n",
    "list(res)"
   ]
  },
  {
   "cell_type": "code",
   "execution_count": 116,
   "id": "b75827ef-a742-4b36-9982-81fcb98dc6d5",
   "metadata": {},
   "outputs": [
    {
     "data": {
      "text/plain": [
       "['apple']"
      ]
     },
     "execution_count": 116,
     "metadata": {},
     "output_type": "execute_result"
    }
   ],
   "source": [
    "words =['apple','banana','cherry','avocado','apricot']\n",
    "res=filter(lambda x:x.endswith('e'),words)\n",
    "list(res)"
   ]
  },
  {
   "cell_type": "code",
   "execution_count": 117,
   "id": "d919092b-d352-4b49-bae4-8cadc21d23fa",
   "metadata": {},
   "outputs": [],
   "source": [
    "#MAP FUNCTION\n",
    "#map() function in python is used to apply a function to each item of an iterable(like list,tuple or set)\n",
    "#and return a map object(an iterator)\n",
    "#map(function,iterable)"
   ]
  },
  {
   "cell_type": "code",
   "execution_count": 118,
   "id": "539f9bcc-f184-4137-b996-6ef421d76925",
   "metadata": {},
   "outputs": [
    {
     "name": "stdout",
     "output_type": "stream",
     "text": [
      "<map object at 0x000001594EFBEDD0>\n"
     ]
    },
    {
     "data": {
      "text/plain": [
       "[1, 2, 3, 4, 5]"
      ]
     },
     "execution_count": 118,
     "metadata": {},
     "output_type": "execute_result"
    }
   ],
   "source": [
    "numbers = ['1','2','3','4','5']#it is in str\n",
    "res = map(int,numbers)#we are forcetype casting into list using map func\n",
    "print(res)\n",
    "r=list(res)\n",
    "r"
   ]
  },
  {
   "cell_type": "code",
   "execution_count": 122,
   "id": "2e5ec8ba-eccf-4578-881c-2b4684c77b57",
   "metadata": {},
   "outputs": [
    {
     "name": "stdin",
     "output_type": "stream",
     "text": [
      "enter a number 18 20\n"
     ]
    },
    {
     "name": "stdout",
     "output_type": "stream",
     "text": [
      "18 20\n",
      "<class 'int'>\n"
     ]
    }
   ],
   "source": [
    "a,b=map(int,input('enter a number').split())\n",
    "print(a,b)\n",
    "print(type(a))"
   ]
  },
  {
   "cell_type": "code",
   "execution_count": 126,
   "id": "072c6359-04e6-4eda-a022-0c897c1be267",
   "metadata": {},
   "outputs": [
    {
     "data": {
      "text/plain": [
       "[5.9, 8.3, 38.9, 4.6]"
      ]
     },
     "execution_count": 126,
     "metadata": {},
     "output_type": "execute_result"
    }
   ],
   "source": [
    "n=[5.92,8.298,38.92,4.6]\n",
    "res=map(lambda x:round(x,1),n)\n",
    "list(res)"
   ]
  },
  {
   "cell_type": "code",
   "execution_count": 129,
   "id": "59d51d04-fbc1-4009-8e16-9cfa6d835dc8",
   "metadata": {},
   "outputs": [
    {
     "data": {
      "text/plain": [
       "[8, 10, 12, 14]"
      ]
     },
     "execution_count": 129,
     "metadata": {},
     "output_type": "execute_result"
    }
   ],
   "source": [
    "n1=[2,3,4,5]\n",
    "n2=[6,7,8,9]\n",
    "r=map(lambda x,y:x+y ,n1,n2)\n",
    "list(r)"
   ]
  },
  {
   "cell_type": "code",
   "execution_count": 143,
   "id": "232966c6-0d90-4f9a-aa06-bbb48b54d0ef",
   "metadata": {},
   "outputs": [
    {
     "name": "stdout",
     "output_type": "stream",
     "text": [
      "[0, 2, 4, 6, 8, 16, 26]\n",
      "[16, 26]\n"
     ]
    }
   ],
   "source": [
    "seq=[0,1,2,3,4,8,13]\n",
    "res=map(lambda x:x*2,seq)\n",
    "p=list(res)\n",
    "p1=filter(lambda x:x>10,p)\n",
    "print(list(p))\n",
    "print(list(p1))"
   ]
  },
  {
   "cell_type": "code",
   "execution_count": 144,
   "id": "c193ff1c-f239-4a12-95b9-eca67f695dfe",
   "metadata": {},
   "outputs": [
    {
     "data": {
      "text/plain": [
       "[16, 26]"
      ]
     },
     "execution_count": 144,
     "metadata": {},
     "output_type": "execute_result"
    }
   ],
   "source": [
    "#or you can give like \n",
    "list(filter(lambda x:x>10,map(lambda x:x*2,seq)))"
   ]
  },
  {
   "cell_type": "code",
   "execution_count": 145,
   "id": "4e946f58-9bc6-4cbc-ab5d-558d632664a0",
   "metadata": {},
   "outputs": [],
   "source": [
    "#ENUMERATE FUNCTION\n",
    "#provides integer value for each and every elements in an iterable"
   ]
  },
  {
   "cell_type": "code",
   "execution_count": 148,
   "id": "0f3e5ac7-45e0-47eb-b540-311afa170532",
   "metadata": {
    "scrolled": true
   },
   "outputs": [
    {
     "name": "stdout",
     "output_type": "stream",
     "text": [
      "0 apple\n",
      "1 banana\n",
      "2 cherry\n"
     ]
    }
   ],
   "source": [
    "fruits=['apple','banana','cherry']\n",
    "for i,fruits in enumerate(fruits): #for enumerate after for you have to give any 2 values lyk(i or s or b, fruits)\n",
    "    print(i,fruits)#by default it will start with zero (0 apple) until we provide start=1,2,or something"
   ]
  },
  {
   "cell_type": "code",
   "execution_count": 150,
   "id": "3f753931-4922-405f-babe-b71a2a7b4c7b",
   "metadata": {
    "scrolled": true
   },
   "outputs": [
    {
     "name": "stdout",
     "output_type": "stream",
     "text": [
      "1 apple\n",
      "2 banana\n",
      "3 cherry\n"
     ]
    }
   ],
   "source": [
    "fruits=['apple','banana','cherry']\n",
    "for i,fruits in enumerate(fruits,start=1):\n",
    "    print(i,fruits)"
   ]
  },
  {
   "cell_type": "code",
   "execution_count": 151,
   "id": "2a9b09ad-aca8-4271-8b61-669cf9ecdbeb",
   "metadata": {},
   "outputs": [
    {
     "name": "stdout",
     "output_type": "stream",
     "text": [
      "1 27\n",
      "2 64\n",
      "3 125\n",
      "4 216\n",
      "5 7077888\n",
      "6 20346417\n"
     ]
    }
   ],
   "source": [
    "num=[3,4,5,6,192,273]\n",
    "r=[x**3 for x in num]\n",
    "for index,value in enumerate(r,start=1):\n",
    "    print(index,value)"
   ]
  },
  {
   "cell_type": "code",
   "execution_count": null,
   "id": "1cbfcb0f-ee2e-46b5-be3a-a3f8bd569209",
   "metadata": {},
   "outputs": [],
   "source": []
  }
 ],
 "metadata": {
  "kernelspec": {
   "display_name": "Python 3 (ipykernel)",
   "language": "python",
   "name": "python3"
  },
  "language_info": {
   "codemirror_mode": {
    "name": "ipython",
    "version": 3
   },
   "file_extension": ".py",
   "mimetype": "text/x-python",
   "name": "python",
   "nbconvert_exporter": "python",
   "pygments_lexer": "ipython3",
   "version": "3.11.7"
  }
 },
 "nbformat": 4,
 "nbformat_minor": 5
}
