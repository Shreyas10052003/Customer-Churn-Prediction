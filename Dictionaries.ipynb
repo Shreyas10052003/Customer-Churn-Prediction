{
 "cells": [
  {
   "cell_type": "code",
   "execution_count": 2,
   "id": "d35abaca-d22b-4f64-93df-76f3fb241aef",
   "metadata": {},
   "outputs": [
    {
     "data": {
      "text/plain": [
       "{'john': 50, 'jsho': 40, 'bob': 27}"
      ]
     },
     "execution_count": 2,
     "metadata": {},
     "output_type": "execute_result"
    }
   ],
   "source": [
    "dict1#adding the elements in the dictionaries\n",
    "dict1['john']=50\n",
    "dict1['jsho']=40\n",
    "dict1['bob']=27\n",
    "dict1"
   ]
  },
  {
   "cell_type": "code",
   "execution_count": 5,
   "id": "8955dcec-e7c3-409d-9253-ee22750fb2de",
   "metadata": {},
   "outputs": [
    {
     "data": {
      "text/plain": [
       "{'john': 50, 'jsho': 40, 'bob': 27, 'nic': 90}"
      ]
     },
     "execution_count": 5,
     "metadata": {},
     "output_type": "execute_result"
    }
   ],
   "source": [
    "dict1.update({'nic':90})\n",
    "dict1"
   ]
  },
  {
   "cell_type": "code",
   "execution_count": 10,
   "id": "6a114cec-facf-4dd1-b1d6-2ccc7fb1c18e",
   "metadata": {},
   "outputs": [
    {
     "data": {
      "text/plain": [
       "{'john': 50, 'jsho': 40, 'bob': 80, 'nic': 90}"
      ]
     },
     "execution_count": 10,
     "metadata": {},
     "output_type": "execute_result"
    }
   ],
   "source": [
    "dict1['bob']=80\n",
    "dict1"
   ]
  },
  {
   "cell_type": "code",
   "execution_count": 31,
   "id": "57f6c040-38dc-42e9-a5f2-b5848bf5f5ef",
   "metadata": {},
   "outputs": [
    {
     "data": {
      "text/plain": [
       "{'john': 50, 'nic': 90, 'jsho': 37}"
      ]
     },
     "execution_count": 31,
     "metadata": {},
     "output_type": "execute_result"
    }
   ],
   "source": [
    "dict1.update({'jsho':37})\n",
    "dict1"
   ]
  },
  {
   "cell_type": "code",
   "execution_count": 32,
   "id": "67f7d7c2-922d-4f54-9a15-2cc08dfb5706",
   "metadata": {},
   "outputs": [
    {
     "data": {
      "text/plain": [
       "{'john': 50, 'nic': 90, 'jsho': 37}"
      ]
     },
     "execution_count": 32,
     "metadata": {},
     "output_type": "execute_result"
    }
   ],
   "source": [
    "dict1[\"jsho\"]\n",
    "dict1"
   ]
  },
  {
   "cell_type": "code",
   "execution_count": 35,
   "id": "b14020bc-02b7-4f0d-8087-2896f7e41ee1",
   "metadata": {},
   "outputs": [
    {
     "data": {
      "text/plain": [
       "{'john': 50, 'nic': 90, 'jsho': 37}"
      ]
     },
     "execution_count": 35,
     "metadata": {},
     "output_type": "execute_result"
    }
   ],
   "source": [
    "dict1[\"john\"]\n",
    "dict1"
   ]
  },
  {
   "cell_type": "code",
   "execution_count": 33,
   "id": "29aba830-a21b-4717-ac0f-60bb8672f8b3",
   "metadata": {},
   "outputs": [
    {
     "ename": "KeyError",
     "evalue": "'bob'",
     "output_type": "error",
     "traceback": [
      "\u001b[1;31m---------------------------------------------------------------------------\u001b[0m",
      "\u001b[1;31mKeyError\u001b[0m                                  Traceback (most recent call last)",
      "Cell \u001b[1;32mIn[33], line 1\u001b[0m\n\u001b[1;32m----> 1\u001b[0m \u001b[38;5;28;01mdel\u001b[39;00m dict1[\u001b[38;5;124m\"\u001b[39m\u001b[38;5;124mbob\u001b[39m\u001b[38;5;124m\"\u001b[39m]\n\u001b[0;32m      2\u001b[0m dict1\n",
      "\u001b[1;31mKeyError\u001b[0m: 'bob'"
     ]
    }
   ],
   "source": [
    "del dict1[\"bob\"]\n",
    "dict1"
   ]
  },
  {
   "cell_type": "code",
   "execution_count": 34,
   "id": "83031c0b-206a-44a6-99cc-94fa2aae3c5e",
   "metadata": {},
   "outputs": [
    {
     "data": {
      "text/plain": [
       "{'john': 50, 'nic': 90, 'jsho': 37}"
      ]
     },
     "execution_count": 34,
     "metadata": {},
     "output_type": "execute_result"
    }
   ],
   "source": [
    "dict1"
   ]
  },
  {
   "cell_type": "code",
   "execution_count": 38,
   "id": "3c8f730c-9e0c-45e7-a992-c852bc7be829",
   "metadata": {},
   "outputs": [
    {
     "data": {
      "text/plain": [
       "dict_values([50, 37])"
      ]
     },
     "execution_count": 38,
     "metadata": {},
     "output_type": "execute_result"
    }
   ],
   "source": [
    "dict1.values()"
   ]
  },
  {
   "cell_type": "code",
   "execution_count": 41,
   "id": "801f978a-8d40-443f-87c5-73f1096cd527",
   "metadata": {},
   "outputs": [
    {
     "data": {
      "text/plain": [
       "{'john': 50, 'jsho': 37, 'jdsh': 16}"
      ]
     },
     "execution_count": 41,
     "metadata": {},
     "output_type": "execute_result"
    }
   ],
   "source": [
    "dict1.update({\"jdsh\":16})\n",
    "dict1"
   ]
  },
  {
   "cell_type": "code",
   "execution_count": 42,
   "id": "18277e50-53bf-4f78-8ed6-2382766b733a",
   "metadata": {},
   "outputs": [
    {
     "data": {
      "text/plain": [
       "dict_items([('john', 50), ('jsho', 37), ('jdsh', 16)])"
      ]
     },
     "execution_count": 42,
     "metadata": {},
     "output_type": "execute_result"
    }
   ],
   "source": [
    "dict1.items()"
   ]
  },
  {
   "cell_type": "code",
   "execution_count": 44,
   "id": "2b3f54c5-8afe-4688-81f2-fb6020fec38c",
   "metadata": {},
   "outputs": [
    {
     "data": {
      "text/plain": [
       "{'john': 50, 'jsho': 37}"
      ]
     },
     "execution_count": 44,
     "metadata": {},
     "output_type": "execute_result"
    }
   ],
   "source": [
    "dict1.pop('jdsh')\n",
    "dict1"
   ]
  },
  {
   "cell_type": "code",
   "execution_count": 45,
   "id": "e4366599-7fba-44a3-9364-2d09713dee06",
   "metadata": {},
   "outputs": [
    {
     "data": {
      "text/plain": [
       "dict_keys(['john', 'jsho'])"
      ]
     },
     "execution_count": 45,
     "metadata": {},
     "output_type": "execute_result"
    }
   ],
   "source": [
    "dict1.keys()"
   ]
  },
  {
   "cell_type": "code",
   "execution_count": 46,
   "id": "cb5294f7-dce6-4fc7-843d-3a5485dcebf9",
   "metadata": {},
   "outputs": [
    {
     "data": {
      "text/plain": [
       "{}"
      ]
     },
     "execution_count": 46,
     "metadata": {},
     "output_type": "execute_result"
    }
   ],
   "source": [
    "dict1.clear()\n",
    "dict1"
   ]
  },
  {
   "cell_type": "code",
   "execution_count": 50,
   "id": "e13c8670-b5a0-4052-b824-4e3041311687",
   "metadata": {},
   "outputs": [
    {
     "name": "stdout",
     "output_type": "stream",
     "text": [
      "('haunted house', 'bumper cars')\n"
     ]
    },
    {
     "data": {
      "text/plain": [
       "'haunted house'"
      ]
     },
     "execution_count": 50,
     "metadata": {},
     "output_type": "execute_result"
    }
   ],
   "source": [
    "#dictionaries with multiple values\n",
    "fav_ride={\"emma\":[\"roller coaster\",\"ferris wheel\"],\n",
    "          \"liam\":(\"haunted house\",\"bumper cars\"),\n",
    "          \"olivia\":[\"water slide\",\"swing ride\"],\n",
    "          \"krissy\":'giant wheel'}\n",
    "print(fav_ride['liam'])\n",
    "fav_ride['liam'][0]"
   ]
  },
  {
   "cell_type": "code",
   "execution_count": 51,
   "id": "91c29a6a-e42f-4326-b60e-034f8f2e24e2",
   "metadata": {},
   "outputs": [
    {
     "data": {
      "text/plain": [
       "{'emma': ['roller coaster', 'ferris wheel'],\n",
       " 'liam': ('haunted house', 'bumper cars'),\n",
       " 'olivia': ['water slide', 'swing ride', 'tricks'],\n",
       " 'krissy': 'giant wheel'}"
      ]
     },
     "execution_count": 51,
     "metadata": {},
     "output_type": "execute_result"
    }
   ],
   "source": [
    "fav_ride['olivia'].append('tricks')\n",
    "fav_ride"
   ]
  },
  {
   "cell_type": "code",
   "execution_count": 54,
   "id": "f9ec9b33-7af1-4320-af12-8a705cab375c",
   "metadata": {},
   "outputs": [
    {
     "data": {
      "text/plain": [
       "{'emma': ['roller coaster', 'ferris wheel'],\n",
       " 'liam': ('haunted house', 'bumper cars'),\n",
       " 'olivia': ['water slide', 'tricks'],\n",
       " 'krissy': 'giant wheel'}"
      ]
     },
     "execution_count": 54,
     "metadata": {},
     "output_type": "execute_result"
    }
   ],
   "source": [
    "fav_ride['olivia'].pop(1)\n",
    "fav_ride"
   ]
  },
  {
   "cell_type": "code",
   "execution_count": 59,
   "id": "daf9e7c4-d808-45f3-a1aa-5ea24200caef",
   "metadata": {
    "scrolled": true
   },
   "outputs": [
    {
     "data": {
      "text/plain": [
       "{'emma': ['roller coaster', 'ferris wheel'],\n",
       " 'liam': ('haunted house', 'bumper cars', 'cars'),\n",
       " 'olivia': ['water slide', 'tricks'],\n",
       " 'krissy': 'giant wheel'}"
      ]
     },
     "execution_count": 59,
     "metadata": {},
     "output_type": "execute_result"
    }
   ],
   "source": [
    "#concatenation\n",
    "ride=(\"cars\",)\n",
    "fav_ride['liam']=fav_ride['liam']+ride\n",
    "fav_ride"
   ]
  },
  {
   "cell_type": "code",
   "execution_count": 68,
   "id": "55bd8552-75c5-470c-9b5d-82c9076308c0",
   "metadata": {},
   "outputs": [
    {
     "data": {
      "text/plain": [
       "{'emma': ['roller coaster', 'ferris wheel'],\n",
       " 'liam': ('haunted house', 'bumper cars', 'cars', 'columbus', 'columbus'),\n",
       " 'olivia': ['water slide', 'tricks'],\n",
       " 'krissy': 'giant wheel'}"
      ]
     },
     "execution_count": 68,
     "metadata": {},
     "output_type": "execute_result"
    }
   ],
   "source": [
    "#convert to list and add\n",
    "list1=list(fav_ride['liam'])\n",
    "list1.append('columbus')\n",
    "list1=tuple(list1)\n",
    "list1\n",
    "fav_ride.update({'liam':list1})\n",
    "fav_ride['liam']=list1#another method of adding\n",
    "fav_ride"
   ]
  },
  {
   "cell_type": "code",
   "execution_count": 79,
   "id": "203dcecf-6602-43e3-9a9e-cf3e614b0e50",
   "metadata": {},
   "outputs": [
    {
     "data": {
      "text/plain": [
       "{'emma': ['roller coaster', 'ferris wheel'],\n",
       " 'liam': ('haunted house', 'bumper cars', 'cars', 'columbus', 'columbus'),\n",
       " 'olivia': ['trunks', 'bricks', 'trunks', 'bricks'],\n",
       " 'krissy': 'giant wheel'}"
      ]
     },
     "execution_count": 79,
     "metadata": {},
     "output_type": "execute_result"
    }
   ],
   "source": [
    "#convert to list and add\n",
    "list1=list(fav_ride['olivia'])\n",
    "list1.append('trunks')\n",
    "list1.append('bricks')\n",
    "fav_ride.update({'olivia':list1})\n",
    "fav_ride['olivia']=list1#another method of adding\n",
    "fav_ride"
   ]
  },
  {
   "cell_type": "code",
   "execution_count": 84,
   "id": "41b5f7ef-92f0-40e2-b56b-8fc5423ff7dd",
   "metadata": {},
   "outputs": [
    {
     "data": {
      "text/plain": [
       "{'emma': ['roller coaster', 'ferris wheel'],\n",
       " 'liam': ('haunted house', 'bumper cars', 'cars', 'columbus', 'columbus'),\n",
       " 'olivia': ['trunks'],\n",
       " 'krissy': 'giant wheel'}"
      ]
     },
     "execution_count": 84,
     "metadata": {},
     "output_type": "execute_result"
    }
   ],
   "source": [
    "fav_ride['olivia'].pop()\n",
    "fav_ride"
   ]
  },
  {
   "cell_type": "code",
   "execution_count": 86,
   "id": "ead9b09e-2861-4924-83f6-c53f46e3ab50",
   "metadata": {},
   "outputs": [
    {
     "data": {
      "text/plain": [
       "{'emma': ['roller coaster', 'ferris wheel'],\n",
       " 'liam': ('haunted house', 'bumper cars', 'cars', 'columbus', 'columbus'),\n",
       " 'olivia': ['trunks', 'bricks'],\n",
       " 'krissy': 'giant wheel'}"
      ]
     },
     "execution_count": 86,
     "metadata": {},
     "output_type": "execute_result"
    }
   ],
   "source": [
    "list1=list(fav_ride['olivia'])\n",
    "list1.append('bricks')\n",
    "fav_ride.update({'olivia':list1})\n",
    "fav_ride['olivia']=list1#another method of adding\n",
    "fav_ride"
   ]
  },
  {
   "cell_type": "code",
   "execution_count": 87,
   "id": "90de0f29-6007-4826-9f67-dcde4404f95b",
   "metadata": {},
   "outputs": [
    {
     "data": {
      "text/plain": [
       "{'emma': ['roller coaster', 'ferris wheel'],\n",
       " 'liam': ('haunted house', 'bumper cars', 'cars', 'columbus', 'columbus'),\n",
       " 'olivia': ['trunks', 'houston'],\n",
       " 'krissy': 'giant wheel'}"
      ]
     },
     "execution_count": 87,
     "metadata": {},
     "output_type": "execute_result"
    }
   ],
   "source": [
    "fav_ride[\"olivia\"][1]=\"houston\"\n",
    "fav_ride"
   ]
  },
  {
   "cell_type": "code",
   "execution_count": 91,
   "id": "db3cf671-64f8-453c-a318-92970858ac2d",
   "metadata": {},
   "outputs": [
    {
     "data": {
      "text/plain": [
       "{'emma': [],\n",
       " 'liam': ('haunted house', 'bumper cars', 'cars', 'columbus', 'columbus'),\n",
       " 'olivia': ['trunks', 'houston'],\n",
       " 'krissy': 'giant wheel'}"
      ]
     },
     "execution_count": 91,
     "metadata": {},
     "output_type": "execute_result"
    }
   ],
   "source": [
    "fav_ride['emma'].remove('roller coaster')\n",
    "fav_ride\n",
    "#ferris wheel already got removed"
   ]
  },
  {
   "cell_type": "code",
   "execution_count": 94,
   "id": "e986c09e-d53a-4f74-9155-58b9fab5e1dd",
   "metadata": {},
   "outputs": [
    {
     "name": "stdout",
     "output_type": "stream",
     "text": [
      "to-kill-a-mockingbird\n"
     ]
    }
   ],
   "source": [
    "books=['to kill a mockingbird','1984','brave new world']\n",
    "#expected output ['to-kill-a-mockingbird',2006,'dlroW_weN_evarB']\n",
    "b=\"-\".join(books[0].split(\" \"))\n",
    "print(b)"
   ]
  },
  {
   "cell_type": "code",
   "execution_count": 93,
   "id": "e51d2b37-fab3-415b-be9b-2d0582993110",
   "metadata": {},
   "outputs": [
    {
     "data": {
      "text/plain": [
       "2006"
      ]
     },
     "execution_count": 93,
     "metadata": {},
     "output_type": "execute_result"
    }
   ],
   "source": [
    "1+9+8+4+1984"
   ]
  },
  {
   "cell_type": "code",
   "execution_count": 144,
   "id": "da8245cc-a8ba-4d57-9cda-51faeb770953",
   "metadata": {},
   "outputs": [
    {
     "name": "stdout",
     "output_type": "stream",
     "text": [
      "to-kill-a-mockingbird\n",
      "to-kill-a-mockingbird 2006 dlroW weN evarB\n"
     ]
    }
   ],
   "source": [
    "books=['to kill a mockingbird','1984','brave new world']\n",
    "#expected output ['to-kill-a-mockingbird',2006,'dlroW_weN_evarB']\n",
    "b=\"-\".join(books[0].split(\" \"))\n",
    "print(b)\n",
    "a=list(books[1])\n",
    "total = int(a[0])+int(a[1])+int(a[2])+int(a[3])\n",
    "fin_value=total+int(books[1])\n",
    "f=books[2]\n",
    "c=f[::-1]\n",
    "p=c.replace('b','B',1).replace('n','N',1).replace('w','W',1)\n",
    "print(b,fin_value,p)"
   ]
  },
  {
   "cell_type": "code",
   "execution_count": 119,
   "id": "e4b17721-72fe-41b7-a202-fb89f2253145",
   "metadata": {},
   "outputs": [
    {
     "data": {
      "text/plain": [
       "2006"
      ]
     },
     "execution_count": 119,
     "metadata": {},
     "output_type": "execute_result"
    }
   ],
   "source": [
    "fin_value=total+int(books[1])\n",
    "fin_valu"
   ]
  },
  {
   "cell_type": "code",
   "execution_count": 140,
   "id": "fe16d408-3b9d-4a00-bcdd-64bba7e0f759",
   "metadata": {},
   "outputs": [
    {
     "name": "stdout",
     "output_type": "stream",
     "text": [
      "brave new world\n",
      "dlroW weN evarB\n"
     ]
    }
   ],
   "source": [
    "b=books[2]\n",
    "print(b)\n",
    "c=b[::-1]\n",
    "p=c.replace('b','B',1).replace('n','N',1).replace('w','W',1)\n",
    "print(p)"
   ]
  },
  {
   "cell_type": "code",
   "execution_count": 170,
   "id": "e35f0be5-0731-4edd-adc7-012c563113c3",
   "metadata": {},
   "outputs": [
    {
     "name": "stdout",
     "output_type": "stream",
     "text": [
      "['to-kill-a-mockingbird', 2006, 'dlroW_weN_evarB']\n"
     ]
    }
   ],
   "source": [
    "books=['to kill a mockingbird','1984','brave new world']\n",
    "#expected output ['to-kill-a-mockingbird',2006,'dlroW_weN_evarB']\n",
    "b=\"-\".join(books[0].split(\" \"))\n",
    "b\n",
    "c=list(books[1])\n",
    "d=int(c[0])+int(c[1])+int(c[2])+int(c[3])\n",
    "e=int(books[1])+d\n",
    "f=books[2][::-1]\n",
    "m=(books[2].title())[::-1]\n",
    "s=\"_\".join(m.split(\" \"))\n",
    "s\n",
    "lis1=[b,e,s]\n",
    "print(lis1)"
   ]
  },
  {
   "cell_type": "code",
   "execution_count": null,
   "id": "a0d35a31-eb1b-4694-a153-96c30eb882c3",
   "metadata": {},
   "outputs": [],
   "source": []
  },
  {
   "cell_type": "code",
   "execution_count": null,
   "id": "c202bf02-a0df-49ea-965d-37cd051d0319",
   "metadata": {},
   "outputs": [],
   "source": []
  }
 ],
 "metadata": {
  "kernelspec": {
   "display_name": "Python 3 (ipykernel)",
   "language": "python",
   "name": "python3"
  },
  "language_info": {
   "codemirror_mode": {
    "name": "ipython",
    "version": 3
   },
   "file_extension": ".py",
   "mimetype": "text/x-python",
   "name": "python",
   "nbconvert_exporter": "python",
   "pygments_lexer": "ipython3",
   "version": "3.11.7"
  }
 },
 "nbformat": 4,
 "nbformat_minor": 5
}
